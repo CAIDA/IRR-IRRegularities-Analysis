{
 "cells": [
  {
   "cell_type": "markdown",
   "id": "ca22d101",
   "metadata": {},
   "source": [
    "This software is Copyright © 2024 The Regents of the University of California. All Rights Reserved. Permission to copy, modify, and distribute this software and its documentation for educational, research and non-profit purposes, without fee, and without a written agreement is hereby granted, provided that the above copyright notice, this paragraph and the following three paragraphs appear in all copies. Permission to make commercial use of this software may be obtained by contacting:\n",
    "\n",
    "Office of Innovation and Commercialization\n",
    "\n",
    "9500 Gilman Drive, Mail Code 0910\n",
    "\n",
    "University of California\n",
    "\n",
    "La Jolla, CA 92093-0910\n",
    "\n",
    "(858) 534-5815\n",
    "\n",
    "invent@ucsd.edu\n",
    "\n",
    "This software program and documentation are copyrighted by The Regents of the University of California. The software program and documentation are supplied “as is”, without any accompanying services from The Regents. The Regents does not warrant that the operation of the program will be uninterrupted or error-free. The end-user understands that the program was developed for research purposes and is advised not to rely exclusively on the program for any reason.\n",
    "\n",
    "IN NO EVENT SHALL THE UNIVERSITY OF CALIFORNIA BE LIABLE TO ANY PARTY FOR DIRECT, INDIRECT, SPECIAL, INCIDENTAL, OR CONSEQUENTIAL DAMAGES, INCLUDING LOST PROFITS, ARISING OUT OF THE USE OF THIS SOFTWARE AND ITS DOCUMENTATION, EVEN IF THE UNIVERSITY OF CALIFORNIA HAS BEEN ADVISED OF THE POSSIBILITY OF SUCH DAMAGE. THE UNIVERSITY OF CALIFORNIA SPECIFICALLY DISCLAIMS ANY WARRANTIES, INCLUDING, BUT NOT LIMITED TO, THE IMPLIED WARRANTIES OF MERCHANTABILITY AND FITNESS FOR A PARTICULAR PURPOSE. THE SOFTWARE PROVIDED HEREUNDER IS ON AN “AS IS” BASIS, AND THE UNIVERSITY OF CALIFORNIA HAS NO OBLIGATIONS TO PROVIDE MAINTENANCE, SUPPORT, UPDATES, ENHANCEMENTS, OR MODIFICATIONS."
   ]
  },
  {
   "cell_type": "markdown",
   "id": "b84a063e",
   "metadata": {},
   "source": [
    "# This notebook calculates the overlap between prefix origin pairs in IRR and BGP (Paper section 5.1.3)\n",
    "\n",
    "This notenook requires the caida prefix2as dataset to run:  https://www.caida.org/catalog/datasets/routeviews-prefix2as/"
   ]
  },
  {
   "cell_type": "code",
   "execution_count": 30,
   "id": "eb7397a0",
   "metadata": {},
   "outputs": [],
   "source": [
    "import pandas as pd\n",
    "import numpy as np\n",
    "from datetime import datetime\n",
    "import time\n",
    "import gzip\n",
    "import json\n",
    "import bz2"
   ]
  },
  {
   "cell_type": "markdown",
   "id": "4291d726",
   "metadata": {},
   "source": [
    "# Load the Data"
   ]
  },
  {
   "cell_type": "markdown",
   "id": "39c1f9dd",
   "metadata": {},
   "source": [
    "## Helper functions and variables"
   ]
  },
  {
   "cell_type": "code",
   "execution_count": 2,
   "id": "e0fb8430",
   "metadata": {},
   "outputs": [],
   "source": [
    "def delta_date(x):\n",
    "    return (str_to_date(x['end_date']) - str_to_date(x['start_date'])).days + 1"
   ]
  },
  {
   "cell_type": "code",
   "execution_count": 3,
   "id": "1016b57b",
   "metadata": {},
   "outputs": [],
   "source": [
    "def str_to_date(d):\n",
    "    return datetime.strptime(d, \"%Y-%m-%d\")"
   ]
  },
  {
   "cell_type": "code",
   "execution_count": 253,
   "id": "b127bcd5",
   "metadata": {},
   "outputs": [],
   "source": [
    "def overlap_db(db):\n",
    "    overlap = db.merge(bgp, left_on=['route', 'origin'], right_on=['prefix', 'asn'], suffixes=('_route', '_prefix'))\n",
    "    return overlap"
   ]
  },
  {
   "cell_type": "markdown",
   "id": "fb740030",
   "metadata": {},
   "source": [
    "## Load BGP\n",
    "\n",
    "Provide the path of downloaded prefix2as file"
   ]
  },
  {
   "cell_type": "code",
   "execution_count": 8,
   "id": "ab3f9676",
   "metadata": {},
   "outputs": [],
   "source": [
    "bgpsource = []\n",
    "with gzip.open('data/routeviews-rv2-20240101-1200.pfx2as.gz', 'rt') as file:\n",
    "    for line in file:\n",
    "        data = line.strip().split()\n",
    "        for asn in data[2].split('_'):\n",
    "            bgpsource.append((data[0]+'/'+data[1], 'AS'+asn))\n",
    "\n",
    "bgp = pd.DataFrame(bgpsource, columns=['prefix', 'asn'])"
   ]
  },
  {
   "cell_type": "code",
   "execution_count": 9,
   "id": "40f5e250",
   "metadata": {},
   "outputs": [
    {
     "data": {
      "text/html": [
       "<div>\n",
       "<style scoped>\n",
       "    .dataframe tbody tr th:only-of-type {\n",
       "        vertical-align: middle;\n",
       "    }\n",
       "\n",
       "    .dataframe tbody tr th {\n",
       "        vertical-align: top;\n",
       "    }\n",
       "\n",
       "    .dataframe thead th {\n",
       "        text-align: right;\n",
       "    }\n",
       "</style>\n",
       "<table border=\"1\" class=\"dataframe\">\n",
       "  <thead>\n",
       "    <tr style=\"text-align: right;\">\n",
       "      <th></th>\n",
       "      <th>prefix</th>\n",
       "      <th>asn</th>\n",
       "    </tr>\n",
       "  </thead>\n",
       "  <tbody>\n",
       "    <tr>\n",
       "      <th>0</th>\n",
       "      <td>1.0.0.0/24</td>\n",
       "      <td>AS13335</td>\n",
       "    </tr>\n",
       "    <tr>\n",
       "      <th>1</th>\n",
       "      <td>1.0.4.0/22</td>\n",
       "      <td>AS38803</td>\n",
       "    </tr>\n",
       "    <tr>\n",
       "      <th>2</th>\n",
       "      <td>1.0.5.0/24</td>\n",
       "      <td>AS38803</td>\n",
       "    </tr>\n",
       "    <tr>\n",
       "      <th>3</th>\n",
       "      <td>1.0.16.0/24</td>\n",
       "      <td>AS2519</td>\n",
       "    </tr>\n",
       "    <tr>\n",
       "      <th>4</th>\n",
       "      <td>1.0.32.0/24</td>\n",
       "      <td>AS141748</td>\n",
       "    </tr>\n",
       "    <tr>\n",
       "      <th>...</th>\n",
       "      <td>...</td>\n",
       "      <td>...</td>\n",
       "    </tr>\n",
       "    <tr>\n",
       "      <th>993518</th>\n",
       "      <td>223.255.250.0/24</td>\n",
       "      <td>AS63199</td>\n",
       "    </tr>\n",
       "    <tr>\n",
       "      <th>993519</th>\n",
       "      <td>223.255.251.0/24</td>\n",
       "      <td>AS63199</td>\n",
       "    </tr>\n",
       "    <tr>\n",
       "      <th>993520</th>\n",
       "      <td>223.255.252.0/24</td>\n",
       "      <td>AS58519</td>\n",
       "    </tr>\n",
       "    <tr>\n",
       "      <th>993521</th>\n",
       "      <td>223.255.253.0/24</td>\n",
       "      <td>AS58519</td>\n",
       "    </tr>\n",
       "    <tr>\n",
       "      <th>993522</th>\n",
       "      <td>223.255.254.0/24</td>\n",
       "      <td>AS55415</td>\n",
       "    </tr>\n",
       "  </tbody>\n",
       "</table>\n",
       "<p>993523 rows × 2 columns</p>\n",
       "</div>"
      ],
      "text/plain": [
       "                  prefix       asn\n",
       "0             1.0.0.0/24   AS13335\n",
       "1             1.0.4.0/22   AS38803\n",
       "2             1.0.5.0/24   AS38803\n",
       "3            1.0.16.0/24    AS2519\n",
       "4            1.0.32.0/24  AS141748\n",
       "...                  ...       ...\n",
       "993518  223.255.250.0/24   AS63199\n",
       "993519  223.255.251.0/24   AS63199\n",
       "993520  223.255.252.0/24   AS58519\n",
       "993521  223.255.253.0/24   AS58519\n",
       "993522  223.255.254.0/24   AS55415\n",
       "\n",
       "[993523 rows x 2 columns]"
      ]
     },
     "execution_count": 9,
     "metadata": {},
     "output_type": "execute_result"
    }
   ],
   "source": [
    "bgp"
   ]
  },
  {
   "cell_type": "markdown",
   "id": "45a95810",
   "metadata": {},
   "source": [
    "## Load Altdb"
   ]
  },
  {
   "cell_type": "code",
   "execution_count": 10,
   "id": "b9b1f80d",
   "metadata": {},
   "outputs": [],
   "source": [
    "irrs = ['afrinic', 'jpirr', 'canarie', 'apnic', 'arin-nonauth', 'level3', 'nestegg', 'bboi', 'idnic', 'wcgdb', 'rgnet', 'tc', 'lacnic', 'ripe-nonauth', 'openface', 'panix', 'arin', 'radb', 'altdb', 'ripe', 'nttcom', 'bell']"
   ]
  },
  {
   "cell_type": "code",
   "execution_count": 13,
   "id": "a08d2cff",
   "metadata": {},
   "outputs": [
    {
     "name": "stdout",
     "output_type": "stream",
     "text": [
      "arin-nonauth no longer exist\n",
      "rgnet no longer exist\n",
      "openface no longer exist\n"
     ]
    }
   ],
   "source": [
    "irr_dict = {}\n",
    "for irr in irrs:\n",
    "    try:\n",
    "        irr_dict[irr] = pd.read_json('data/{}.route.json.gz'.format(irr), lines=True)\n",
    "    except FileNotFoundError:\n",
    "        print(irr, 'no longer exist')"
   ]
  },
  {
   "cell_type": "markdown",
   "id": "ee921264",
   "metadata": {},
   "source": [
    "# Calculate number of prefix-origin pairs in every IRR, overlap of prefix-origin pairs with BGP and all IRRs"
   ]
  },
  {
   "cell_type": "code",
   "execution_count": 25,
   "id": "bbebbee5",
   "metadata": {},
   "outputs": [],
   "source": [
    "def numerator_overlap(df):\n",
    "    overlap=len(df.merge(bgp, left_on=['route', 'origin'], right_on=['prefix', 'asn']).drop_duplicates(['route', 'origin']))\n",
    "    return overlap"
   ]
  },
  {
   "cell_type": "code",
   "execution_count": 26,
   "id": "a188340a",
   "metadata": {},
   "outputs": [],
   "source": [
    "def denominator(df):\n",
    "    return len(df.drop_duplicates(['route', 'origin']))"
   ]
  },
  {
   "cell_type": "code",
   "execution_count": 27,
   "id": "5a6409d1",
   "metadata": {},
   "outputs": [],
   "source": [
    "def percentage_frac(df):\n",
    "    num=numerator_overlap(df)\n",
    "    denom=denominator(df)\n",
    "    return str(round((num*100/denom),2))+\"\\% (\"+str(num)+\"/\"+str(denom)+\")\""
   ]
  },
  {
   "cell_type": "code",
   "execution_count": 32,
   "id": "cdc010dd",
   "metadata": {},
   "outputs": [
    {
     "name": "stdout",
     "output_type": "stream",
     "text": [
      "IRR & total prefix origin pairs in IRR & percentage of overlapping prefix-origin pairs \\\\\n",
      "afrinic & 110346 & 20.3\\% (22395/110346) \\\\\n",
      "jpirr & 12976 & 66.55\\% (8636/12976) \\\\\n",
      "canarie & 1424 & 54.99\\% (783/1424) \\\\\n",
      "apnic & 694344 & 15.53\\% (107842/694344) \\\\\n",
      "level3 & 74912 & 21.75\\% (16291/74912) \\\\\n",
      "nestegg & 4 & 0.0\\% (0/4) \\\\\n",
      "bboi & 840 & 42.26\\% (355/840) \\\\\n",
      "idnic & 6078 & 59.3\\% (3604/6078) \\\\\n",
      "wcgdb & 52035 & 6.03\\% (3137/52035) \\\\\n",
      "tc & 21324 & 51.7\\% (11024/21324) \\\\\n",
      "lacnic & 9739 & 66.91\\% (6516/9739) \\\\\n",
      "ripe-nonauth & 51993 & 23.39\\% (12162/51993) \\\\\n",
      "panix & 40 & 15.0\\% (6/40) \\\\\n",
      "arin & 79146 & 57.12\\% (45211/79146) \\\\\n",
      "radb & 1200188 & 27.91\\% (334963/1200188) \\\\\n",
      "altdb & 24523 & 51.34\\% (12590/24523) \\\\\n",
      "ripe & 406607 & 52.08\\% (211764/406607) \\\\\n",
      "nttcom & 379455 & 13.76\\% (52203/379455) \\\\\n",
      "bell & 29254 & 2.93\\% (857/29254) \\\\\n"
     ]
    }
   ],
   "source": [
    "print(\"IRR\",\"&\",\"total prefix origin pairs in IRR\",\"&\", \"percentage of overlapping prefix-origin pairs\", chr(92)+chr(92))\n",
    "for i in irr_dict:\n",
    "    print(i,\"&\",denominator(irr_dict[i]),\"&\", percentage_frac(irr_dict[i]), chr(92)+chr(92))"
   ]
  },
  {
   "cell_type": "code",
   "execution_count": null,
   "id": "4b317cf8",
   "metadata": {},
   "outputs": [],
   "source": []
  }
 ],
 "metadata": {
  "kernelspec": {
   "display_name": "Python 3 (ipykernel)",
   "language": "python",
   "name": "python3"
  },
  "language_info": {
   "codemirror_mode": {
    "name": "ipython",
    "version": 3
   },
   "file_extension": ".py",
   "mimetype": "text/x-python",
   "name": "python",
   "nbconvert_exporter": "python",
   "pygments_lexer": "ipython3",
   "version": "3.9.1"
  },
  "toc": {
   "base_numbering": 1,
   "nav_menu": {},
   "number_sections": true,
   "sideBar": true,
   "skip_h1_title": false,
   "title_cell": "Table of Contents",
   "title_sidebar": "Contents",
   "toc_cell": false,
   "toc_position": {},
   "toc_section_display": true,
   "toc_window_display": true
  }
 },
 "nbformat": 4,
 "nbformat_minor": 5
}
