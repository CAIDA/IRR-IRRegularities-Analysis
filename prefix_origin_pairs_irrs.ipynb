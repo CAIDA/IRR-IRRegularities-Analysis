{
 "cells": [
  {
   "cell_type": "code",
   "execution_count": null,
   "id": "487cc4d7",
   "metadata": {},
   "outputs": [],
   "source": [
    "import pandas as pd\n",
    "import numpy as np\n",
    "from datetime import datetime\n",
    "import time\n",
    "#import matplotlib.pyplot as plt\n",
    "import gzip\n",
    "import json\n",
    "#from tabulate import tabulate\n",
    "import bz2\n",
    "#import os\n",
    "from tqdm import tqdm"
   ]
  },
  {
   "cell_type": "markdown",
   "id": "a7d3a461",
   "metadata": {},
   "source": [
    "# Load the Data"
   ]
  },
  {
   "cell_type": "markdown",
   "id": "383ccead",
   "metadata": {},
   "source": [
    "## Helper functions and variables"
   ]
  },
  {
   "cell_type": "code",
   "execution_count": 27,
   "id": "9589c6b1",
   "metadata": {
    "code_folding": []
   },
   "outputs": [],
   "source": [
    "def delta_date(x):\n",
    "    return (str_to_date(x['end_date']) - str_to_date(x['start_date'])).days + 1"
   ]
  },
  {
   "cell_type": "code",
   "execution_count": 28,
   "id": "2db086e7",
   "metadata": {},
   "outputs": [],
   "source": [
    "def str_to_date(d):\n",
    "    return datetime.strptime(d, \"%Y-%m-%d\")"
   ]
  },
  {
   "cell_type": "code",
   "execution_count": 29,
   "id": "a7c634b1",
   "metadata": {},
   "outputs": [],
   "source": [
    "datapath=\"irrs/\""
   ]
  },
  {
   "cell_type": "code",
   "execution_count": 31,
   "id": "ac94fade",
   "metadata": {},
   "outputs": [],
   "source": [
    "def overlap_db(db):\n",
    "    timeless_overlap = db.merge(bgp, left_on='route', right_on='prefix', suffixes=('_route', '_prefix'))\n",
    "    timeless_overlap['end_date'] = pd.to_datetime(timeless_overlap['end_date'], format=\"%Y-%m-%d\")\n",
    "    timeless_overlap['start_date'] = pd.to_datetime(timeless_overlap['start_date'], format=\"%Y-%m-%d\")\n",
    "    timeless_overlap['start']=pd.to_datetime(timeless_overlap['start'], unit='s').dt.strftime('%Y-%m-%d')\n",
    "    timeless_overlap['end']=pd.to_datetime(timeless_overlap['end'], unit='s').dt.strftime('%Y-%m-%d')\n",
    "    #timeless_overlap['origin']=timeless_overlap['origin'].str.replace('AS',\"\")\n",
    "    actual_overlap = timeless_overlap[(timeless_overlap.end_date > timeless_overlap.start)&(timeless_overlap.start_date < timeless_overlap.end)]\n",
    "    actual_overlap['asn']='AS'+actual_overlap['asn'].astype(str)\n",
    "    return actual_overlap"
   ]
  },
  {
   "cell_type": "markdown",
   "id": "60b3e1eb",
   "metadata": {},
   "source": [
    "## Load BGP"
   ]
  },
  {
   "cell_type": "code",
   "execution_count": 33,
   "id": "1022cfb0",
   "metadata": {},
   "outputs": [],
   "source": [
    "bgp = pd.read_csv('pfx2as_2021_2023_merged.csv.gz', names=['prefix', 'asn', 'start', 'end'], delimiter=' ',low_memory=False)\n",
    "bgp['duration'] = bgp['end'] - bgp['start']\n",
    "bgpagg = bgp.groupby(['prefix', 'asn']).agg({'duration':'sum'}).reset_index()\n",
    "bgpagg['asn']='AS'+bgpagg['asn'].astype(str)"
   ]
  },
  {
   "cell_type": "markdown",
   "id": "b3bdf1b7",
   "metadata": {},
   "source": [
    "## Load Altdb"
   ]
  },
  {
   "cell_type": "code",
   "execution_count": 34,
   "id": "ac6fbafe",
   "metadata": {
    "scrolled": true
   },
   "outputs": [
    {
     "name": "stderr",
     "output_type": "stream",
     "text": [
      "<ipython-input-31-bca60fb6450b>:9: SettingWithCopyWarning: \n",
      "A value is trying to be set on a copy of a slice from a DataFrame.\n",
      "Try using .loc[row_indexer,col_indexer] = value instead\n",
      "\n",
      "See the caveats in the documentation: https://pandas.pydata.org/pandas-docs/stable/user_guide/indexing.html#returning-a-view-versus-a-copy\n",
      "  actual_overlap['asn']='AS'+actual_overlap['asn'].astype(str)\n"
     ]
    }
   ],
   "source": [
    "altdb = pd.read_json(datapath+'altdb/altdb.route.json.gz', lines=True)\n",
    "altdb['lifetime'] = altdb.apply(delta_date, axis=1)\n",
    "altdb_overlap=overlap_db(altdb)\n",
    "altdbagg = altdb_overlap.groupby(['route', 'origin']).agg({'lifetime':'sum'}).reset_index()"
   ]
  },
  {
   "cell_type": "markdown",
   "id": "88356d28",
   "metadata": {},
   "source": [
    "## Load Radb"
   ]
  },
  {
   "cell_type": "code",
   "execution_count": 400,
   "id": "df09ef47",
   "metadata": {
    "scrolled": true
   },
   "outputs": [
    {
     "name": "stderr",
     "output_type": "stream",
     "text": [
      "<ipython-input-399-bca60fb6450b>:9: SettingWithCopyWarning: \n",
      "A value is trying to be set on a copy of a slice from a DataFrame.\n",
      "Try using .loc[row_indexer,col_indexer] = value instead\n",
      "\n",
      "See the caveats in the documentation: https://pandas.pydata.org/pandas-docs/stable/user_guide/indexing.html#returning-a-view-versus-a-copy\n",
      "  actual_overlap['asn']='AS'+actual_overlap['asn'].astype(str)\n"
     ]
    }
   ],
   "source": [
    "radb = pd.read_json(datapath+'radb/radb.route.json.gz', lines=True)\n",
    "radb['lifetime'] = radb.apply(delta_date, axis=1)\n",
    "radb_overlap=overlap_db(radb)\n",
    "radbagg = radb_overlap.groupby(['route', 'origin']).agg({'lifetime':'sum'}).reset_index()"
   ]
  },
  {
   "cell_type": "markdown",
   "id": "4460d2bb",
   "metadata": {},
   "source": [
    "## Load Afrinic"
   ]
  },
  {
   "cell_type": "code",
   "execution_count": 288,
   "id": "9219fd99",
   "metadata": {},
   "outputs": [],
   "source": [
    "afrinic = pd.read_json(datapath+'afrinic/afrinic.route.json.gz', lines=True)\n",
    "afrinic['lifetime'] = afrinic.apply(delta_date, axis=1)\n",
    "afrinic_overlap=overlap_db(afrinic)\n",
    "afrinicagg = afrinic_overlap.groupby(['route', 'origin']).agg({'lifetime':'sum'}).reset_index()"
   ]
  },
  {
   "cell_type": "markdown",
   "id": "53e3cc78",
   "metadata": {},
   "source": [
    "## Load Jpirr"
   ]
  },
  {
   "cell_type": "code",
   "execution_count": 289,
   "id": "7167a544",
   "metadata": {},
   "outputs": [],
   "source": [
    "jpirr = pd.read_json(datapath+'jpirr/jpirr.route.json.gz', lines=True)\n",
    "jpirr['lifetime'] = jpirr.apply(delta_date, axis=1)\n",
    "jpirr_overlap=overlap_db(jpirr)\n",
    "jpirragg = jpirr_overlap.groupby(['route', 'origin']).agg({'lifetime':'sum'}).reset_index()"
   ]
  },
  {
   "cell_type": "markdown",
   "id": "093e25c3",
   "metadata": {},
   "source": [
    "## Load Canarie"
   ]
  },
  {
   "cell_type": "code",
   "execution_count": 290,
   "id": "59c510d4",
   "metadata": {},
   "outputs": [],
   "source": [
    "canarie = pd.read_json(datapath+'canarie/canarie.route.json.gz', lines=True)\n",
    "canarie['lifetime'] = canarie.apply(delta_date, axis=1)\n",
    "canarie_overlap=overlap_db(canarie)\n",
    "canarieagg = canarie_overlap.groupby(['route', 'origin']).agg({'lifetime':'sum'}).reset_index()"
   ]
  },
  {
   "cell_type": "markdown",
   "id": "c3942ac3",
   "metadata": {},
   "source": [
    "## Load Apnic"
   ]
  },
  {
   "cell_type": "code",
   "execution_count": 291,
   "id": "bd88b462",
   "metadata": {},
   "outputs": [],
   "source": [
    "apnic = pd.read_json(datapath+'apnic/apnic.route.json.gz', lines=True)\n",
    "apnic['lifetime'] = apnic.apply(delta_date, axis=1)\n",
    "apnic_overlap=overlap_db(apnic)\n",
    "apnicagg = apnic_overlap.groupby(['route', 'origin']).agg({'lifetime':'sum'}).reset_index()"
   ]
  },
  {
   "cell_type": "markdown",
   "id": "c3449780",
   "metadata": {},
   "source": [
    "## Load Arin-Nonauth"
   ]
  },
  {
   "cell_type": "code",
   "execution_count": 292,
   "id": "b2711f0d",
   "metadata": {},
   "outputs": [],
   "source": [
    "arin_nonauth = pd.read_json(datapath+'arin-nonauth/arin-nonauth.route.json.gz', lines=True)\n",
    "arin_nonauth['lifetime'] = arin_nonauth.apply(delta_date, axis=1)\n",
    "arin_nonauth_overlap=overlap_db(arin_nonauth)\n",
    "arin_nonauthagg = arin_nonauth_overlap.groupby(['route', 'origin']).agg({'lifetime':'sum'}).reset_index()"
   ]
  },
  {
   "cell_type": "markdown",
   "id": "b600a775",
   "metadata": {},
   "source": [
    "## Load Level3"
   ]
  },
  {
   "cell_type": "code",
   "execution_count": 293,
   "id": "079cef5d",
   "metadata": {},
   "outputs": [],
   "source": [
    "level3 = pd.read_json(datapath+'level3/level3.route.json.gz', lines=True)\n",
    "level3['lifetime'] = level3.apply(delta_date, axis=1)\n",
    "level3_overlap=overlap_db(level3)\n",
    "level3agg = level3_overlap.groupby(['route', 'origin']).agg({'lifetime':'sum'}).reset_index()"
   ]
  },
  {
   "cell_type": "markdown",
   "id": "38d1dbf7",
   "metadata": {},
   "source": [
    "## Load Nestegg"
   ]
  },
  {
   "cell_type": "code",
   "execution_count": 294,
   "id": "a6e58ac8",
   "metadata": {},
   "outputs": [],
   "source": [
    "nestegg = pd.read_json(datapath+'nestegg/nestegg.route.json.gz', lines=True)\n",
    "nestegg['lifetime'] = nestegg.apply(delta_date, axis=1)\n",
    "nestegg_overlap=overlap_db(nestegg)\n",
    "nesteggagg = nestegg_overlap.groupby(['route', 'origin']).agg({'lifetime':'sum'}).reset_index()"
   ]
  },
  {
   "cell_type": "markdown",
   "id": "e9ce0d6c",
   "metadata": {},
   "source": [
    "## Load BBoi"
   ]
  },
  {
   "cell_type": "code",
   "execution_count": 295,
   "id": "781e5483",
   "metadata": {},
   "outputs": [],
   "source": [
    "bboi= pd.read_json(datapath+'bboi/bboi.route.json.gz', lines=True)\n",
    "bboi['lifetime'] = bboi.apply(delta_date, axis=1)\n",
    "bboi_overlap=overlap_db(bboi)\n",
    "bboiagg = bboi_overlap.groupby(['route', 'origin']).agg({'lifetime':'sum'}).reset_index()"
   ]
  },
  {
   "cell_type": "markdown",
   "id": "ace9170b",
   "metadata": {},
   "source": [
    "## Load idnic"
   ]
  },
  {
   "cell_type": "code",
   "execution_count": 296,
   "id": "9168c31d",
   "metadata": {},
   "outputs": [],
   "source": [
    "idnic= pd.read_json(datapath+'idnic/idnic.route.json.gz', lines=True)\n",
    "idnic['lifetime'] = idnic.apply(delta_date, axis=1)\n",
    "idnic_overlap=overlap_db(idnic)\n",
    "idnicagg = idnic_overlap.groupby(['route', 'origin']).agg({'lifetime':'sum'}).reset_index()"
   ]
  },
  {
   "cell_type": "markdown",
   "id": "f3dbae56",
   "metadata": {},
   "source": [
    "## Load wcgdb"
   ]
  },
  {
   "cell_type": "code",
   "execution_count": 297,
   "id": "69da483d",
   "metadata": {},
   "outputs": [],
   "source": [
    "wcgdb= pd.read_json(datapath+'wcgdb/wcgdb.route.json.gz', lines=True)\n",
    "wcgdb['lifetime'] = wcgdb.apply(delta_date, axis=1)\n",
    "wcgdb_overlap=overlap_db(wcgdb)\n",
    "wcgdbagg = wcgdb_overlap.groupby(['route', 'origin']).agg({'lifetime':'sum'}).reset_index()"
   ]
  },
  {
   "cell_type": "markdown",
   "id": "2bcf7ee7",
   "metadata": {},
   "source": [
    "## Load RGNET"
   ]
  },
  {
   "cell_type": "code",
   "execution_count": 298,
   "id": "d5515956",
   "metadata": {},
   "outputs": [],
   "source": [
    "rgnet= pd.read_json(datapath+'rgnet/rgnet.route.json.gz', lines=True)\n",
    "rgnet['lifetime'] = rgnet.apply(delta_date, axis=1)\n",
    "rgnet_overlap=overlap_db(rgnet)\n",
    "rgnetagg = rgnet_overlap.groupby(['route', 'origin']).agg({'lifetime':'sum'}).reset_index()"
   ]
  },
  {
   "cell_type": "markdown",
   "id": "d8f1479f",
   "metadata": {},
   "source": [
    "## Load tc"
   ]
  },
  {
   "cell_type": "code",
   "execution_count": 299,
   "id": "132228b3",
   "metadata": {},
   "outputs": [],
   "source": [
    "tc= pd.read_json(datapath+'tc/tc.route.json.gz', lines=True)\n",
    "tc['lifetime'] = tc.apply(delta_date, axis=1)\n",
    "tc_overlap=overlap_db(tc)\n",
    "tcagg = tc_overlap.groupby(['route', 'origin']).agg({'lifetime':'sum'}).reset_index()"
   ]
  },
  {
   "cell_type": "markdown",
   "id": "c344d85b",
   "metadata": {},
   "source": [
    "## Load Lacnic"
   ]
  },
  {
   "cell_type": "code",
   "execution_count": 300,
   "id": "83f8164b",
   "metadata": {},
   "outputs": [],
   "source": [
    "lacnic= pd.read_json(datapath+'lacnic/lacnic.route.json.gz', lines=True)\n",
    "lacnic['lifetime'] = lacnic.apply(delta_date, axis=1)\n",
    "lacnic_overlap=overlap_db(lacnic)\n",
    "lacnicagg = lacnic_overlap.groupby(['route', 'origin']).agg({'lifetime':'sum'}).reset_index()"
   ]
  },
  {
   "cell_type": "markdown",
   "id": "c58a688e",
   "metadata": {},
   "source": [
    "## Load Ripe-nonauth"
   ]
  },
  {
   "cell_type": "code",
   "execution_count": 301,
   "id": "e6226c31",
   "metadata": {},
   "outputs": [],
   "source": [
    "ripe_nonauth= pd.read_json(datapath+'ripe-nonauth/ripe-nonauth.route.json.gz', lines=True)\n",
    "ripe_nonauth['lifetime'] = ripe_nonauth.apply(delta_date, axis=1)\n",
    "ripe_nonauth_overlap=overlap_db(ripe_nonauth)\n",
    "ripe_nonauthagg = ripe_nonauth_overlap.groupby(['route', 'origin']).agg({'lifetime':'sum'}).reset_index()"
   ]
  },
  {
   "cell_type": "markdown",
   "id": "3abf3a85",
   "metadata": {},
   "source": [
    "## Load Openface"
   ]
  },
  {
   "cell_type": "code",
   "execution_count": 302,
   "id": "5da42878",
   "metadata": {},
   "outputs": [],
   "source": [
    "openface= pd.read_json(datapath+'openface/openface.route.json.gz', lines=True)\n",
    "openface['lifetime'] = openface.apply(delta_date, axis=1)\n",
    "openface_overlap=overlap_db(openface)\n",
    "openfaceagg = openface_overlap.groupby(['route', 'origin']).agg({'lifetime':'sum'}).reset_index()"
   ]
  },
  {
   "cell_type": "markdown",
   "id": "a30405ac",
   "metadata": {},
   "source": [
    "## Load Panix"
   ]
  },
  {
   "cell_type": "code",
   "execution_count": 303,
   "id": "549a7f0d",
   "metadata": {},
   "outputs": [],
   "source": [
    "panix= pd.read_json(datapath+'panix/panix.route.json.gz', lines=True)\n",
    "panix['lifetime'] = panix.apply(delta_date, axis=1)\n",
    "panix_overlap=overlap_db(panix)\n",
    "panixagg = panix_overlap.groupby(['route', 'origin']).agg({'lifetime':'sum'}).reset_index()"
   ]
  },
  {
   "cell_type": "markdown",
   "id": "9d1139e9",
   "metadata": {},
   "source": [
    "## Load Arin"
   ]
  },
  {
   "cell_type": "code",
   "execution_count": 304,
   "id": "cc1a7960",
   "metadata": {},
   "outputs": [],
   "source": [
    "arin= pd.read_json(datapath+'arin/arin.route.json.gz', lines=True)\n",
    "arin['lifetime'] = arin.apply(delta_date, axis=1)\n",
    "arin_overlap=overlap_db(arin)\n",
    "arinagg = arin_overlap.groupby(['route', 'origin']).agg({'lifetime':'sum'}).reset_index()"
   ]
  },
  {
   "cell_type": "markdown",
   "id": "218020a4",
   "metadata": {},
   "source": [
    "## Load Ripe"
   ]
  },
  {
   "cell_type": "code",
   "execution_count": 305,
   "id": "cfd11d8d",
   "metadata": {},
   "outputs": [],
   "source": [
    "ripe= pd.read_json(datapath+'ripe/ripe.route.json.gz', lines=True)\n",
    "ripe['lifetime'] = ripe.apply(delta_date, axis=1)\n",
    "ripe_overlap=overlap_db(ripe)\n",
    "ripeagg = ripe_overlap.groupby(['route', 'origin']).agg({'lifetime':'sum'}).reset_index()"
   ]
  },
  {
   "cell_type": "markdown",
   "id": "b713460e",
   "metadata": {},
   "source": [
    "## Load Nttcom"
   ]
  },
  {
   "cell_type": "code",
   "execution_count": 306,
   "id": "01cbf023",
   "metadata": {},
   "outputs": [],
   "source": [
    "nttcom= pd.read_json(datapath+'nttcom/nttcom.route.json.gz', lines=True)\n",
    "nttcom['lifetime'] = nttcom.apply(delta_date, axis=1)\n",
    "nttcom_overlap=overlap_db(nttcom)\n",
    "nttcomagg = nttcom_overlap.groupby(['route', 'origin']).agg({'lifetime':'sum'}).reset_index()"
   ]
  },
  {
   "cell_type": "markdown",
   "id": "330f670d",
   "metadata": {},
   "source": [
    "# Table 2: Calculate number of prefix-origin pairs in every IRR, overlap of prefix-origin pairs with BGP and all IRRs, & generate table"
   ]
  },
  {
   "cell_type": "markdown",
   "id": "1546a24e",
   "metadata": {},
   "source": [
    "## Helper functions"
   ]
  },
  {
   "cell_type": "code",
   "execution_count": 307,
   "id": "c97c97fa",
   "metadata": {},
   "outputs": [],
   "source": [
    "def numerator_overlap(dfagg):\n",
    "    overlap=len(dfagg.merge(aggbgp, left_on=['route', 'origin'], right_on=['prefix', 'asn']))\n",
    "    return overlap"
   ]
  },
  {
   "cell_type": "code",
   "execution_count": 308,
   "id": "bc68fe2f",
   "metadata": {},
   "outputs": [],
   "source": [
    "def denominator(df):\n",
    "    return len(df)"
   ]
  },
  {
   "cell_type": "code",
   "execution_count": 313,
   "id": "840f0dc5",
   "metadata": {},
   "outputs": [],
   "source": [
    "def percentage_frac(dfagg,df):\n",
    "    num=numerator_overlap(dfagg)\n",
    "    denom=denominator(df)\n",
    "    return str(round((num*100/denom),2))+\"\\% (\"+str(num)+\"/\"+str(denom)+\")\""
   ]
  },
  {
   "cell_type": "code",
   "execution_count": 314,
   "id": "2e666d0b",
   "metadata": {
    "scrolled": true
   },
   "outputs": [
    {
     "name": "stdout",
     "output_type": "stream",
     "text": [
      "\\begin{table}[!h]\n",
      "\\begin{tabular}{l|l|l}\n",
      "\\toprule\n",
      "IRR & \\# Prefix-Origin Pairs & \\% Prefix-Origin Pairs in BGP \\\\\n",
      "\\midrule\n",
      "AFRINIC & 106842 & 20.37\\% (21759/106842) \\\\\n",
      "\\midrule\n",
      "ALTDB & 27493 & 58.35\\% (16043/27493) \\\\\n",
      "\\midrule\n",
      "APNIC & 701196 & 17.32\\% (121480/701196) \\\\\n",
      "\\midrule\n",
      "ARIN & 104298 & 49.35\\% (51467/104298) \\\\\n",
      "\\midrule\n",
      "ARIN-NA & 66126 & 18.4\\% (12169/66126) \\\\\n",
      "\\midrule\n",
      "BBOI & 952 & 51.89\\% (494/952) \\\\\n",
      "\\midrule\n",
      "CANARIE & 1460 & 58.42\\% (853/1460) \\\\\n",
      "\\midrule\n",
      "IDNIC & 6158 & 64.44\\% (3968/6158) \\\\\n",
      "\\midrule\n",
      "JPIRR & 42546 & 21.42\\% (9114/42546) \\\\\n",
      "\\midrule\n",
      "LACNIC & 97908 & 10.01\\% (9800/97908) \\\\\n",
      "\\midrule\n",
      "LEVEL3 & 121534 & 18.47\\% (22452/121534) \\\\\n",
      "\\midrule\n",
      "NESTEGG & 4 & 75.0\\% (3/4) \\\\\n",
      "\\midrule\n",
      "NTTCOM & 502051 & 13.77\\% (69146/502051) \\\\\n",
      "\\midrule\n",
      "OPENFACE & 17 & 41.18\\% (7/17) \\\\\n",
      "\\midrule\n",
      "PANIX & 40 & 15.0\\% (6/40) \\\\\n",
      "\\midrule\n",
      "RADB & 1875251 & 23.7\\% (444479/1875251) \\\\\n",
      "\\midrule\n",
      "RGNET & 44 & 47.73\\% (21/44) \\\\\n",
      "\\midrule\n",
      "RIPE & 469651 & 56.43\\% (265001/469651) \\\\\n",
      "\\midrule\n",
      "RIPE-NA & 54812 & 27.89\\% (15289/54812) \\\\\n",
      "\\midrule\n",
      "TC & 23618 & 63.3\\% (14950/23618) \\\\\n",
      "\\midrule\n",
      "WCGDB & 62852 & 5.59\\% (3514/62852) \\\\\n",
      "\\midrule\n",
      "\\bottomrule\n",
      "\\end{tabular}\n",
      "\\caption{insert}\n",
      "\\end{table}\n"
     ]
    }
   ],
   "source": [
    "print(\"\\\\begin{table}[!h]\")\n",
    "print(\"\\\\begin{tabular}{l|l|l}\")\n",
    "print(\"\\\\toprule\")\n",
    "print(\"IRR & \\# Prefix-Origin Pairs & \\% Prefix-Origin Pairs in BGP \"+chr(92)+chr(92))\n",
    "print(\"\\\\midrule\")\n",
    "print(\"AFRINIC\",\"&\",denominator(afrinic),\"&\", percentage_frac(afrinicagg,afrinic), chr(92)+chr(92))\n",
    "print(\"\\\\midrule\")\n",
    "print(\"ALTDB\",\"&\",denominator(altdb),\"&\", percentage_frac(altdbagg,altdb), chr(92)+chr(92))\n",
    "print(\"\\\\midrule\")\n",
    "print(\"APNIC\",\"&\",denominator(apnic),\"&\", percentage_frac(apnicagg,apnic), chr(92)+chr(92))\n",
    "print(\"\\\\midrule\")\n",
    "print(\"ARIN\",\"&\",denominator(arin),\"&\", percentage_frac(arinagg,arin), chr(92)+chr(92))\n",
    "print(\"\\\\midrule\")\n",
    "print(\"ARIN-NA\",\"&\",denominator(arin_nonauth),\"&\", percentage_frac(arin_nonauthagg,arin_nonauth), chr(92)+chr(92))\n",
    "print(\"\\\\midrule\")\n",
    "print(\"BBOI\",\"&\",denominator(bboi),\"&\", percentage_frac(bboiagg,bboi), chr(92)+chr(92))\n",
    "print(\"\\\\midrule\")\n",
    "print(\"CANARIE\",\"&\",denominator(canarie),\"&\", percentage_frac(canarieagg,canarie), chr(92)+chr(92))\n",
    "print(\"\\\\midrule\")\n",
    "print(\"IDNIC\",\"&\",denominator(idnic),\"&\", percentage_frac(idnicagg,idnic), chr(92)+chr(92))\n",
    "print(\"\\\\midrule\")\n",
    "print(\"JPIRR\",\"&\",denominator(jpirr),\"&\", percentage_frac(jpirragg,jpirr), chr(92)+chr(92))\n",
    "print(\"\\\\midrule\")\n",
    "print(\"LACNIC\",\"&\",denominator(lacnic),\"&\", percentage_frac(lacnicagg,lacnic), chr(92)+chr(92))\n",
    "print(\"\\\\midrule\")\n",
    "print(\"LEVEL3\",\"&\",denominator(level3),\"&\", percentage_frac(level3agg,level3), chr(92)+chr(92))\n",
    "print(\"\\\\midrule\")\n",
    "print(\"NESTEGG\",\"&\",denominator(nestegg),\"&\", percentage_frac(nesteggagg,nestegg), chr(92)+chr(92))\n",
    "print(\"\\\\midrule\")\n",
    "print(\"NTTCOM\",\"&\",denominator(nttcom),\"&\", percentage_frac(nttcomagg,nttcom), chr(92)+chr(92))\n",
    "print(\"\\\\midrule\")\n",
    "print(\"OPENFACE\",\"&\",denominator(openface),\"&\", percentage_frac(openfaceagg,openface), chr(92)+chr(92))\n",
    "print(\"\\\\midrule\")\n",
    "print(\"PANIX\",\"&\",denominator(panix),\"&\", percentage_frac(panixagg,panix), chr(92)+chr(92))\n",
    "print(\"\\\\midrule\")\n",
    "print(\"RADB\",\"&\",denominator(radb),\"&\", percentage_frac(radbagg,radb), chr(92)+chr(92))\n",
    "print(\"\\\\midrule\")\n",
    "print(\"RGNET\",\"&\",denominator(rgnet),\"&\", percentage_frac(rgnetagg,rgnet), chr(92)+chr(92))\n",
    "print(\"\\\\midrule\")\n",
    "print(\"RIPE\",\"&\",denominator(ripe),\"&\", percentage_frac(ripeagg,ripe), chr(92)+chr(92))\n",
    "print(\"\\\\midrule\")\n",
    "print(\"RIPE-NA\",\"&\",denominator(ripe_nonauth),\"&\", percentage_frac(ripe_nonauthagg,ripe_nonauth), chr(92)+chr(92))\n",
    "print(\"\\\\midrule\")\n",
    "print(\"TC\",\"&\",denominator(tc),\"&\", percentage_frac(tcagg,tc), chr(92)+chr(92))\n",
    "print(\"\\\\midrule\")\n",
    "print(\"WCGDB\",\"&\",denominator(wcgdb),\"&\", percentage_frac(wcgdbagg,wcgdb), chr(92)+chr(92))\n",
    "print(\"\\\\midrule\")\n",
    "print(\"\\\\bottomrule\")\n",
    "print(\"\\\\end{tabular}\")\n",
    "print(\"\\\\caption{insert}\")\n",
    "print(\"\\\\end{table}\")"
   ]
  },
  {
   "cell_type": "code",
   "execution_count": null,
   "id": "83ac9901",
   "metadata": {},
   "outputs": [],
   "source": []
  }
 ],
 "metadata": {
  "kernelspec": {
   "display_name": "Python 3",
   "language": "python",
   "name": "python3"
  },
  "language_info": {
   "codemirror_mode": {
    "name": "ipython",
    "version": 3
   },
   "file_extension": ".py",
   "mimetype": "text/x-python",
   "name": "python",
   "nbconvert_exporter": "python",
   "pygments_lexer": "ipython3",
   "version": "3.8.3"
  },
  "toc": {
   "base_numbering": 1,
   "nav_menu": {},
   "number_sections": true,
   "sideBar": true,
   "skip_h1_title": false,
   "title_cell": "Table of Contents",
   "title_sidebar": "Contents",
   "toc_cell": false,
   "toc_position": {},
   "toc_section_display": true,
   "toc_window_display": false
  }
 },
 "nbformat": 4,
 "nbformat_minor": 5
}
