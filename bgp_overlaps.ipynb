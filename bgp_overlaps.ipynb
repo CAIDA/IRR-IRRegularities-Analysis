{
 "cells": [
  {
   "cell_type": "markdown",
   "id": "5e80d0f6",
   "metadata": {},
   "source": [
    "This notebook may take X minutes to run."
   ]
  },
  {
   "cell_type": "code",
   "execution_count": null,
   "id": "913a7b93",
   "metadata": {},
   "outputs": [],
   "source": [
    "import pandas as pd\n",
    "import numpy as np\n",
    "from datetime import datetime\n",
    "import time\n",
    "#import matplotlib.pyplot as plt\n",
    "import gzip\n",
    "import json\n",
    "#from tabulate import tabulate\n",
    "import bz2\n",
    "#import os\n",
    "from tqdm import tqdm"
   ]
  },
  {
   "cell_type": "markdown",
   "id": "454793f9",
   "metadata": {},
   "source": [
    "# Load the Data"
   ]
  },
  {
   "cell_type": "markdown",
   "id": "533a8840",
   "metadata": {},
   "source": [
    "## Helper functions and variables"
   ]
  },
  {
   "cell_type": "code",
   "execution_count": 10,
   "id": "edde945d",
   "metadata": {},
   "outputs": [],
   "source": [
    "def delta_date(x):\n",
    "    return (str_to_date(x['end_date']) - str_to_date(x['start_date'])).days + 1"
   ]
  },
  {
   "cell_type": "code",
   "execution_count": 11,
   "id": "81d18337",
   "metadata": {},
   "outputs": [],
   "source": [
    "def str_to_date(d):\n",
    "    return datetime.strptime(d, \"%Y-%m-%d\")"
   ]
  },
  {
   "cell_type": "code",
   "execution_count": 30,
   "id": "c279bb6d",
   "metadata": {},
   "outputs": [],
   "source": [
    "datapath=\"irrs/\""
   ]
  },
  {
   "cell_type": "code",
   "execution_count": 399,
   "id": "ef6b931c",
   "metadata": {},
   "outputs": [],
   "source": [
    "def overlap_db(db):\n",
    "    timeless_overlap = db.merge(bgp, left_on='route', right_on='prefix', suffixes=('_route', '_prefix'))\n",
    "    timeless_overlap['end_date'] = pd.to_datetime(timeless_overlap['end_date'], format=\"%Y-%m-%d\")\n",
    "    timeless_overlap['start_date'] = pd.to_datetime(timeless_overlap['start_date'], format=\"%Y-%m-%d\")\n",
    "    timeless_overlap['start']=pd.to_datetime(timeless_overlap['start'], unit='s').dt.strftime('%Y-%m-%d')\n",
    "    timeless_overlap['end']=pd.to_datetime(timeless_overlap['end'], unit='s').dt.strftime('%Y-%m-%d')\n",
    "    #timeless_overlap['origin']=timeless_overlap['origin'].str.replace('AS',\"\")\n",
    "    actual_overlap = timeless_overlap[(timeless_overlap.end_date > timeless_overlap.start)&(timeless_overlap.start_date < timeless_overlap.end)]\n",
    "    actual_overlap['asn']='AS'+actual_overlap['asn'].astype(str)\n",
    "    return actual_overlap"
   ]
  },
  {
   "cell_type": "markdown",
   "id": "1946ae95",
   "metadata": {},
   "source": [
    "## Load BGP"
   ]
  },
  {
   "cell_type": "code",
   "execution_count": 83,
   "id": "4e1789e5",
   "metadata": {},
   "outputs": [],
   "source": [
    "bgp = pd.read_csv('pfx2as_2021_2023_merged.csv.gz', names=['prefix', 'asn', 'start', 'end'], delimiter=' ',low_memory=False)\n",
    "bgp['duration'] = bgp['end'] - bgp['start']\n",
    "bgpagg = bgp.groupby(['prefix', 'asn']).agg({'duration':'sum'}).reset_index()\n",
    "bgpagg['asn']='AS'+bgpagg['asn'].astype(str)"
   ]
  },
  {
   "cell_type": "markdown",
   "id": "14523a5b",
   "metadata": {},
   "source": [
    "## Load Altdb"
   ]
  },
  {
   "cell_type": "code",
   "execution_count": 342,
   "id": "3fd29df6",
   "metadata": {},
   "outputs": [
    {
     "name": "stderr",
     "output_type": "stream",
     "text": [
      "<ipython-input-341-bca60fb6450b>:9: SettingWithCopyWarning: \n",
      "A value is trying to be set on a copy of a slice from a DataFrame.\n",
      "Try using .loc[row_indexer,col_indexer] = value instead\n",
      "\n",
      "See the caveats in the documentation: https://pandas.pydata.org/pandas-docs/stable/user_guide/indexing.html#returning-a-view-versus-a-copy\n",
      "  actual_overlap['asn']='AS'+actual_overlap['asn'].astype(str)\n"
     ]
    }
   ],
   "source": [
    "altdb = pd.read_json(datapath+'altdb/altdb.route.json.gz', lines=True)\n",
    "altdb['lifetime'] = altdb.apply(delta_date, axis=1)\n",
    "altdb_overlap=overlap_db(altdb)\n",
    "altdbagg = altdb_overlap.groupby(['route', 'origin']).agg({'lifetime':'sum'}).reset_index()"
   ]
  },
  {
   "cell_type": "markdown",
   "id": "29ee0c7f",
   "metadata": {},
   "source": [
    "## Load Radb"
   ]
  },
  {
   "cell_type": "code",
   "execution_count": 400,
   "id": "0b9cfc3b",
   "metadata": {},
   "outputs": [
    {
     "name": "stderr",
     "output_type": "stream",
     "text": [
      "<ipython-input-399-bca60fb6450b>:9: SettingWithCopyWarning: \n",
      "A value is trying to be set on a copy of a slice from a DataFrame.\n",
      "Try using .loc[row_indexer,col_indexer] = value instead\n",
      "\n",
      "See the caveats in the documentation: https://pandas.pydata.org/pandas-docs/stable/user_guide/indexing.html#returning-a-view-versus-a-copy\n",
      "  actual_overlap['asn']='AS'+actual_overlap['asn'].astype(str)\n"
     ]
    }
   ],
   "source": [
    "radb = pd.read_json(datapath+'radb/radb.route.json.gz', lines=True)\n",
    "radb['lifetime'] = radb.apply(delta_date, axis=1)\n",
    "radb_overlap=overlap_db(radb)\n",
    "radbagg = radb_overlap.groupby(['route', 'origin']).agg({'lifetime':'sum'}).reset_index()"
   ]
  },
  {
   "cell_type": "markdown",
   "id": "81bd8e5f",
   "metadata": {},
   "source": [
    "## Load Afrinic"
   ]
  },
  {
   "cell_type": "code",
   "execution_count": 288,
   "id": "51390584",
   "metadata": {},
   "outputs": [],
   "source": [
    "afrinic = pd.read_json(datapath+'afrinic/afrinic.route.json.gz', lines=True)\n",
    "afrinic['lifetime'] = afrinic.apply(delta_date, axis=1)\n",
    "afrinic_overlap=overlap_db(afrinic)\n",
    "afrinicagg = afrinic_overlap.groupby(['route', 'origin']).agg({'lifetime':'sum'}).reset_index()"
   ]
  },
  {
   "cell_type": "markdown",
   "id": "794218e7",
   "metadata": {},
   "source": [
    "## Load Jpirr"
   ]
  },
  {
   "cell_type": "code",
   "execution_count": 289,
   "id": "7d15366c",
   "metadata": {},
   "outputs": [],
   "source": [
    "jpirr = pd.read_json(datapath+'jpirr/jpirr.route.json.gz', lines=True)\n",
    "jpirr['lifetime'] = jpirr.apply(delta_date, axis=1)\n",
    "jpirr_overlap=overlap_db(jpirr)\n",
    "jpirragg = jpirr_overlap.groupby(['route', 'origin']).agg({'lifetime':'sum'}).reset_index()"
   ]
  },
  {
   "cell_type": "markdown",
   "id": "c5ddab2b",
   "metadata": {},
   "source": [
    "## Load Canarie"
   ]
  },
  {
   "cell_type": "code",
   "execution_count": 290,
   "id": "cc9ac145",
   "metadata": {},
   "outputs": [],
   "source": [
    "canarie = pd.read_json(datapath+'canarie/canarie.route.json.gz', lines=True)\n",
    "canarie['lifetime'] = canarie.apply(delta_date, axis=1)\n",
    "canarie_overlap=overlap_db(canarie)\n",
    "canarieagg = canarie_overlap.groupby(['route', 'origin']).agg({'lifetime':'sum'}).reset_index()"
   ]
  },
  {
   "cell_type": "markdown",
   "id": "a5eec2cc",
   "metadata": {},
   "source": [
    "## Load Apnic"
   ]
  },
  {
   "cell_type": "code",
   "execution_count": 291,
   "id": "5150da6e",
   "metadata": {},
   "outputs": [],
   "source": [
    "apnic = pd.read_json(datapath+'apnic/apnic.route.json.gz', lines=True)\n",
    "apnic['lifetime'] = apnic.apply(delta_date, axis=1)\n",
    "apnic_overlap=overlap_db(apnic)\n",
    "apnicagg = apnic_overlap.groupby(['route', 'origin']).agg({'lifetime':'sum'}).reset_index()"
   ]
  },
  {
   "cell_type": "markdown",
   "id": "ad320670",
   "metadata": {},
   "source": [
    "## Load Arin-Nonauth"
   ]
  },
  {
   "cell_type": "code",
   "execution_count": 292,
   "id": "77017486",
   "metadata": {},
   "outputs": [],
   "source": [
    "arin_nonauth = pd.read_json(datapath+'arin-nonauth/arin-nonauth.route.json.gz', lines=True)\n",
    "arin_nonauth['lifetime'] = arin_nonauth.apply(delta_date, axis=1)\n",
    "arin_nonauth_overlap=overlap_db(arin_nonauth)\n",
    "arin_nonauthagg = arin_nonauth_overlap.groupby(['route', 'origin']).agg({'lifetime':'sum'}).reset_index()"
   ]
  },
  {
   "cell_type": "markdown",
   "id": "f76e2685",
   "metadata": {},
   "source": [
    "## Load Level3"
   ]
  },
  {
   "cell_type": "code",
   "execution_count": 293,
   "id": "6733872d",
   "metadata": {},
   "outputs": [],
   "source": [
    "level3 = pd.read_json(datapath+'level3/level3.route.json.gz', lines=True)\n",
    "level3['lifetime'] = level3.apply(delta_date, axis=1)\n",
    "level3_overlap=overlap_db(level3)\n",
    "level3agg = level3_overlap.groupby(['route', 'origin']).agg({'lifetime':'sum'}).reset_index()"
   ]
  },
  {
   "cell_type": "markdown",
   "id": "c0504e48",
   "metadata": {},
   "source": [
    "## Load Nestegg"
   ]
  },
  {
   "cell_type": "code",
   "execution_count": 294,
   "id": "a67fd366",
   "metadata": {},
   "outputs": [],
   "source": [
    "nestegg = pd.read_json(datapath+'nestegg/nestegg.route.json.gz', lines=True)\n",
    "nestegg['lifetime'] = nestegg.apply(delta_date, axis=1)\n",
    "nestegg_overlap=overlap_db(nestegg)\n",
    "nesteggagg = nestegg_overlap.groupby(['route', 'origin']).agg({'lifetime':'sum'}).reset_index()"
   ]
  },
  {
   "cell_type": "markdown",
   "id": "9b9fff8a",
   "metadata": {},
   "source": [
    "## Load BBoi"
   ]
  },
  {
   "cell_type": "code",
   "execution_count": 295,
   "id": "797dfef1",
   "metadata": {},
   "outputs": [],
   "source": [
    "bboi= pd.read_json(datapath+'bboi/bboi.route.json.gz', lines=True)\n",
    "bboi['lifetime'] = bboi.apply(delta_date, axis=1)\n",
    "bboi_overlap=overlap_db(bboi)\n",
    "bboiagg = bboi_overlap.groupby(['route', 'origin']).agg({'lifetime':'sum'}).reset_index()"
   ]
  },
  {
   "cell_type": "markdown",
   "id": "86297dd9",
   "metadata": {},
   "source": [
    "## Load idnic"
   ]
  },
  {
   "cell_type": "code",
   "execution_count": 296,
   "id": "508fc447",
   "metadata": {},
   "outputs": [],
   "source": [
    "idnic= pd.read_json(datapath+'idnic/idnic.route.json.gz', lines=True)\n",
    "idnic['lifetime'] = idnic.apply(delta_date, axis=1)\n",
    "idnic_overlap=overlap_db(idnic)\n",
    "idnicagg = idnic_overlap.groupby(['route', 'origin']).agg({'lifetime':'sum'}).reset_index()"
   ]
  },
  {
   "cell_type": "markdown",
   "id": "f489fd2f",
   "metadata": {},
   "source": [
    "## Load wcgdb"
   ]
  },
  {
   "cell_type": "code",
   "execution_count": 297,
   "id": "2fba25dc",
   "metadata": {},
   "outputs": [],
   "source": [
    "wcgdb= pd.read_json(datapath+'wcgdb/wcgdb.route.json.gz', lines=True)\n",
    "wcgdb['lifetime'] = wcgdb.apply(delta_date, axis=1)\n",
    "wcgdb_overlap=overlap_db(wcgdb)\n",
    "wcgdbagg = wcgdb_overlap.groupby(['route', 'origin']).agg({'lifetime':'sum'}).reset_index()"
   ]
  },
  {
   "cell_type": "markdown",
   "id": "3809fce4",
   "metadata": {},
   "source": [
    "## Load RGNET"
   ]
  },
  {
   "cell_type": "code",
   "execution_count": 298,
   "id": "d9feb96e",
   "metadata": {},
   "outputs": [],
   "source": [
    "rgnet= pd.read_json(datapath+'rgnet/rgnet.route.json.gz', lines=True)\n",
    "rgnet['lifetime'] = rgnet.apply(delta_date, axis=1)\n",
    "rgnet_overlap=overlap_db(rgnet)\n",
    "rgnetagg = rgnet_overlap.groupby(['route', 'origin']).agg({'lifetime':'sum'}).reset_index()"
   ]
  },
  {
   "cell_type": "markdown",
   "id": "82163e26",
   "metadata": {},
   "source": [
    "## Load tc"
   ]
  },
  {
   "cell_type": "code",
   "execution_count": 299,
   "id": "4a212ce0",
   "metadata": {},
   "outputs": [],
   "source": [
    "tc= pd.read_json(datapath+'tc/tc.route.json.gz', lines=True)\n",
    "tc['lifetime'] = tc.apply(delta_date, axis=1)\n",
    "tc_overlap=overlap_db(tc)\n",
    "tcagg = tc_overlap.groupby(['route', 'origin']).agg({'lifetime':'sum'}).reset_index()"
   ]
  },
  {
   "cell_type": "markdown",
   "id": "01d70ef6",
   "metadata": {},
   "source": [
    "## Load Lacnic"
   ]
  },
  {
   "cell_type": "code",
   "execution_count": 300,
   "id": "4ee65abc",
   "metadata": {},
   "outputs": [],
   "source": [
    "lacnic= pd.read_json(datapath+'lacnic/lacnic.route.json.gz', lines=True)\n",
    "lacnic['lifetime'] = lacnic.apply(delta_date, axis=1)\n",
    "lacnic_overlap=overlap_db(lacnic)\n",
    "lacnicagg = lacnic_overlap.groupby(['route', 'origin']).agg({'lifetime':'sum'}).reset_index()"
   ]
  },
  {
   "cell_type": "markdown",
   "id": "ea4351d0",
   "metadata": {},
   "source": [
    "## Load Ripe-nonauth"
   ]
  },
  {
   "cell_type": "code",
   "execution_count": 301,
   "id": "81578f6e",
   "metadata": {},
   "outputs": [],
   "source": [
    "ripe_nonauth= pd.read_json(datapath+'ripe-nonauth/ripe-nonauth.route.json.gz', lines=True)\n",
    "ripe_nonauth['lifetime'] = ripe_nonauth.apply(delta_date, axis=1)\n",
    "ripe_nonauth_overlap=overlap_db(ripe_nonauth)\n",
    "ripe_nonauthagg = ripe_nonauth_overlap.groupby(['route', 'origin']).agg({'lifetime':'sum'}).reset_index()"
   ]
  },
  {
   "cell_type": "markdown",
   "id": "e9fbfd21",
   "metadata": {},
   "source": [
    "## Load Openface"
   ]
  },
  {
   "cell_type": "code",
   "execution_count": 302,
   "id": "318f105e",
   "metadata": {},
   "outputs": [],
   "source": [
    "openface= pd.read_json(datapath+'openface/openface.route.json.gz', lines=True)\n",
    "openface['lifetime'] = openface.apply(delta_date, axis=1)\n",
    "openface_overlap=overlap_db(openface)\n",
    "openfaceagg = openface_overlap.groupby(['route', 'origin']).agg({'lifetime':'sum'}).reset_index()"
   ]
  },
  {
   "cell_type": "markdown",
   "id": "aa63a3d4",
   "metadata": {},
   "source": [
    "## Load Panix"
   ]
  },
  {
   "cell_type": "code",
   "execution_count": 303,
   "id": "ee01aa24",
   "metadata": {},
   "outputs": [],
   "source": [
    "panix= pd.read_json(datapath+'panix/panix.route.json.gz', lines=True)\n",
    "panix['lifetime'] = panix.apply(delta_date, axis=1)\n",
    "panix_overlap=overlap_db(panix)\n",
    "panixagg = panix_overlap.groupby(['route', 'origin']).agg({'lifetime':'sum'}).reset_index()"
   ]
  },
  {
   "cell_type": "markdown",
   "id": "38d535aa",
   "metadata": {},
   "source": [
    "## Load Arin"
   ]
  },
  {
   "cell_type": "code",
   "execution_count": 304,
   "id": "75641369",
   "metadata": {},
   "outputs": [],
   "source": [
    "arin= pd.read_json(datapath+'arin/arin.route.json.gz', lines=True)\n",
    "arin['lifetime'] = arin.apply(delta_date, axis=1)\n",
    "arin_overlap=overlap_db(arin)\n",
    "arinagg = arin_overlap.groupby(['route', 'origin']).agg({'lifetime':'sum'}).reset_index()"
   ]
  },
  {
   "cell_type": "markdown",
   "id": "0432e277",
   "metadata": {},
   "source": [
    "## Load Ripe"
   ]
  },
  {
   "cell_type": "code",
   "execution_count": 305,
   "id": "48bd8b1c",
   "metadata": {},
   "outputs": [],
   "source": [
    "ripe= pd.read_json(datapath+'ripe/ripe.route.json.gz', lines=True)\n",
    "ripe['lifetime'] = ripe.apply(delta_date, axis=1)\n",
    "ripe_overlap=overlap_db(ripe)\n",
    "ripeagg = ripe_overlap.groupby(['route', 'origin']).agg({'lifetime':'sum'}).reset_index()"
   ]
  },
  {
   "cell_type": "markdown",
   "id": "62f6a320",
   "metadata": {},
   "source": [
    "## Load Nttcom"
   ]
  },
  {
   "cell_type": "code",
   "execution_count": 306,
   "id": "6ee396fb",
   "metadata": {},
   "outputs": [],
   "source": [
    "nttcom= pd.read_json(datapath+'nttcom/nttcom.route.json.gz', lines=True)\n",
    "nttcom['lifetime'] = nttcom.apply(delta_date, axis=1)\n",
    "nttcom_overlap=overlap_db(nttcom)\n",
    "nttcomagg = nttcom_overlap.groupby(['route', 'origin']).agg({'lifetime':'sum'}).reset_index()"
   ]
  },
  {
   "cell_type": "markdown",
   "id": "a9bb5cde",
   "metadata": {},
   "source": [
    "# Table 2: Calculate number of prefix-origin pairs in every IRR, overlap of prefix-origin pairs with BGP and all IRRs, & generate table"
   ]
  },
  {
   "cell_type": "markdown",
   "id": "353210d6",
   "metadata": {},
   "source": [
    "## Helper functions"
   ]
  },
  {
   "cell_type": "code",
   "execution_count": 307,
   "id": "f5c85796",
   "metadata": {},
   "outputs": [],
   "source": [
    "def numerator_overlap(dfagg):\n",
    "    overlap=len(dfagg.merge(aggbgp, left_on=['route', 'origin'], right_on=['prefix', 'asn']))\n",
    "    return overlap"
   ]
  },
  {
   "cell_type": "code",
   "execution_count": 308,
   "id": "7bcc88c0",
   "metadata": {},
   "outputs": [],
   "source": [
    "def denominator(df):\n",
    "    return len(df)"
   ]
  },
  {
   "cell_type": "code",
   "execution_count": 313,
   "id": "47c48779",
   "metadata": {},
   "outputs": [],
   "source": [
    "def percentage_frac(dfagg,df):\n",
    "    num=numerator_overlap(dfagg)\n",
    "    denom=denominator(df)\n",
    "    return str(round((num*100/denom),2))+\"\\% (\"+str(num)+\"/\"+str(denom)+\")\""
   ]
  },
  {
   "cell_type": "code",
   "execution_count": 314,
   "id": "241c0f76",
   "metadata": {},
   "outputs": [
    {
     "name": "stdout",
     "output_type": "stream",
     "text": [
      "\\begin{table}[!h]\n",
      "\\begin{tabular}{l|l|l}\n",
      "\\toprule\n",
      "IRR & \\# Prefix-Origin Pairs & \\% Prefix-Origin Pairs in BGP \\\\\n",
      "\\midrule\n",
      "AFRINIC & 106842 & 20.37\\% (21759/106842) \\\\\n",
      "\\midrule\n",
      "ALTDB & 27493 & 58.35\\% (16043/27493) \\\\\n",
      "\\midrule\n",
      "APNIC & 701196 & 17.32\\% (121480/701196) \\\\\n",
      "\\midrule\n",
      "ARIN & 104298 & 49.35\\% (51467/104298) \\\\\n",
      "\\midrule\n",
      "ARIN-NA & 66126 & 18.4\\% (12169/66126) \\\\\n",
      "\\midrule\n",
      "BBOI & 952 & 51.89\\% (494/952) \\\\\n",
      "\\midrule\n",
      "CANARIE & 1460 & 58.42\\% (853/1460) \\\\\n",
      "\\midrule\n",
      "IDNIC & 6158 & 64.44\\% (3968/6158) \\\\\n",
      "\\midrule\n",
      "JPIRR & 42546 & 21.42\\% (9114/42546) \\\\\n",
      "\\midrule\n",
      "LACNIC & 97908 & 10.01\\% (9800/97908) \\\\\n",
      "\\midrule\n",
      "LEVEL3 & 121534 & 18.47\\% (22452/121534) \\\\\n",
      "\\midrule\n",
      "NESTEGG & 4 & 75.0\\% (3/4) \\\\\n",
      "\\midrule\n",
      "NTTCOM & 502051 & 13.77\\% (69146/502051) \\\\\n",
      "\\midrule\n",
      "OPENFACE & 17 & 41.18\\% (7/17) \\\\\n",
      "\\midrule\n",
      "PANIX & 40 & 15.0\\% (6/40) \\\\\n",
      "\\midrule\n",
      "RADB & 1875251 & 23.7\\% (444479/1875251) \\\\\n",
      "\\midrule\n",
      "RGNET & 44 & 47.73\\% (21/44) \\\\\n",
      "\\midrule\n",
      "RIPE & 469651 & 56.43\\% (265001/469651) \\\\\n",
      "\\midrule\n",
      "RIPE-NA & 54812 & 27.89\\% (15289/54812) \\\\\n",
      "\\midrule\n",
      "TC & 23618 & 63.3\\% (14950/23618) \\\\\n",
      "\\midrule\n",
      "WCGDB & 62852 & 5.59\\% (3514/62852) \\\\\n",
      "\\midrule\n",
      "\\bottomrule\n",
      "\\end{tabular}\n",
      "\\caption{insert}\n",
      "\\end{table}\n"
     ]
    }
   ],
   "source": [
    "print(\"\\\\begin{table}[!h]\")\n",
    "print(\"\\\\begin{tabular}{l|l|l}\")\n",
    "print(\"\\\\toprule\")\n",
    "print(\"IRR & \\# Prefix-Origin Pairs & \\% Prefix-Origin Pairs in BGP \"+chr(92)+chr(92))\n",
    "print(\"\\\\midrule\")\n",
    "print(\"AFRINIC\",\"&\",denominator(afrinic),\"&\", percentage_frac(afrinicagg,afrinic), chr(92)+chr(92))\n",
    "print(\"\\\\midrule\")\n",
    "print(\"ALTDB\",\"&\",denominator(altdb),\"&\", percentage_frac(altdbagg,altdb), chr(92)+chr(92))\n",
    "print(\"\\\\midrule\")\n",
    "print(\"APNIC\",\"&\",denominator(apnic),\"&\", percentage_frac(apnicagg,apnic), chr(92)+chr(92))\n",
    "print(\"\\\\midrule\")\n",
    "print(\"ARIN\",\"&\",denominator(arin),\"&\", percentage_frac(arinagg,arin), chr(92)+chr(92))\n",
    "print(\"\\\\midrule\")\n",
    "print(\"ARIN-NA\",\"&\",denominator(arin_nonauth),\"&\", percentage_frac(arin_nonauthagg,arin_nonauth), chr(92)+chr(92))\n",
    "print(\"\\\\midrule\")\n",
    "print(\"BBOI\",\"&\",denominator(bboi),\"&\", percentage_frac(bboiagg,bboi), chr(92)+chr(92))\n",
    "print(\"\\\\midrule\")\n",
    "print(\"CANARIE\",\"&\",denominator(canarie),\"&\", percentage_frac(canarieagg,canarie), chr(92)+chr(92))\n",
    "print(\"\\\\midrule\")\n",
    "print(\"IDNIC\",\"&\",denominator(idnic),\"&\", percentage_frac(idnicagg,idnic), chr(92)+chr(92))\n",
    "print(\"\\\\midrule\")\n",
    "print(\"JPIRR\",\"&\",denominator(jpirr),\"&\", percentage_frac(jpirragg,jpirr), chr(92)+chr(92))\n",
    "print(\"\\\\midrule\")\n",
    "print(\"LACNIC\",\"&\",denominator(lacnic),\"&\", percentage_frac(lacnicagg,lacnic), chr(92)+chr(92))\n",
    "print(\"\\\\midrule\")\n",
    "print(\"LEVEL3\",\"&\",denominator(level3),\"&\", percentage_frac(level3agg,level3), chr(92)+chr(92))\n",
    "print(\"\\\\midrule\")\n",
    "print(\"NESTEGG\",\"&\",denominator(nestegg),\"&\", percentage_frac(nesteggagg,nestegg), chr(92)+chr(92))\n",
    "print(\"\\\\midrule\")\n",
    "print(\"NTTCOM\",\"&\",denominator(nttcom),\"&\", percentage_frac(nttcomagg,nttcom), chr(92)+chr(92))\n",
    "print(\"\\\\midrule\")\n",
    "print(\"OPENFACE\",\"&\",denominator(openface),\"&\", percentage_frac(openfaceagg,openface), chr(92)+chr(92))\n",
    "print(\"\\\\midrule\")\n",
    "print(\"PANIX\",\"&\",denominator(panix),\"&\", percentage_frac(panixagg,panix), chr(92)+chr(92))\n",
    "print(\"\\\\midrule\")\n",
    "print(\"RADB\",\"&\",denominator(radb),\"&\", percentage_frac(radbagg,radb), chr(92)+chr(92))\n",
    "print(\"\\\\midrule\")\n",
    "print(\"RGNET\",\"&\",denominator(rgnet),\"&\", percentage_frac(rgnetagg,rgnet), chr(92)+chr(92))\n",
    "print(\"\\\\midrule\")\n",
    "print(\"RIPE\",\"&\",denominator(ripe),\"&\", percentage_frac(ripeagg,ripe), chr(92)+chr(92))\n",
    "print(\"\\\\midrule\")\n",
    "print(\"RIPE-NA\",\"&\",denominator(ripe_nonauth),\"&\", percentage_frac(ripe_nonauthagg,ripe_nonauth), chr(92)+chr(92))\n",
    "print(\"\\\\midrule\")\n",
    "print(\"TC\",\"&\",denominator(tc),\"&\", percentage_frac(tcagg,tc), chr(92)+chr(92))\n",
    "print(\"\\\\midrule\")\n",
    "print(\"WCGDB\",\"&\",denominator(wcgdb),\"&\", percentage_frac(wcgdbagg,wcgdb), chr(92)+chr(92))\n",
    "print(\"\\\\midrule\")\n",
    "print(\"\\\\bottomrule\")\n",
    "print(\"\\\\end{tabular}\")\n",
    "print(\"\\\\caption{insert}\")\n",
    "print(\"\\\\end{table}\")"
   ]
  },
  {
   "cell_type": "markdown",
   "id": "0968d48f",
   "metadata": {},
   "source": [
    "# Section 7: Irregular Route Objects"
   ]
  },
  {
   "cell_type": "markdown",
   "id": "30ef6a2e",
   "metadata": {},
   "source": [
    "## Helper functions"
   ]
  },
  {
   "cell_type": "markdown",
   "id": "592891b3",
   "metadata": {},
   "source": [
    "### as2org"
   ]
  },
  {
   "cell_type": "code",
   "execution_count": 475,
   "id": "94b529e3",
   "metadata": {},
   "outputs": [],
   "source": [
    "orgs=pd.read_csv('as2org_clean.csv')\n",
    "orgs['aut']=orgs['aut'].map(str)\n",
    "orgs_ases_gt=list(orgs['aut'].unique())"
   ]
  },
  {
   "cell_type": "markdown",
   "id": "5e690021",
   "metadata": {},
   "source": [
    "### AS relationships"
   ]
  },
  {
   "cell_type": "code",
   "execution_count": 718,
   "id": "35f6d3a5",
   "metadata": {},
   "outputs": [],
   "source": [
    "with bz2.open('20230401.as-rel.txt.bz2','rt') as f:\n",
    "    content=f.read()\n",
    "lines=content.split('\\n')\n",
    "clean_lines=[]\n",
    "ases=[]\n",
    "mypeers={}\n",
    "mycustomers={}\n",
    "myproviders={}\n",
    "#the above dictionaries are organized s.t. mypeers[AS1]=AS2 and mypeers[AS2]=AS1\n",
    "for l in tqdm(lines):\n",
    "    if not l.startswith('#'):\n",
    "        clean_lines.append(l)\n",
    "        if len(l.split('|'))==3:\n",
    "            if l.split('|')[2]=='0':\n",
    "                if l.split('|')[0] in mypeers:\n",
    "                    mypeers[l.split('|')[0]].append(l.split('|')[1])\n",
    "                else:\n",
    "                    mypeers[l.split('|')[0]]=[(l.split('|')[1])]\n",
    "                if l.split('|')[1] in mypeers:\n",
    "                    mypeers[l.split('|')[1]].append(l.split('|')[0])\n",
    "                else:\n",
    "                    mypeers[l.split('|')[1]]=[(l.split('|')[0])]\n",
    "            if l.split('|')[2]=='-1': #AS1 is a provider of AS2, AS2 is a customer of AS1 AS1|AS2|-1\n",
    "                if l.split('|')[1] in myproviders:\n",
    "                    myproviders[l.split('|')[1]].append(l.split('|')[0])\n",
    "                else:\n",
    "                    myproviders[l.split('|')[1]]=[(l.split('|')[0])]\n",
    "                if l.split('|')[0] in mycustomers:\n",
    "                    mycustomers[l.split('|')[0]].append(l.split('|')[1])\n",
    "                else:\n",
    "                    mycustomers[l.split('|')[0]]=[(l.split('|')[1])]"
   ]
  },
  {
   "cell_type": "markdown",
   "id": "c21324b4",
   "metadata": {},
   "source": [
    "## Section 7.1 and Table 3: RADB Analysis"
   ]
  },
  {
   "cell_type": "markdown",
   "id": "ae23975e",
   "metadata": {},
   "source": [
    "### Import inconsistent prefixes"
   ]
  },
  {
   "cell_type": "code",
   "execution_count": 385,
   "id": "f2903001",
   "metadata": {},
   "outputs": [],
   "source": [
    "radb_cover=pd.read_csv('radb_cover.csv')"
   ]
  },
  {
   "cell_type": "code",
   "execution_count": 386,
   "id": "e06e0641",
   "metadata": {},
   "outputs": [],
   "source": [
    "radb_inconsistent=set(list(radb_cover.nonauth.unique()))"
   ]
  },
  {
   "cell_type": "code",
   "execution_count": 401,
   "id": "5414b46e",
   "metadata": {},
   "outputs": [
    {
     "data": {
      "text/plain": [
       "150402"
      ]
     },
     "execution_count": 401,
     "metadata": {},
     "output_type": "execute_result"
    }
   ],
   "source": [
    "len(radb_inconsistent)"
   ]
  },
  {
   "cell_type": "markdown",
   "id": "28cc7aa7",
   "metadata": {},
   "source": [
    "### Appear in BGP and inconsistent"
   ]
  },
  {
   "cell_type": "code",
   "execution_count": 402,
   "id": "e4a87c2f",
   "metadata": {},
   "outputs": [],
   "source": [
    "bgp_inconsistent_radb=radb_overlap[radb_overlap['prefix'].isin(radb_inconsistent)]"
   ]
  },
  {
   "cell_type": "code",
   "execution_count": 403,
   "id": "a187303e",
   "metadata": {},
   "outputs": [
    {
     "name": "stdout",
     "output_type": "stream",
     "text": [
      "56803 appear in BGP and are inconsistent.\n"
     ]
    }
   ],
   "source": [
    "print(bgp_inconsistent_radb.prefix.nunique(),\"appear in BGP and are inconsistent.\")"
   ]
  },
  {
   "cell_type": "code",
   "execution_count": 872,
   "id": "9e369346",
   "metadata": {},
   "outputs": [
    {
     "name": "stdout",
     "output_type": "stream",
     "text": [
      "37.77 %\n"
     ]
    }
   ],
   "source": [
    "print(round(bgp_inconsistent_radb.prefix.nunique()*100/len(radb_inconsistent),2),\"%\")"
   ]
  },
  {
   "cell_type": "markdown",
   "id": "5758cad4",
   "metadata": {},
   "source": [
    "### Full overlap"
   ]
  },
  {
   "cell_type": "code",
   "execution_count": 404,
   "id": "26dec87e",
   "metadata": {},
   "outputs": [],
   "source": [
    "in_b_r=bgp_inconsistent_radb.prefix.unique()"
   ]
  },
  {
   "cell_type": "code",
   "execution_count": 405,
   "id": "a4a9516a",
   "metadata": {},
   "outputs": [],
   "source": [
    "df_in_b_r=radb_overlap[radb_overlap['route'].isin(in_b_r)]"
   ]
  },
  {
   "cell_type": "code",
   "execution_count": 406,
   "id": "3ef220db",
   "metadata": {},
   "outputs": [],
   "source": [
    "route_r_b=df_in_b_r.groupby('route').agg({'asn':set,'origin':set}).reset_index()"
   ]
  },
  {
   "cell_type": "code",
   "execution_count": 659,
   "id": "da04d42f",
   "metadata": {},
   "outputs": [],
   "source": [
    "route_r_b['related']=False #this is True when the ASes are the same or related"
   ]
  },
  {
   "cell_type": "code",
   "execution_count": 660,
   "id": "9b10dd05",
   "metadata": {},
   "outputs": [],
   "source": [
    "route_r_b['Fullmatch']=(route_r_b['asn']==route_r_b['origin']) #python discards order when evaluating set equality"
   ]
  },
  {
   "cell_type": "code",
   "execution_count": 876,
   "id": "254ee081",
   "metadata": {},
   "outputs": [],
   "source": [
    "full_overlap=route_r_b[route_r_b['Fullmatch']]['route'].nunique()"
   ]
  },
  {
   "cell_type": "code",
   "execution_count": 877,
   "id": "4dd001c1",
   "metadata": {},
   "outputs": [
    {
     "name": "stdout",
     "output_type": "stream",
     "text": [
      "3002 have a full overlap.\n"
     ]
    }
   ],
   "source": [
    "print(full_overlap,\"have a full overlap.\")"
   ]
  },
  {
   "cell_type": "code",
   "execution_count": 662,
   "id": "56e91c3e",
   "metadata": {},
   "outputs": [
    {
     "name": "stdout",
     "output_type": "stream",
     "text": [
      "53801  do not have a full overlap.\n"
     ]
    }
   ],
   "source": [
    "notfullmatch=route_r_b[~route_r_b['Fullmatch']]\n",
    "print(notfullmatch['route'].nunique(),\" do not have a full overlap.\")"
   ]
  },
  {
   "cell_type": "code",
   "execution_count": 410,
   "id": "a5f1a94b",
   "metadata": {},
   "outputs": [
    {
     "data": {
      "text/plain": [
       "56803"
      ]
     },
     "execution_count": 410,
     "metadata": {},
     "output_type": "execute_result"
    }
   ],
   "source": [
    "53801+3002"
   ]
  },
  {
   "cell_type": "code",
   "execution_count": 878,
   "id": "259a658f",
   "metadata": {},
   "outputs": [
    {
     "name": "stdout",
     "output_type": "stream",
     "text": [
      "5.28 %\n"
     ]
    }
   ],
   "source": [
    "print(round(full_overlap*100/bgp_inconsistent_radb.prefix.nunique(),2),\"%\")"
   ]
  },
  {
   "cell_type": "markdown",
   "id": "c2dcfe9e",
   "metadata": {},
   "source": [
    "### Partial Overlap"
   ]
  },
  {
   "cell_type": "code",
   "execution_count": 838,
   "id": "67db2dca",
   "metadata": {},
   "outputs": [],
   "source": [
    "route_r_b['intersec'] = route_r_b.apply(lambda x: set(x['asn']).intersection(set(x['origin'])), axis=1)\n",
    "route_r_b['partial_match']=(route_r_b['intersec']!=set())\n",
    "route_r_b['all_ases']=route_r_b.apply(lambda x: (x['asn'] | x['origin']), axis=1)"
   ]
  },
  {
   "cell_type": "code",
   "execution_count": 839,
   "id": "9994f84b",
   "metadata": {},
   "outputs": [],
   "source": [
    "partial=route_r_b[(~route_r_b['Fullmatch']) & (route_r_b['partial_match'])]"
   ]
  },
  {
   "cell_type": "code",
   "execution_count": 840,
   "id": "052d5560",
   "metadata": {},
   "outputs": [
    {
     "name": "stdout",
     "output_type": "stream",
     "text": [
      "32838 prefixes have a partial overlap.\n"
     ]
    }
   ],
   "source": [
    "print(partial['route'].nunique(),\"prefixes have a partial overlap.\")"
   ]
  },
  {
   "cell_type": "markdown",
   "id": "4f20867f",
   "metadata": {},
   "source": [
    "#### Do they belong to same org?"
   ]
  },
  {
   "cell_type": "code",
   "execution_count": 841,
   "id": "fc27c448",
   "metadata": {},
   "outputs": [
    {
     "name": "stderr",
     "output_type": "stream",
     "text": [
      "100%|██████████| 32838/32838 [27:36<00:00, 19.82it/s] \n"
     ]
    }
   ],
   "source": [
    "pa_mis_rs=partial['route'].unique() # checking that the AS partial mismatches might be from the same org\n",
    "r2orgspa={}\n",
    "ctr=0\n",
    "tot=len(pa_mis_rs)\n",
    "for r in tqdm(pa_mis_rs):\n",
    "    r2orgspa[r]=[]\n",
    "    ases_to_check=list(partial[partial['route']==str(r)]['all_ases'])[0]\n",
    "    clean=[i.replace(\"'\",\"\") for i in ases_to_check]\n",
    "    clean=[i.replace(\"AS\",\"\") for i in ases_to_check]\n",
    "    for a in clean:\n",
    "        if a in orgs_ases_gt:\n",
    "            check_org=list(orgs[orgs['aut']==a]['org_id'].unique())[0]\n",
    "            r2orgspa[r].append(check_org)\n",
    "        if a not in orgs_ases_gt:\n",
    "            r2orgspa[r].append('missing')\n",
    "for r in r2orgspa:\n",
    "    r2orgspa[r]=set(r2orgspa[r])"
   ]
  },
  {
   "cell_type": "code",
   "execution_count": 842,
   "id": "2479f7ea",
   "metadata": {},
   "outputs": [],
   "source": [
    "as_mismatch_same_org=[]\n",
    "for r in r2orgspa:\n",
    "    if (len(r2orgspa[r])==1) and (r2orgspa[r]!='missing'):\n",
    "        as_mismatch_same_org.append(r)"
   ]
  },
  {
   "cell_type": "code",
   "execution_count": 881,
   "id": "93c803a8",
   "metadata": {},
   "outputs": [],
   "source": [
    "full_overlap+=len(as_mismatch_same_org)"
   ]
  },
  {
   "cell_type": "code",
   "execution_count": 843,
   "id": "54e00cdd",
   "metadata": {},
   "outputs": [
    {
     "name": "stdout",
     "output_type": "stream",
     "text": [
      "90 prefixes belong to the same org.\n"
     ]
    }
   ],
   "source": [
    "print(len(as_mismatch_same_org),\"prefixes belong to the same org.\")"
   ]
  },
  {
   "cell_type": "code",
   "execution_count": 851,
   "id": "a8a75315",
   "metadata": {},
   "outputs": [],
   "source": [
    "#route_r_b['same_org']=False\n",
    "partial['same_org']=False\n",
    "for i in list(route_r_b.index[route_r_b['route'].isin(as_mismatch_same_org)]):\n",
    "    #route_r_b.at[i,'related']=True\n",
    "    #route_r_b.at[i,'same_org']=True\n",
    "    partial.at[i,'related']=True\n",
    "    partial.at[i,'same_org']=True"
   ]
  },
  {
   "cell_type": "code",
   "execution_count": 854,
   "id": "c60e8254",
   "metadata": {},
   "outputs": [
    {
     "data": {
      "text/plain": [
       "32838"
      ]
     },
     "execution_count": 854,
     "metadata": {},
     "output_type": "execute_result"
    }
   ],
   "source": [
    "len(partial[partial['same_org']]+partial[~partial['related']])"
   ]
  },
  {
   "cell_type": "markdown",
   "id": "e9bd1f47",
   "metadata": {},
   "source": [
    "#### If not, is there a customer or peer relationship?"
   ]
  },
  {
   "cell_type": "code",
   "execution_count": 864,
   "id": "254007ce",
   "metadata": {},
   "outputs": [
    {
     "name": "stderr",
     "output_type": "stream",
     "text": [
      "100%|██████████| 32748/32748 [04:58<00:00, 109.60it/s]\n"
     ]
    }
   ],
   "source": [
    "check_rel=partial[~partial['related']]['route'].unique()\n",
    "related=[]\n",
    "unrelated=[]\n",
    "for r in tqdm(check_rel):\n",
    "    check_ases=list(list(route_r_b[route_r_b['route']==str(r)]['all_ases'])[0])\n",
    "    #use first AS to check relationships\n",
    "    token_as=check_ases[0].lower().split('as')[1]\n",
    "    #check if the rest of the ases are peers, customers, or providers\n",
    "    token_peers=[]\n",
    "    token_providers=[]\n",
    "    token_customers=[]\n",
    "    if token_as in myproviders:\n",
    "        token_providers=myproviders[token_as]\n",
    "    if token_as in mycustomers:\n",
    "        token_customers=mycustomers[token_as]\n",
    "    if token_as in mypeers:\n",
    "        token_peers=mypeers[token_as]\n",
    "    for a in check_ases:\n",
    "        clean=a.lower().split('as')[1]\n",
    "        if clean==token_as:\n",
    "            continue\n",
    "        if clean in token_peers:\n",
    "            related.append(r)\n",
    "        if clean in token_customers:\n",
    "            related.append(r)\n",
    "        if clean in token_providers:\n",
    "            related.append(r)\n",
    "    if r not in related:\n",
    "        unrelated.append(r)\n",
    "related=set(related)\n",
    "unrelated=set(unrelated)"
   ]
  },
  {
   "cell_type": "code",
   "execution_count": 867,
   "id": "d42c032e",
   "metadata": {},
   "outputs": [
    {
     "data": {
      "text/plain": [
       "32748"
      ]
     },
     "execution_count": 867,
     "metadata": {},
     "output_type": "execute_result"
    }
   ],
   "source": [
    "len(related)+len(unrelated)"
   ]
  },
  {
   "cell_type": "code",
   "execution_count": 868,
   "id": "348f23fe",
   "metadata": {},
   "outputs": [],
   "source": [
    "for i in list(route_r_b.index[route_r_b['route'].isin(related)]):\n",
    "    route_r_b.at[i,'related']=True"
   ]
  },
  {
   "cell_type": "code",
   "execution_count": 882,
   "id": "351ec42e",
   "metadata": {},
   "outputs": [],
   "source": [
    "full_overlap+=len(related)"
   ]
  },
  {
   "cell_type": "code",
   "execution_count": 869,
   "id": "afcb7bbf",
   "metadata": {},
   "outputs": [
    {
     "name": "stdout",
     "output_type": "stream",
     "text": [
      "9648 routes have a customer or provider or peer relationship.\n"
     ]
    }
   ],
   "source": [
    "print(len(related),\"routes have a customer or provider or peer relationship.\")"
   ]
  },
  {
   "cell_type": "code",
   "execution_count": 870,
   "id": "257f765a",
   "metadata": {},
   "outputs": [
    {
     "name": "stdout",
     "output_type": "stream",
     "text": [
      "23100 routes do not have a customer or provider or peer relationship.\n"
     ]
    }
   ],
   "source": [
    "print(len(unrelated),\"routes do not have a customer or provider or peer relationship.\")"
   ]
  },
  {
   "cell_type": "markdown",
   "id": "3f15112c",
   "metadata": {},
   "source": [
    "### No Overlap"
   ]
  },
  {
   "cell_type": "code",
   "execution_count": 887,
   "id": "1902066f",
   "metadata": {},
   "outputs": [
    {
     "name": "stdout",
     "output_type": "stream",
     "text": [
      "20963 total mismatches.\n"
     ]
    }
   ],
   "source": [
    "print(route_r_b[~route_r_b['partial_match']]['route'].nunique(),\"total mismatches.\")"
   ]
  },
  {
   "cell_type": "code",
   "execution_count": 892,
   "id": "b50f70a6",
   "metadata": {},
   "outputs": [],
   "source": [
    "total=route_r_b[(~route_r_b['partial_match'])&(~route_r_b['related'])]"
   ]
  },
  {
   "cell_type": "code",
   "execution_count": 893,
   "id": "dcd4fde0",
   "metadata": {},
   "outputs": [
    {
     "name": "stderr",
     "output_type": "stream",
     "text": [
      "100%|██████████| 20963/20963 [17:18<00:00, 20.18it/s]\n"
     ]
    }
   ],
   "source": [
    "tot_mis_rs=total['route'].unique() # checking that the AS mismatches might be from the same org\n",
    "r2orgs={}\n",
    "ctr=0\n",
    "tot=len(tot_mis_rs)\n",
    "for r in tqdm(tot_mis_rs):\n",
    "    r2orgs[r]=[]\n",
    "    ases_to_check=list(total[total['route']==str(r)]['all_ases'])[0]\n",
    "    clean=[i.replace(\"'\",\"\") for i in ases_to_check]\n",
    "    clean=[i.replace(\"AS\",\"\") for i in ases_to_check]\n",
    "    for a in clean:\n",
    "        if a in orgs_ases_gt:\n",
    "            check_org=list(orgs[orgs['aut']==a]['org_id'].unique())[0]\n",
    "            r2orgs[r].append(check_org)\n",
    "        if a not in orgs_ases_gt:\n",
    "            r2orgs[r].append('missing')\n",
    "for r in r2orgs:\n",
    "    r2orgs[r]=set(r2orgs[r])"
   ]
  },
  {
   "cell_type": "code",
   "execution_count": 894,
   "id": "ddeb4471",
   "metadata": {},
   "outputs": [],
   "source": [
    "as_mismatch_same_org=[]\n",
    "for r in r2orgs:\n",
    "    if (len(r2orgs[r])==1) and (r2orgs[r]!='missing'):\n",
    "        as_mismatch_same_org.append(r)"
   ]
  },
  {
   "cell_type": "code",
   "execution_count": 895,
   "id": "696d6726",
   "metadata": {},
   "outputs": [
    {
     "name": "stdout",
     "output_type": "stream",
     "text": [
      "52 prefixes belong to the same org.\n"
     ]
    }
   ],
   "source": [
    "print(len(as_mismatch_same_org),\"prefixes belong to the same org.\")"
   ]
  },
  {
   "cell_type": "code",
   "execution_count": 896,
   "id": "4109dab2",
   "metadata": {},
   "outputs": [
    {
     "name": "stdout",
     "output_type": "stream",
     "text": [
      "20911 prefixes do not belong to the same org.\n"
     ]
    }
   ],
   "source": [
    "print(len(tot_mis_rs)-len(as_mismatch_same_org),\"prefixes do not belong to the same org.\")"
   ]
  },
  {
   "cell_type": "code",
   "execution_count": 897,
   "id": "ec4e6ba1",
   "metadata": {},
   "outputs": [],
   "source": [
    "route_r_b['same_org']=False\n",
    "total['same_org']=False\n",
    "for i in list(route_r_b.index[route_r_b['route'].isin(as_mismatch_same_org)]):\n",
    "    route_r_b.at[i,'same_org']=True\n",
    "    route_r_b.at[i,'related']=True\n",
    "    total.at[i,'same_org']=True\n",
    "    total.at[i,'related']=True"
   ]
  },
  {
   "cell_type": "code",
   "execution_count": 898,
   "id": "ac11637c",
   "metadata": {},
   "outputs": [
    {
     "name": "stderr",
     "output_type": "stream",
     "text": [
      "<ipython-input-898-6e4c18a6ac7d>:1: SettingWithCopyWarning: \n",
      "A value is trying to be set on a copy of a slice from a DataFrame.\n",
      "Try using .loc[row_indexer,col_indexer] = value instead\n",
      "\n",
      "See the caveats in the documentation: https://pandas.pydata.org/pandas-docs/stable/user_guide/indexing.html#returning-a-view-versus-a-copy\n",
      "  total['same_org']=False\n"
     ]
    }
   ],
   "source": [
    "total['same_org']=False\n",
    "for i in list(route_r_b.index[route_r_b['route'].isin(as_mismatch_same_org)]):\n",
    "    total.at[i,'same_org']=True\n",
    "    total.at[i,'related']=True"
   ]
  },
  {
   "cell_type": "markdown",
   "id": "2709bf89",
   "metadata": {},
   "source": [
    "#### If not, is there a customer or peer relationship?"
   ]
  },
  {
   "cell_type": "code",
   "execution_count": 901,
   "id": "6d95c60a",
   "metadata": {},
   "outputs": [
    {
     "name": "stderr",
     "output_type": "stream",
     "text": [
      "  6%|▋         | 1320/20911 [00:10<02:42, 120.59it/s]"
     ]
    }
   ],
   "source": [
    "check_rel=total[~total['related']]['route'].unique()\n",
    "related=[]\n",
    "unrelated=[]\n",
    "for r in tqdm(check_rel):\n",
    "    check_ases=list(list(route_r_b[route_r_b['route']==str(r)]['all_ases'])[0])\n",
    "    #use first AS to check relationships\n",
    "    token_as=check_ases[0].lower().split('as')[1]\n",
    "    #check if the rest of the ases are peers, customers, or providers\n",
    "    token_peers=[]\n",
    "    token_providers=[]\n",
    "    token_customers=[]\n",
    "    if token_as in myproviders:\n",
    "        token_providers=myproviders[token_as]\n",
    "    if token_as in mycustomers:\n",
    "        token_customers=mycustomers[token_as]\n",
    "    if token_as in mypeers:\n",
    "        token_peers=mypeers[token_as]\n",
    "    for a in check_ases:\n",
    "        clean=a.lower().split('as')[1]\n",
    "        if clean==token_as:\n",
    "            continue\n",
    "        if clean in token_peers:\n",
    "            related.append(r)\n",
    "        if clean in token_customers:\n",
    "            related.append(r)\n",
    "        if clean in token_providers:\n",
    "            related.append(r)\n",
    "    if r not in related:\n",
    "        unrelated.append(r)\n",
    "related=set(related)\n",
    "unrelated=set(unrelated)"
   ]
  },
  {
   "cell_type": "code",
   "execution_count": 904,
   "id": "7325b65d",
   "metadata": {
    "scrolled": true
   },
   "outputs": [],
   "source": [
    "print(len(related)+len(unrelated))"
   ]
  },
  {
   "cell_type": "code",
   "execution_count": 820,
   "id": "a6f3a3f6",
   "metadata": {},
   "outputs": [],
   "source": [
    "for i in list(route_r_b.index[route_r_b['route'].isin(related)]):\n",
    "    route_r_b.at[i,'related']=True"
   ]
  },
  {
   "cell_type": "code",
   "execution_count": 822,
   "id": "ff98c1b8",
   "metadata": {},
   "outputs": [
    {
     "name": "stdout",
     "output_type": "stream",
     "text": [
      "16 routes have a customer or provider or peer relationship.\n"
     ]
    }
   ],
   "source": [
    "print(len(related),\"routes have a customer or provider or peer relationship.\")"
   ]
  },
  {
   "cell_type": "code",
   "execution_count": 823,
   "id": "8229c738",
   "metadata": {},
   "outputs": [
    {
     "name": "stdout",
     "output_type": "stream",
     "text": [
      "295 routes do not have a customer or provider or peer relationship.\n"
     ]
    }
   ],
   "source": [
    "print(len(unrelated),\"routes do not have a customer or provider or peer relationship.\")"
   ]
  },
  {
   "cell_type": "markdown",
   "id": "2f606bb1",
   "metadata": {},
   "source": [
    "## Section 7.2: ALTDB Analysis"
   ]
  },
  {
   "cell_type": "markdown",
   "id": "b50a74fc",
   "metadata": {},
   "source": [
    "### Import inconsistent prefixes"
   ]
  },
  {
   "cell_type": "code",
   "execution_count": 627,
   "id": "350e36a6",
   "metadata": {},
   "outputs": [],
   "source": [
    "altdb_cover=pd.read_csv('altdb_cover.csv')"
   ]
  },
  {
   "cell_type": "code",
   "execution_count": 628,
   "id": "1ec1df14",
   "metadata": {},
   "outputs": [],
   "source": [
    "altdb_inconsistent=list(altdb_cover.nonauth.unique())"
   ]
  },
  {
   "cell_type": "code",
   "execution_count": 629,
   "id": "02288ebe",
   "metadata": {},
   "outputs": [
    {
     "data": {
      "text/plain": [
       "1206"
      ]
     },
     "execution_count": 629,
     "metadata": {},
     "output_type": "execute_result"
    }
   ],
   "source": [
    "len(altdb_inconsistent)"
   ]
  },
  {
   "cell_type": "code",
   "execution_count": 630,
   "id": "4778988a",
   "metadata": {},
   "outputs": [
    {
     "data": {
      "text/plain": [
       "1206"
      ]
     },
     "execution_count": 630,
     "metadata": {},
     "output_type": "execute_result"
    }
   ],
   "source": [
    "altdb[altdb['route'].isin(altdb_inconsistent)]['route'].nunique()"
   ]
  },
  {
   "cell_type": "markdown",
   "id": "32616e9e",
   "metadata": {},
   "source": [
    "### Appear in BGP and inconsistent"
   ]
  },
  {
   "cell_type": "code",
   "execution_count": 631,
   "id": "726c34c7",
   "metadata": {},
   "outputs": [],
   "source": [
    "bgp_inconsistent_altdb=altdb_overlap[altdb_overlap['prefix'].isin(altdb_inconsistent)]\n",
    "#using altdb_overlap to get overlapping time for both altdb and bgp"
   ]
  },
  {
   "cell_type": "code",
   "execution_count": 632,
   "id": "4bfdd620",
   "metadata": {},
   "outputs": [
    {
     "name": "stdout",
     "output_type": "stream",
     "text": [
      "619 appear in BGP and are inconsistent.\n"
     ]
    }
   ],
   "source": [
    "print(bgp_inconsistent_altdb.prefix.nunique(),\"appear in BGP and are inconsistent.\")"
   ]
  },
  {
   "cell_type": "markdown",
   "id": "50b8e96c",
   "metadata": {},
   "source": [
    "### Full overlap"
   ]
  },
  {
   "cell_type": "code",
   "execution_count": 633,
   "id": "7057e9b1",
   "metadata": {},
   "outputs": [],
   "source": [
    "in_b_a=bgp_inconsistent_altdb.prefix.unique()"
   ]
  },
  {
   "cell_type": "code",
   "execution_count": 634,
   "id": "af61f8b4",
   "metadata": {},
   "outputs": [],
   "source": [
    "df_in_b_a=altdb_overlap[altdb_overlap['route'].isin(in_b_a)]"
   ]
  },
  {
   "cell_type": "code",
   "execution_count": 663,
   "id": "d8488176",
   "metadata": {},
   "outputs": [],
   "source": [
    "route_a_b['related']=False #this is True when the ASes are the same or related"
   ]
  },
  {
   "cell_type": "code",
   "execution_count": 635,
   "id": "ee453e79",
   "metadata": {},
   "outputs": [],
   "source": [
    "route_a_b=df_in_b_a.groupby('route').agg({'asn':set,'origin':set}).reset_index()"
   ]
  },
  {
   "cell_type": "code",
   "execution_count": 664,
   "id": "cf53df9e",
   "metadata": {},
   "outputs": [],
   "source": [
    "route_a_b['Fullmatch']=(route_a_b['asn']==route_a_b['origin']) #python discards order when evaluating set equality"
   ]
  },
  {
   "cell_type": "code",
   "execution_count": 667,
   "id": "fd739118",
   "metadata": {},
   "outputs": [],
   "source": [
    "fully_matched=route_a_b[route_a_b['Fullmatch']]['route'].unique()"
   ]
  },
  {
   "cell_type": "code",
   "execution_count": 668,
   "id": "bea9688a",
   "metadata": {},
   "outputs": [],
   "source": [
    "for i in list(route_a_b.index[route_a_b['route'].isin(fully_matched)]):\n",
    "    route_a_b.at[i,'related']=True"
   ]
  },
  {
   "cell_type": "code",
   "execution_count": 669,
   "id": "165e4bf8",
   "metadata": {},
   "outputs": [
    {
     "name": "stdout",
     "output_type": "stream",
     "text": [
      "130  have a full overlap.\n"
     ]
    }
   ],
   "source": [
    "print(route_a_b[route_a_b['related']]['route'].nunique(),\" have a full overlap.\")"
   ]
  },
  {
   "cell_type": "code",
   "execution_count": 670,
   "id": "e640adac",
   "metadata": {},
   "outputs": [
    {
     "name": "stdout",
     "output_type": "stream",
     "text": [
      "489  do not have a full overlap.\n"
     ]
    }
   ],
   "source": [
    "notfullmatch=route_a_b[~route_a_b['Fullmatch']]\n",
    "print(notfullmatch['route'].nunique(),\" do not have a full overlap.\")"
   ]
  },
  {
   "cell_type": "markdown",
   "id": "e115d39b",
   "metadata": {},
   "source": [
    "### Partial Overlap"
   ]
  },
  {
   "cell_type": "code",
   "execution_count": 826,
   "id": "60636e6e",
   "metadata": {},
   "outputs": [],
   "source": [
    "route_a_b['intersec'] = route_a_b.apply(lambda x: set(x['asn']).intersection(set(x['origin'])), axis=1)\n",
    "route_a_b['partial_match']=(route_a_b['intersec']!=set())\n",
    "route_a_b['all_ases']=route_a_b.apply(lambda x: (x['asn'] | x['origin']), axis=1)"
   ]
  },
  {
   "cell_type": "code",
   "execution_count": 827,
   "id": "4c58b235",
   "metadata": {},
   "outputs": [],
   "source": [
    "partial=route_a_b[(~route_a_b['Fullmatch']) & (route_a_b['partial_match'])]"
   ]
  },
  {
   "cell_type": "code",
   "execution_count": 837,
   "id": "4cb3645a",
   "metadata": {},
   "outputs": [
    {
     "name": "stdout",
     "output_type": "stream",
     "text": [
      "177 prefixes have a partial overlap.\n"
     ]
    }
   ],
   "source": [
    "print(partial['route'].nunique(),\"prefixes have a partial overlap.\")"
   ]
  },
  {
   "cell_type": "markdown",
   "id": "d60f2fef",
   "metadata": {},
   "source": [
    "#### Do they belong to same org?"
   ]
  },
  {
   "cell_type": "code",
   "execution_count": 829,
   "id": "e0bdfab6",
   "metadata": {},
   "outputs": [
    {
     "name": "stderr",
     "output_type": "stream",
     "text": [
      "100%|██████████| 177/177 [00:06<00:00, 25.86it/s]\n"
     ]
    }
   ],
   "source": [
    "pa_mis_rs=partial['route'].unique() # checking that the AS partial mismatches might be from the same org\n",
    "r2orgspa={}\n",
    "ctr=0\n",
    "tot=len(pa_mis_rs)\n",
    "for r in tqdm(pa_mis_rs):\n",
    "    r2orgspa[r]=[]\n",
    "    ases_to_check=list(partial[partial['route']==str(r)]['all_ases'])[0]\n",
    "    clean=[i.replace(\"'\",\"\") for i in ases_to_check]\n",
    "    clean=[i.replace(\"AS\",\"\") for i in ases_to_check]\n",
    "    for a in clean:\n",
    "        if a in orgs_ases_gt:\n",
    "            check_org=list(orgs[orgs['aut']==a]['org_id'].unique())[0]\n",
    "            r2orgspa[r].append(check_org)\n",
    "        if a not in orgs_ases_gt:\n",
    "            r2orgspa[r].append('missing')\n",
    "for r in r2orgspa:\n",
    "    r2orgspa[r]=set(r2orgspa[r])"
   ]
  },
  {
   "cell_type": "code",
   "execution_count": 830,
   "id": "ca77cf8b",
   "metadata": {},
   "outputs": [],
   "source": [
    "as_mismatch_same_org=[]\n",
    "for r in r2orgspa:\n",
    "    if (len(r2orgspa[r])==1) and (r2orgspa[r]!='missing'):\n",
    "        as_mismatch_same_org.append(r)"
   ]
  },
  {
   "cell_type": "code",
   "execution_count": 831,
   "id": "6542b7c6",
   "metadata": {},
   "outputs": [
    {
     "name": "stdout",
     "output_type": "stream",
     "text": [
      "0 prefixes belong to the same org.\n"
     ]
    }
   ],
   "source": [
    "print(len(as_mismatch_same_org),\"prefixes belong to the same org.\")"
   ]
  },
  {
   "cell_type": "markdown",
   "id": "28997a81",
   "metadata": {},
   "source": [
    "#### If not, is there a customer or peer relationship?"
   ]
  },
  {
   "cell_type": "code",
   "execution_count": 832,
   "id": "ca8ba844",
   "metadata": {},
   "outputs": [
    {
     "name": "stderr",
     "output_type": "stream",
     "text": [
      "100%|██████████| 177/177 [00:00<00:00, 1516.30it/s]\n"
     ]
    }
   ],
   "source": [
    "check_rel=partial[~partial['related']]['route'].unique()\n",
    "related=[]\n",
    "unrelated=[]\n",
    "for r in tqdm(check_rel):\n",
    "    check_ases=list(list(route_a_b[route_a_b['route']==str(r)]['all_ases'])[0])\n",
    "    #use first AS to check relationships\n",
    "    token_as=check_ases[0].lower().split('as')[1]\n",
    "    #check if the rest of the ases are peers, customers, or providers\n",
    "    token_peers=[]\n",
    "    token_providers=[]\n",
    "    token_customers=[]\n",
    "    if token_as in myproviders:\n",
    "        token_providers=myproviders[token_as]\n",
    "    if token_as in mycustomers:\n",
    "        token_customers=mycustomers[token_as]\n",
    "    if token_as in mypeers:\n",
    "        token_peers=mypeers[token_as]\n",
    "    for a in check_ases:\n",
    "        clean=a.lower().split('as')[1]\n",
    "        if clean==token_as:\n",
    "            continue\n",
    "        if clean in token_peers:\n",
    "            related.append(r)\n",
    "        if clean in token_customers:\n",
    "            related.append(r)\n",
    "        if clean in token_providers:\n",
    "            related.append(r)\n",
    "    if r not in related:\n",
    "        unrelated.append(r)\n",
    "related=set(related)\n",
    "unrelated=set(unrelated)"
   ]
  },
  {
   "cell_type": "code",
   "execution_count": 833,
   "id": "57092c3c",
   "metadata": {},
   "outputs": [
    {
     "data": {
      "text/plain": [
       "177"
      ]
     },
     "execution_count": 833,
     "metadata": {},
     "output_type": "execute_result"
    }
   ],
   "source": [
    "len(related)+len(unrelated)"
   ]
  },
  {
   "cell_type": "code",
   "execution_count": 834,
   "id": "5a0666c3",
   "metadata": {},
   "outputs": [],
   "source": [
    "for i in list(route_a_b.index[route_a_b['route'].isin(related)]):\n",
    "    route_a_b.at[i,'related']=True"
   ]
  },
  {
   "cell_type": "code",
   "execution_count": 835,
   "id": "77570d71",
   "metadata": {},
   "outputs": [
    {
     "name": "stdout",
     "output_type": "stream",
     "text": [
      "26 routes have a customer or provider or peer relationship.\n"
     ]
    }
   ],
   "source": [
    "print(len(related),\"routes have a customer or provider or peer relationship.\")"
   ]
  },
  {
   "cell_type": "code",
   "execution_count": 836,
   "id": "91326999",
   "metadata": {},
   "outputs": [
    {
     "name": "stdout",
     "output_type": "stream",
     "text": [
      "151 routes do not have a customer or provider or peer relationship.\n"
     ]
    }
   ],
   "source": [
    "print(len(unrelated),\"routes do not have a customer or provider or peer relationship.\")"
   ]
  },
  {
   "cell_type": "markdown",
   "id": "3cdea316",
   "metadata": {},
   "source": [
    "### No Overlap"
   ]
  },
  {
   "cell_type": "code",
   "execution_count": 673,
   "id": "7fa8405f",
   "metadata": {},
   "outputs": [
    {
     "name": "stdout",
     "output_type": "stream",
     "text": [
      "312 total mismatches.\n"
     ]
    }
   ],
   "source": [
    "print(route_a_b[~route_a_b['partial_match']]['route'].nunique(),\"total mismatches.\")"
   ]
  },
  {
   "cell_type": "code",
   "execution_count": 674,
   "id": "302bb549",
   "metadata": {},
   "outputs": [],
   "source": [
    "total=route_a_b[~route_a_b['partial_match']]"
   ]
  },
  {
   "cell_type": "code",
   "execution_count": 648,
   "id": "d02e9494",
   "metadata": {},
   "outputs": [
    {
     "name": "stderr",
     "output_type": "stream",
     "text": [
      "100%|██████████| 312/312 [00:14<00:00, 21.74it/s]\n"
     ]
    }
   ],
   "source": [
    "tot_mis_rs=total['route'].unique() # checking that the AS mismatches might be from the same org\n",
    "r2orgs={}\n",
    "ctr=0\n",
    "tot=len(tot_mis_rs)\n",
    "for r in tqdm(tot_mis_rs):\n",
    "    r2orgs[r]=[]\n",
    "    ases_to_check=list(total[total['route']==str(r)]['all_ases'])[0]\n",
    "    clean=[i.replace(\"'\",\"\") for i in ases_to_check]\n",
    "    clean=[i.replace(\"AS\",\"\") for i in ases_to_check]\n",
    "    for a in clean:\n",
    "        if a in orgs_ases_gt:\n",
    "            check_org=list(orgs[orgs['aut']==a]['org_id'].unique())[0]\n",
    "            r2orgs[r].append(check_org)\n",
    "        if a not in orgs_ases_gt:\n",
    "            r2orgs[r].append('missing')\n",
    "for r in r2orgs:\n",
    "    r2orgs[r]=set(r2orgs[r])"
   ]
  },
  {
   "cell_type": "code",
   "execution_count": 649,
   "id": "9c13a4ee",
   "metadata": {},
   "outputs": [],
   "source": [
    "as_mismatch_same_org=[]\n",
    "for r in r2orgs:\n",
    "    if (len(r2orgs[r])==1) and (r2orgs[r]!='missing'):\n",
    "        as_mismatch_same_org.append(r)"
   ]
  },
  {
   "cell_type": "code",
   "execution_count": 650,
   "id": "5d71d426",
   "metadata": {},
   "outputs": [
    {
     "name": "stdout",
     "output_type": "stream",
     "text": [
      "1 prefixes belong to the same org.\n"
     ]
    }
   ],
   "source": [
    "print(len(as_mismatch_same_org),\"prefixes belong to the same org.\")"
   ]
  },
  {
   "cell_type": "code",
   "execution_count": 824,
   "id": "1b71ca0b",
   "metadata": {},
   "outputs": [
    {
     "name": "stdout",
     "output_type": "stream",
     "text": [
      "311 prefixes do not belong to the same org.\n"
     ]
    }
   ],
   "source": [
    "print(len(tot_mis_rs)-len(as_mismatch_same_org),\"prefixes do not belong to the same org.\")"
   ]
  },
  {
   "cell_type": "code",
   "execution_count": 671,
   "id": "28aa8d0f",
   "metadata": {},
   "outputs": [],
   "source": [
    "route_a_b['same_org']=False\n",
    "for i in list(route_a_b.index[route_a_b['route'].isin(as_mismatch_same_org)]):\n",
    "    route_a_b.at[i,'same_org']=True\n",
    "    route_a_b.at[i,'related']=True"
   ]
  },
  {
   "cell_type": "markdown",
   "id": "03a596af",
   "metadata": {},
   "source": [
    "#### If not, is there a customer or peer relationship?"
   ]
  },
  {
   "cell_type": "code",
   "execution_count": 815,
   "id": "3573897d",
   "metadata": {},
   "outputs": [
    {
     "name": "stderr",
     "output_type": "stream",
     "text": [
      "100%|██████████| 311/311 [00:00<00:00, 1469.77it/s]\n"
     ]
    }
   ],
   "source": [
    "check_rel=total[~total['related']]['route'].unique()\n",
    "related=[]\n",
    "unrelated=[]\n",
    "for r in tqdm(check_rel):\n",
    "    check_ases=list(list(route_a_b[route_a_b['route']==str(r)]['all_ases'])[0])\n",
    "    #use first AS to check relationships\n",
    "    token_as=check_ases[0].split('AS')[1]\n",
    "    #check if the rest of the ases are peers, customers, or providers\n",
    "    token_peers=[]\n",
    "    token_providers=[]\n",
    "    token_customers=[]\n",
    "    if token_as in myproviders:\n",
    "        token_providers=myproviders[token_as]\n",
    "    if token_as in mycustomers:\n",
    "        token_customers=mycustomers[token_as]\n",
    "    if token_as in mypeers:\n",
    "        token_peers=mypeers[token_as]\n",
    "    for a in check_ases:\n",
    "        clean=a.split('AS')[1]\n",
    "        if clean==token_as:\n",
    "            continue\n",
    "        if clean in token_peers:\n",
    "            related.append(r)\n",
    "        if clean in token_customers:\n",
    "            related.append(r)\n",
    "        if clean in token_providers:\n",
    "            related.append(r)\n",
    "    if r not in related:\n",
    "        unrelated.append(r)\n",
    "related=set(related)\n",
    "unrelated=set(unrelated)"
   ]
  },
  {
   "cell_type": "code",
   "execution_count": 816,
   "id": "63c0a8fc",
   "metadata": {
    "scrolled": true
   },
   "outputs": [
    {
     "data": {
      "text/plain": [
       "311"
      ]
     },
     "execution_count": 816,
     "metadata": {},
     "output_type": "execute_result"
    }
   ],
   "source": [
    "len(related)+len(unrelated)"
   ]
  },
  {
   "cell_type": "code",
   "execution_count": 820,
   "id": "0b053461",
   "metadata": {},
   "outputs": [],
   "source": [
    "for i in list(route_a_b.index[route_a_b['route'].isin(related)]):\n",
    "    route_a_b.at[i,'related']=True"
   ]
  },
  {
   "cell_type": "code",
   "execution_count": 822,
   "id": "c6c9c26d",
   "metadata": {},
   "outputs": [
    {
     "name": "stdout",
     "output_type": "stream",
     "text": [
      "16 routes have a customer or provider or peer relationship.\n"
     ]
    }
   ],
   "source": [
    "print(len(related),\"routes have a customer or provider or peer relationship.\")"
   ]
  },
  {
   "cell_type": "code",
   "execution_count": 823,
   "id": "6e838c65",
   "metadata": {},
   "outputs": [
    {
     "name": "stdout",
     "output_type": "stream",
     "text": [
      "295 routes do not have a customer or provider or peer relationship.\n"
     ]
    }
   ],
   "source": [
    "print(len(unrelated),\"routes do not have a customer or provider or peer relationship.\")"
   ]
  },
  {
   "cell_type": "code",
   "execution_count": null,
   "id": "9593e561",
   "metadata": {},
   "outputs": [],
   "source": []
  }
 ],
 "metadata": {
  "kernelspec": {
   "display_name": "Python 3",
   "language": "python",
   "name": "python3"
  },
  "language_info": {
   "codemirror_mode": {
    "name": "ipython",
    "version": 3
   },
   "file_extension": ".py",
   "mimetype": "text/x-python",
   "name": "python",
   "nbconvert_exporter": "python",
   "pygments_lexer": "ipython3",
   "version": "3.8.3"
  },
  "toc": {
   "base_numbering": 1,
   "nav_menu": {
    "height": "596px",
    "width": "228px"
   },
   "number_sections": true,
   "sideBar": true,
   "skip_h1_title": false,
   "title_cell": "Table of Contents",
   "title_sidebar": "Contents",
   "toc_cell": false,
   "toc_position": {},
   "toc_section_display": true,
   "toc_window_display": false
  }
 },
 "nbformat": 4,
 "nbformat_minor": 5
}
