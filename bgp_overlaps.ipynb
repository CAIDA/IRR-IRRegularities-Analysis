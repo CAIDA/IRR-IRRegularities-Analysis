{
 "cells": [
  {
   "cell_type": "markdown",
   "id": "b84a063e",
   "metadata": {},
   "source": [
    "This notebook may take X minutes to run."
   ]
  },
  {
   "cell_type": "code",
   "execution_count": 35,
   "id": "eb7397a0",
   "metadata": {},
   "outputs": [],
   "source": [
    "import pandas as pd\n",
    "import numpy as np\n",
    "from datetime import datetime\n",
    "import time\n",
    "#import matplotlib.pyplot as plt\n",
    "import gzip\n",
    "import json\n",
    "#from tabulate import tabulate\n",
    "import bz2\n",
    "#import os"
   ]
  },
  {
   "cell_type": "markdown",
   "id": "4291d726",
   "metadata": {},
   "source": [
    "# Load the Data"
   ]
  },
  {
   "cell_type": "markdown",
   "id": "39c1f9dd",
   "metadata": {},
   "source": [
    "## Helper functions and variables"
   ]
  },
  {
   "cell_type": "code",
   "execution_count": 10,
   "id": "e0fb8430",
   "metadata": {},
   "outputs": [],
   "source": [
    "def delta_date(x):\n",
    "    return (str_to_date(x['end_date']) - str_to_date(x['start_date'])).days + 1"
   ]
  },
  {
   "cell_type": "code",
   "execution_count": 11,
   "id": "1016b57b",
   "metadata": {},
   "outputs": [],
   "source": [
    "def str_to_date(d):\n",
    "    return datetime.strptime(d, \"%Y-%m-%d\")"
   ]
  },
  {
   "cell_type": "code",
   "execution_count": 30,
   "id": "344b97ca",
   "metadata": {},
   "outputs": [],
   "source": [
    "datapath=\"irrs/\""
   ]
  },
  {
   "cell_type": "code",
   "execution_count": 253,
   "id": "b127bcd5",
   "metadata": {},
   "outputs": [],
   "source": [
    "def overlap_db(db):\n",
    "    timeless_overlap = db.merge(bgp, left_on='route', right_on='prefix', suffixes=('_route', '_prefix'))\n",
    "    timeless_overlap['end_date'] = pd.to_datetime(timeless_overlap['end_date'], format=\"%Y-%m-%d\")\n",
    "    timeless_overlap['start_date'] = pd.to_datetime(timeless_overlap['start_date'], format=\"%Y-%m-%d\")\n",
    "    timeless_overlap['start']=pd.to_datetime(timeless_overlap['start'], unit='s').dt.strftime('%Y-%m-%d')\n",
    "    timeless_overlap['end']=pd.to_datetime(timeless_overlap['end'], unit='s').dt.strftime('%Y-%m-%d')\n",
    "    #timeless_overlap['origin']=timeless_overlap['origin'].str.replace('AS',\"\")\n",
    "    actual_overlap = timeless_overlap[(timeless_overlap.end_date > timeless_overlap.start)&(timeless_overlap.start_date < timeless_overlap.end)]\n",
    "    #actual_overlap['asn']=actual_overlap['asn'].map(str)\n",
    "    return actual_overlap"
   ]
  },
  {
   "cell_type": "markdown",
   "id": "fb740030",
   "metadata": {},
   "source": [
    "## Load BGP"
   ]
  },
  {
   "cell_type": "code",
   "execution_count": 83,
   "id": "ab3f9676",
   "metadata": {},
   "outputs": [],
   "source": [
    "bgp = pd.read_csv('pfx2as_2021_2023_merged.csv.gz', names=['prefix', 'asn', 'start', 'end'], delimiter=' ',low_memory=False)\n",
    "bgp['duration'] = bgp['end'] - bgp['start']\n",
    "bgpagg = bgp.groupby(['prefix', 'asn']).agg({'duration':'sum'}).reset_index()\n",
    "bgpagg['asn']='AS'+bgpagg['asn'].astype(str)"
   ]
  },
  {
   "cell_type": "markdown",
   "id": "45a95810",
   "metadata": {},
   "source": [
    "## Load Altdb"
   ]
  },
  {
   "cell_type": "code",
   "execution_count": 287,
   "id": "2d23f86d",
   "metadata": {},
   "outputs": [],
   "source": [
    "altdb = pd.read_json(datapath+'altdb/altdb.route.json.gz', lines=True)\n",
    "altdb['lifetime'] = altdb.apply(delta_date, axis=1)\n",
    "altdb_overlap=overlap_db(altdb)\n",
    "altdbagg = altdb_overlap.groupby(['route', 'origin']).agg({'lifetime':'sum'}).reset_index()"
   ]
  },
  {
   "cell_type": "markdown",
   "id": "47746f98",
   "metadata": {},
   "source": [
    "## Load Radb"
   ]
  },
  {
   "cell_type": "code",
   "execution_count": 310,
   "id": "3e746ce3",
   "metadata": {},
   "outputs": [],
   "source": [
    "radb = pd.read_json(datapath+'radb/radb.route.json.gz', lines=True)\n",
    "radb['lifetime'] = radb.apply(delta_date, axis=1)\n",
    "radb_overlap=overlap_db(radb)\n",
    "radbagg = radb_overlap.groupby(['route', 'origin']).agg({'lifetime':'sum'}).reset_index()"
   ]
  },
  {
   "cell_type": "markdown",
   "id": "6e5574f2",
   "metadata": {},
   "source": [
    "## Load Afrinic"
   ]
  },
  {
   "cell_type": "code",
   "execution_count": 288,
   "id": "f1358f3b",
   "metadata": {},
   "outputs": [],
   "source": [
    "afrinic = pd.read_json(datapath+'afrinic/afrinic.route.json.gz', lines=True)\n",
    "afrinic['lifetime'] = afrinic.apply(delta_date, axis=1)\n",
    "afrinic_overlap=overlap_db(afrinic)\n",
    "afrinicagg = afrinic_overlap.groupby(['route', 'origin']).agg({'lifetime':'sum'}).reset_index()"
   ]
  },
  {
   "cell_type": "markdown",
   "id": "18d00994",
   "metadata": {},
   "source": [
    "## Load Jpirr"
   ]
  },
  {
   "cell_type": "code",
   "execution_count": 289,
   "id": "fa7c0072",
   "metadata": {},
   "outputs": [],
   "source": [
    "jpirr = pd.read_json(datapath+'jpirr/jpirr.route.json.gz', lines=True)\n",
    "jpirr['lifetime'] = jpirr.apply(delta_date, axis=1)\n",
    "jpirr_overlap=overlap_db(jpirr)\n",
    "jpirragg = jpirr_overlap.groupby(['route', 'origin']).agg({'lifetime':'sum'}).reset_index()"
   ]
  },
  {
   "cell_type": "markdown",
   "id": "b4d73600",
   "metadata": {},
   "source": [
    "## Load Canarie"
   ]
  },
  {
   "cell_type": "code",
   "execution_count": 290,
   "id": "207ba590",
   "metadata": {},
   "outputs": [],
   "source": [
    "canarie = pd.read_json(datapath+'canarie/canarie.route.json.gz', lines=True)\n",
    "canarie['lifetime'] = canarie.apply(delta_date, axis=1)\n",
    "canarie_overlap=overlap_db(canarie)\n",
    "canarieagg = canarie_overlap.groupby(['route', 'origin']).agg({'lifetime':'sum'}).reset_index()"
   ]
  },
  {
   "cell_type": "markdown",
   "id": "50d29ba3",
   "metadata": {},
   "source": [
    "## Load Apnic"
   ]
  },
  {
   "cell_type": "code",
   "execution_count": 291,
   "id": "fea68443",
   "metadata": {},
   "outputs": [],
   "source": [
    "apnic = pd.read_json(datapath+'apnic/apnic.route.json.gz', lines=True)\n",
    "apnic['lifetime'] = apnic.apply(delta_date, axis=1)\n",
    "apnic_overlap=overlap_db(apnic)\n",
    "apnicagg = apnic_overlap.groupby(['route', 'origin']).agg({'lifetime':'sum'}).reset_index()"
   ]
  },
  {
   "cell_type": "markdown",
   "id": "0a113f04",
   "metadata": {},
   "source": [
    "## Load Arin-Nonauth"
   ]
  },
  {
   "cell_type": "code",
   "execution_count": 292,
   "id": "24953b01",
   "metadata": {},
   "outputs": [],
   "source": [
    "arin_nonauth = pd.read_json(datapath+'arin-nonauth/arin-nonauth.route.json.gz', lines=True)\n",
    "arin_nonauth['lifetime'] = arin_nonauth.apply(delta_date, axis=1)\n",
    "arin_nonauth_overlap=overlap_db(arin_nonauth)\n",
    "arin_nonauthagg = arin_nonauth_overlap.groupby(['route', 'origin']).agg({'lifetime':'sum'}).reset_index()"
   ]
  },
  {
   "cell_type": "markdown",
   "id": "aa16a1de",
   "metadata": {},
   "source": [
    "## Load Level3"
   ]
  },
  {
   "cell_type": "code",
   "execution_count": 293,
   "id": "baac2310",
   "metadata": {},
   "outputs": [],
   "source": [
    "level3 = pd.read_json(datapath+'level3/level3.route.json.gz', lines=True)\n",
    "level3['lifetime'] = level3.apply(delta_date, axis=1)\n",
    "level3_overlap=overlap_db(level3)\n",
    "level3agg = level3_overlap.groupby(['route', 'origin']).agg({'lifetime':'sum'}).reset_index()"
   ]
  },
  {
   "cell_type": "markdown",
   "id": "bd052ab2",
   "metadata": {},
   "source": [
    "## Load Nestegg"
   ]
  },
  {
   "cell_type": "code",
   "execution_count": 294,
   "id": "fb9d803e",
   "metadata": {},
   "outputs": [],
   "source": [
    "nestegg = pd.read_json(datapath+'nestegg/nestegg.route.json.gz', lines=True)\n",
    "nestegg['lifetime'] = nestegg.apply(delta_date, axis=1)\n",
    "nestegg_overlap=overlap_db(nestegg)\n",
    "nesteggagg = nestegg_overlap.groupby(['route', 'origin']).agg({'lifetime':'sum'}).reset_index()"
   ]
  },
  {
   "cell_type": "markdown",
   "id": "0a764ff3",
   "metadata": {},
   "source": [
    "## Load BBoi"
   ]
  },
  {
   "cell_type": "code",
   "execution_count": 295,
   "id": "809364f0",
   "metadata": {},
   "outputs": [],
   "source": [
    "bboi= pd.read_json(datapath+'bboi/bboi.route.json.gz', lines=True)\n",
    "bboi['lifetime'] = bboi.apply(delta_date, axis=1)\n",
    "bboi_overlap=overlap_db(bboi)\n",
    "bboiagg = bboi_overlap.groupby(['route', 'origin']).agg({'lifetime':'sum'}).reset_index()"
   ]
  },
  {
   "cell_type": "markdown",
   "id": "d39ce724",
   "metadata": {},
   "source": [
    "## Load idnic"
   ]
  },
  {
   "cell_type": "code",
   "execution_count": 296,
   "id": "c7642003",
   "metadata": {},
   "outputs": [],
   "source": [
    "idnic= pd.read_json(datapath+'idnic/idnic.route.json.gz', lines=True)\n",
    "idnic['lifetime'] = idnic.apply(delta_date, axis=1)\n",
    "idnic_overlap=overlap_db(idnic)\n",
    "idnicagg = idnic_overlap.groupby(['route', 'origin']).agg({'lifetime':'sum'}).reset_index()"
   ]
  },
  {
   "cell_type": "markdown",
   "id": "406d5b8e",
   "metadata": {},
   "source": [
    "## Load wcgdb"
   ]
  },
  {
   "cell_type": "code",
   "execution_count": 297,
   "id": "53b2e2e2",
   "metadata": {},
   "outputs": [],
   "source": [
    "wcgdb= pd.read_json(datapath+'wcgdb/wcgdb.route.json.gz', lines=True)\n",
    "wcgdb['lifetime'] = wcgdb.apply(delta_date, axis=1)\n",
    "wcgdb_overlap=overlap_db(wcgdb)\n",
    "wcgdbagg = wcgdb_overlap.groupby(['route', 'origin']).agg({'lifetime':'sum'}).reset_index()"
   ]
  },
  {
   "cell_type": "markdown",
   "id": "f3952f22",
   "metadata": {},
   "source": [
    "## Load RGNET"
   ]
  },
  {
   "cell_type": "code",
   "execution_count": 298,
   "id": "6656dc41",
   "metadata": {},
   "outputs": [],
   "source": [
    "rgnet= pd.read_json(datapath+'rgnet/rgnet.route.json.gz', lines=True)\n",
    "rgnet['lifetime'] = rgnet.apply(delta_date, axis=1)\n",
    "rgnet_overlap=overlap_db(rgnet)\n",
    "rgnetagg = rgnet_overlap.groupby(['route', 'origin']).agg({'lifetime':'sum'}).reset_index()"
   ]
  },
  {
   "cell_type": "markdown",
   "id": "f45482af",
   "metadata": {},
   "source": [
    "## Load tc"
   ]
  },
  {
   "cell_type": "code",
   "execution_count": 299,
   "id": "4f7d10d6",
   "metadata": {},
   "outputs": [],
   "source": [
    "tc= pd.read_json(datapath+'tc/tc.route.json.gz', lines=True)\n",
    "tc['lifetime'] = tc.apply(delta_date, axis=1)\n",
    "tc_overlap=overlap_db(tc)\n",
    "tcagg = tc_overlap.groupby(['route', 'origin']).agg({'lifetime':'sum'}).reset_index()"
   ]
  },
  {
   "cell_type": "markdown",
   "id": "b1c2dd01",
   "metadata": {},
   "source": [
    "## Load Lacnic"
   ]
  },
  {
   "cell_type": "code",
   "execution_count": 300,
   "id": "351879f5",
   "metadata": {},
   "outputs": [],
   "source": [
    "lacnic= pd.read_json(datapath+'lacnic/lacnic.route.json.gz', lines=True)\n",
    "lacnic['lifetime'] = lacnic.apply(delta_date, axis=1)\n",
    "lacnic_overlap=overlap_db(lacnic)\n",
    "lacnicagg = lacnic_overlap.groupby(['route', 'origin']).agg({'lifetime':'sum'}).reset_index()"
   ]
  },
  {
   "cell_type": "markdown",
   "id": "90062cad",
   "metadata": {},
   "source": [
    "## Load Ripe-nonauth"
   ]
  },
  {
   "cell_type": "code",
   "execution_count": 301,
   "id": "695b9ff6",
   "metadata": {},
   "outputs": [],
   "source": [
    "ripe_nonauth= pd.read_json(datapath+'ripe-nonauth/ripe-nonauth.route.json.gz', lines=True)\n",
    "ripe_nonauth['lifetime'] = ripe_nonauth.apply(delta_date, axis=1)\n",
    "ripe_nonauth_overlap=overlap_db(ripe_nonauth)\n",
    "ripe_nonauthagg = ripe_nonauth_overlap.groupby(['route', 'origin']).agg({'lifetime':'sum'}).reset_index()"
   ]
  },
  {
   "cell_type": "markdown",
   "id": "76c89397",
   "metadata": {},
   "source": [
    "## Load Openface"
   ]
  },
  {
   "cell_type": "code",
   "execution_count": 302,
   "id": "2be737b6",
   "metadata": {},
   "outputs": [],
   "source": [
    "openface= pd.read_json(datapath+'openface/openface.route.json.gz', lines=True)\n",
    "openface['lifetime'] = openface.apply(delta_date, axis=1)\n",
    "openface_overlap=overlap_db(openface)\n",
    "openfaceagg = openface_overlap.groupby(['route', 'origin']).agg({'lifetime':'sum'}).reset_index()"
   ]
  },
  {
   "cell_type": "markdown",
   "id": "b84ef72d",
   "metadata": {},
   "source": [
    "## Load Panix"
   ]
  },
  {
   "cell_type": "code",
   "execution_count": 303,
   "id": "17ece23b",
   "metadata": {},
   "outputs": [],
   "source": [
    "panix= pd.read_json(datapath+'panix/panix.route.json.gz', lines=True)\n",
    "panix['lifetime'] = panix.apply(delta_date, axis=1)\n",
    "panix_overlap=overlap_db(panix)\n",
    "panixagg = panix_overlap.groupby(['route', 'origin']).agg({'lifetime':'sum'}).reset_index()"
   ]
  },
  {
   "cell_type": "markdown",
   "id": "956194ce",
   "metadata": {},
   "source": [
    "## Load Arin"
   ]
  },
  {
   "cell_type": "code",
   "execution_count": 304,
   "id": "9f1c4a5c",
   "metadata": {},
   "outputs": [],
   "source": [
    "arin= pd.read_json(datapath+'arin/arin.route.json.gz', lines=True)\n",
    "arin['lifetime'] = arin.apply(delta_date, axis=1)\n",
    "arin_overlap=overlap_db(arin)\n",
    "arinagg = arin_overlap.groupby(['route', 'origin']).agg({'lifetime':'sum'}).reset_index()"
   ]
  },
  {
   "cell_type": "markdown",
   "id": "cdbe2b6f",
   "metadata": {},
   "source": [
    "## Load Ripe"
   ]
  },
  {
   "cell_type": "code",
   "execution_count": 305,
   "id": "9bb8ff05",
   "metadata": {},
   "outputs": [],
   "source": [
    "ripe= pd.read_json(datapath+'ripe/ripe.route.json.gz', lines=True)\n",
    "ripe['lifetime'] = ripe.apply(delta_date, axis=1)\n",
    "ripe_overlap=overlap_db(ripe)\n",
    "ripeagg = ripe_overlap.groupby(['route', 'origin']).agg({'lifetime':'sum'}).reset_index()"
   ]
  },
  {
   "cell_type": "markdown",
   "id": "33228cf6",
   "metadata": {},
   "source": [
    "## Load Nttcom"
   ]
  },
  {
   "cell_type": "code",
   "execution_count": 306,
   "id": "f574792c",
   "metadata": {},
   "outputs": [],
   "source": [
    "nttcom= pd.read_json(datapath+'nttcom/nttcom.route.json.gz', lines=True)\n",
    "nttcom['lifetime'] = nttcom.apply(delta_date, axis=1)\n",
    "nttcom_overlap=overlap_db(nttcom)\n",
    "nttcomagg = nttcom_overlap.groupby(['route', 'origin']).agg({'lifetime':'sum'}).reset_index()"
   ]
  },
  {
   "cell_type": "markdown",
   "id": "ee921264",
   "metadata": {},
   "source": [
    "# Table 2: Calculate number of prefix-origin pairs in every IRR, overlap of prefix-origin pairs with BGP and all IRRs, & generate table"
   ]
  },
  {
   "cell_type": "markdown",
   "id": "05ae55ce",
   "metadata": {},
   "source": [
    "## Helper functions"
   ]
  },
  {
   "cell_type": "code",
   "execution_count": 307,
   "id": "bbebbee5",
   "metadata": {},
   "outputs": [],
   "source": [
    "def numerator_overlap(dfagg):\n",
    "    overlap=len(dfagg.merge(aggbgp, left_on=['route', 'origin'], right_on=['prefix', 'asn']))\n",
    "    return overlap"
   ]
  },
  {
   "cell_type": "code",
   "execution_count": 308,
   "id": "a188340a",
   "metadata": {},
   "outputs": [],
   "source": [
    "def denominator(df):\n",
    "    return len(df)"
   ]
  },
  {
   "cell_type": "code",
   "execution_count": 313,
   "id": "5a6409d1",
   "metadata": {},
   "outputs": [],
   "source": [
    "def percentage_frac(dfagg,df):\n",
    "    num=numerator_overlap(dfagg)\n",
    "    denom=denominator(df)\n",
    "    return str(round((num*100/denom),2))+\"\\% (\"+str(num)+\"/\"+str(denom)+\")\""
   ]
  },
  {
   "cell_type": "code",
   "execution_count": null,
   "id": "70ddb0dd",
   "metadata": {},
   "outputs": [
    {
     "name": "stdout",
     "output_type": "stream",
     "text": [
      "\\begin{table}[!h]\n",
      "\\begin{tabular}{l|l|l}\n",
      "\\toprule\n",
      "IRR & \\# Prefix-Origin Pairs & \\% Prefix-Origin Pairs in BGP \\\\\n",
      "\\midrule\n",
      "AFRINIC & 106842 & 20.37\\% (21759/106842) \\\\\n",
      "\\midrule\n",
      "ALTDB & 27493 & 58.35\\% (16043/27493) \\\\\n",
      "\\midrule\n",
      "APNIC & 701196 & 17.32\\% (121480/701196) \\\\\n",
      "\\midrule\n",
      "ARIN & 104298 & 49.35\\% (51467/104298) \\\\\n",
      "\\midrule\n",
      "ARIN-NA & 66126 & 18.4\\% (12169/66126) \\\\\n",
      "\\midrule\n",
      "BBOI & 952 & 51.89\\% (494/952) \\\\\n",
      "\\midrule\n",
      "CANARIE & 1460 & 58.42\\% (853/1460) \\\\\n",
      "\\midrule\n",
      "IDNIC & 6158 & 64.44\\% (3968/6158) \\\\\n",
      "\\midrule\n",
      "JPIRR & 42546 & 21.42\\% (9114/42546) \\\\\n",
      "\\midrule\n",
      "LACNIC & 97908 & 10.01\\% (9800/97908) \\\\\n",
      "\\midrule\n",
      "LEVEL3 & 121534 & 18.47\\% (22452/121534) \\\\\n",
      "\\midrule\n",
      "NESTEGG & 4 & 75.0\\% (3/4) \\\\\n",
      "\\midrule\n",
      "NTTCOM & 502051 & 13.77\\% (69146/502051) \\\\\n",
      "\\midrule\n",
      "OPENFACE & 17 & 41.18\\% (7/17) \\\\\n",
      "\\midrule\n",
      "PANIX & 40 & 15.0\\% (6/40) \\\\\n",
      "\\midrule\n",
      "RADB & 1875251 & 23.7\\% (444479/1875251) \\\\\n",
      "\\midrule\n",
      "RGNET & 44 & 47.73\\% (21/44) \\\\\n",
      "\\midrule\n"
     ]
    }
   ],
   "source": [
    "print(\"\\\\begin{table}[!h]\")\n",
    "print(\"\\\\begin{tabular}{l|l|l}\")\n",
    "print(\"\\\\toprule\")\n",
    "print(\"IRR & \\# Prefix-Origin Pairs & \\% Prefix-Origin Pairs in BGP \"+chr(92)+chr(92))\n",
    "print(\"\\\\midrule\")\n",
    "print(\"AFRINIC\",\"&\",denominator(afrinic),\"&\", percentage_frac(afrinicagg,afrinic), chr(92)+chr(92))\n",
    "print(\"\\\\midrule\")\n",
    "print(\"ALTDB\",\"&\",denominator(altdb),\"&\", percentage_frac(altdbagg,altdb), chr(92)+chr(92))\n",
    "print(\"\\\\midrule\")\n",
    "print(\"APNIC\",\"&\",denominator(apnic),\"&\", percentage_frac(apnicagg,apnic), chr(92)+chr(92))\n",
    "print(\"\\\\midrule\")\n",
    "print(\"ARIN\",\"&\",denominator(arin),\"&\", percentage_frac(arinagg,arin), chr(92)+chr(92))\n",
    "print(\"\\\\midrule\")\n",
    "print(\"ARIN-NA\",\"&\",denominator(arin_nonauth),\"&\", percentage_frac(arin_nonauthagg,arin_nonauth), chr(92)+chr(92))\n",
    "print(\"\\\\midrule\")\n",
    "print(\"BBOI\",\"&\",denominator(bboi),\"&\", percentage_frac(bboiagg,bboi), chr(92)+chr(92))\n",
    "print(\"\\\\midrule\")\n",
    "print(\"CANARIE\",\"&\",denominator(canarie),\"&\", percentage_frac(canarieagg,canarie), chr(92)+chr(92))\n",
    "print(\"\\\\midrule\")\n",
    "print(\"IDNIC\",\"&\",denominator(idnic),\"&\", percentage_frac(idnicagg,idnic), chr(92)+chr(92))\n",
    "print(\"\\\\midrule\")\n",
    "print(\"JPIRR\",\"&\",denominator(jpirr),\"&\", percentage_frac(jpirragg,jpirr), chr(92)+chr(92))\n",
    "print(\"\\\\midrule\")\n",
    "print(\"LACNIC\",\"&\",denominator(lacnic),\"&\", percentage_frac(lacnicagg,lacnic), chr(92)+chr(92))\n",
    "print(\"\\\\midrule\")\n",
    "print(\"LEVEL3\",\"&\",denominator(level3),\"&\", percentage_frac(level3agg,level3), chr(92)+chr(92))\n",
    "print(\"\\\\midrule\")\n",
    "print(\"NESTEGG\",\"&\",denominator(nestegg),\"&\", percentage_frac(nesteggagg,nestegg), chr(92)+chr(92))\n",
    "print(\"\\\\midrule\")\n",
    "print(\"NTTCOM\",\"&\",denominator(nttcom),\"&\", percentage_frac(nttcomagg,nttcom), chr(92)+chr(92))\n",
    "print(\"\\\\midrule\")\n",
    "print(\"OPENFACE\",\"&\",denominator(openface),\"&\", percentage_frac(openfaceagg,openface), chr(92)+chr(92))\n",
    "print(\"\\\\midrule\")\n",
    "print(\"PANIX\",\"&\",denominator(panix),\"&\", percentage_frac(panixagg,panix), chr(92)+chr(92))\n",
    "print(\"\\\\midrule\")\n",
    "print(\"RADB\",\"&\",denominator(radb),\"&\", percentage_frac(radbagg,radb), chr(92)+chr(92))\n",
    "print(\"\\\\midrule\")\n",
    "print(\"RGNET\",\"&\",denominator(rgnet),\"&\", percentage_frac(rgnetagg,rgnet), chr(92)+chr(92))\n",
    "print(\"\\\\midrule\")\n",
    "print(\"RIPE\",\"&\",denominator(ripe),\"&\", percentage_frac(ripeagg,ripe), chr(92)+chr(92))\n",
    "print(\"\\\\midrule\")\n",
    "print(\"RIPE-NA\",\"&\",denominator(ripe_nonauth),\"&\", percentage_frac(ripe_nonauthagg,ripe_nonauth), chr(92)+chr(92))\n",
    "print(\"\\\\midrule\")\n",
    "print(\"TC\",\"&\",denominator(tc),\"&\", percentage_frac(tcagg,tc), chr(92)+chr(92))\n",
    "print(\"\\\\midrule\")\n",
    "print(\"WCGDB\",\"&\",denominator(wcgdb),\"&\", percentage_frac(wcgdbagg,wcgdb), chr(92)+chr(92))\n",
    "print(\"\\\\midrule\")\n",
    "print(\"\\\\bottomrule\")\n",
    "print(\"\\\\end{tabular}\")\n",
    "print(\"\\\\caption{insert}\")\n",
    "print(\"\\\\end{table}\")"
   ]
  },
  {
   "cell_type": "markdown",
   "id": "d1877918",
   "metadata": {},
   "source": [
    "# Section 7: Irregular Route Objects"
   ]
  },
  {
   "cell_type": "markdown",
   "id": "c82151dd",
   "metadata": {},
   "source": [
    "## Helper functions"
   ]
  },
  {
   "cell_type": "code",
   "execution_count": null,
   "id": "1c4d9527",
   "metadata": {},
   "outputs": [],
   "source": []
  },
  {
   "cell_type": "markdown",
   "id": "b6b470e0",
   "metadata": {},
   "source": [
    "## Section 7.1 and Table 3: RADB Analysis"
   ]
  },
  {
   "cell_type": "markdown",
   "id": "db2c0879",
   "metadata": {},
   "source": [
    "### Import inconsistent prefixes"
   ]
  },
  {
   "cell_type": "code",
   "execution_count": 169,
   "id": "601677c8",
   "metadata": {},
   "outputs": [],
   "source": [
    "radb_cover=pd.read_csv('radb_cover.csv')"
   ]
  },
  {
   "cell_type": "code",
   "execution_count": 223,
   "id": "16563419",
   "metadata": {},
   "outputs": [],
   "source": [
    "radb_inconsistent=set(list(radb_cover.nonauth.unique())+list(radb_cover.auth.unique()))"
   ]
  },
  {
   "cell_type": "code",
   "execution_count": 224,
   "id": "72c57504",
   "metadata": {},
   "outputs": [
    {
     "data": {
      "text/plain": [
       "162888"
      ]
     },
     "execution_count": 224,
     "metadata": {},
     "output_type": "execute_result"
    }
   ],
   "source": [
    "len(radb_inconsistent)"
   ]
  },
  {
   "cell_type": "markdown",
   "id": "6a552938",
   "metadata": {},
   "source": [
    "### Appear in BGP and inconsistent"
   ]
  },
  {
   "cell_type": "code",
   "execution_count": 230,
   "id": "b47dc816",
   "metadata": {},
   "outputs": [
    {
     "name": "stderr",
     "output_type": "stream",
     "text": [
      "<ipython-input-230-810664707c3e>:8: SettingWithCopyWarning: \n",
      "A value is trying to be set on a copy of a slice from a DataFrame.\n",
      "Try using .loc[row_indexer,col_indexer] = value instead\n",
      "\n",
      "See the caveats in the documentation: https://pandas.pydata.org/pandas-docs/stable/user_guide/indexing.html#returning-a-view-versus-a-copy\n",
      "  actual_overlap['asn']=actual_overlap['asn'].map(str)\n"
     ]
    }
   ],
   "source": [
    "timeless_overlap = radb.merge(bgp, left_on='route', right_on='prefix', suffixes=('_route', '_prefix'))\n",
    "timeless_overlap['end_date'] = pd.to_datetime(timeless_overlap['end_date'], format=\"%Y-%m-%d\")\n",
    "timeless_overlap['start_date'] = pd.to_datetime(timeless_overlap['start_date'], format=\"%Y-%m-%d\")\n",
    "timeless_overlap['start']=pd.to_datetime(timeless_overlap['start'], unit='s').dt.strftime('%Y-%m-%d')\n",
    "timeless_overlap['end']=pd.to_datetime(timeless_overlap['end'], unit='s').dt.strftime('%Y-%m-%d')\n",
    "timeless_overlap['origin']=timeless_overlap['origin'].str.replace('AS',\"\")\n",
    "actual_overlap = timeless_overlap[(timeless_overlap.end_date > timeless_overlap.start)&(timeless_overlap.start_date < timeless_overlap.end)]\n",
    "actual_overlap['asn']=actual_overlap['asn'].map(str)"
   ]
  },
  {
   "cell_type": "code",
   "execution_count": 231,
   "id": "1d4f1dda",
   "metadata": {},
   "outputs": [
    {
     "data": {
      "text/plain": [
       "477497"
      ]
     },
     "execution_count": 231,
     "metadata": {},
     "output_type": "execute_result"
    }
   ],
   "source": [
    "len(actual_overlap.route.unique())"
   ]
  },
  {
   "cell_type": "code",
   "execution_count": 227,
   "id": "5a867ed3",
   "metadata": {},
   "outputs": [],
   "source": [
    "bgp_inconsistent=bgp[bgp['prefix'].isin(radb_inconsistent)]"
   ]
  },
  {
   "cell_type": "code",
   "execution_count": 228,
   "id": "194ebdfb",
   "metadata": {},
   "outputs": [
    {
     "data": {
      "text/plain": [
       "63154"
      ]
     },
     "execution_count": 228,
     "metadata": {},
     "output_type": "execute_result"
    }
   ],
   "source": [
    "bgp_inconsistent.prefix.nunique()"
   ]
  },
  {
   "cell_type": "code",
   "execution_count": 229,
   "id": "ddf6c583",
   "metadata": {},
   "outputs": [
    {
     "data": {
      "text/plain": [
       "4130"
      ]
     },
     "execution_count": 229,
     "metadata": {},
     "output_type": "execute_result"
    }
   ],
   "source": [
    "63154-59024"
   ]
  },
  {
   "cell_type": "markdown",
   "id": "1a00c289",
   "metadata": {},
   "source": [
    "## Section 7.2: ALTDB Analysis"
   ]
  },
  {
   "cell_type": "markdown",
   "id": "6fcae0be",
   "metadata": {},
   "source": [
    "### Import inconsistent prefixes"
   ]
  },
  {
   "cell_type": "code",
   "execution_count": null,
   "id": "efa006e4",
   "metadata": {},
   "outputs": [],
   "source": [
    "altdb_cover=pd.read_csv('altdb_cover.csv')"
   ]
  },
  {
   "cell_type": "code",
   "execution_count": 232,
   "id": "c21ad149",
   "metadata": {},
   "outputs": [
    {
     "data": {
      "text/html": [
       "<div>\n",
       "<style scoped>\n",
       "    .dataframe tbody tr th:only-of-type {\n",
       "        vertical-align: middle;\n",
       "    }\n",
       "\n",
       "    .dataframe tbody tr th {\n",
       "        vertical-align: top;\n",
       "    }\n",
       "\n",
       "    .dataframe thead th {\n",
       "        text-align: right;\n",
       "    }\n",
       "</style>\n",
       "<table border=\"1\" class=\"dataframe\">\n",
       "  <thead>\n",
       "    <tr style=\"text-align: right;\">\n",
       "      <th></th>\n",
       "      <th>nonauth</th>\n",
       "      <th>auth</th>\n",
       "      <th>origin_nonauth</th>\n",
       "      <th>source_nonauth</th>\n",
       "      <th>start_date_nonauth</th>\n",
       "      <th>end_date_nonauth</th>\n",
       "      <th>origin_auth</th>\n",
       "      <th>source_auth</th>\n",
       "      <th>start_date_auth</th>\n",
       "      <th>end_date_auth</th>\n",
       "      <th>sus</th>\n",
       "      <th>org_nonauth</th>\n",
       "      <th>org_auth</th>\n",
       "      <th>orgname_nonauth</th>\n",
       "      <th>orgname_auth</th>\n",
       "      <th>org_match</th>\n",
       "      <th>org_match_name</th>\n",
       "      <th>rel</th>\n",
       "    </tr>\n",
       "  </thead>\n",
       "  <tbody>\n",
       "    <tr>\n",
       "      <th>0</th>\n",
       "      <td>196.10.119.0/24</td>\n",
       "      <td>196.10.119.0/24</td>\n",
       "      <td>2018</td>\n",
       "      <td>ALTDB</td>\n",
       "      <td>2021-11-08</td>\n",
       "      <td>2023-05-05</td>\n",
       "      <td>37610</td>\n",
       "      <td>AFRINIC</td>\n",
       "      <td>2021-11-08</td>\n",
       "      <td>2023-05-05</td>\n",
       "      <td>NaN</td>\n",
       "      <td>ORG-UP1-AFRINIC</td>\n",
       "      <td>ORG-NFTC1-AFRINIC</td>\n",
       "      <td>TENET (The UNINET Project)</td>\n",
       "      <td>New Frontiers Technology Consult Limited</td>\n",
       "      <td>False</td>\n",
       "      <td>False</td>\n",
       "      <td>norel</td>\n",
       "    </tr>\n",
       "    <tr>\n",
       "      <th>1</th>\n",
       "      <td>196.10.122.0/23</td>\n",
       "      <td>196.10.122.0/23</td>\n",
       "      <td>2018</td>\n",
       "      <td>ALTDB</td>\n",
       "      <td>2021-11-08</td>\n",
       "      <td>2023-05-05</td>\n",
       "      <td>327773</td>\n",
       "      <td>AFRINIC</td>\n",
       "      <td>2021-11-08</td>\n",
       "      <td>2022-02-21</td>\n",
       "      <td>NaN</td>\n",
       "      <td>ORG-UP1-AFRINIC</td>\n",
       "      <td>ORG-GUDC1-AFRINIC</td>\n",
       "      <td>TENET (The UNINET Project)</td>\n",
       "      <td>Guichet Unique du Commerce Extérieur De Côte d...</td>\n",
       "      <td>False</td>\n",
       "      <td>False</td>\n",
       "      <td>norel</td>\n",
       "    </tr>\n",
       "    <tr>\n",
       "      <th>2</th>\n",
       "      <td>196.10.122.0/23</td>\n",
       "      <td>196.10.122.0/23</td>\n",
       "      <td>2018</td>\n",
       "      <td>ALTDB</td>\n",
       "      <td>2021-11-08</td>\n",
       "      <td>2023-05-05</td>\n",
       "      <td>327773</td>\n",
       "      <td>AFRINIC</td>\n",
       "      <td>2022-02-22</td>\n",
       "      <td>2023-04-04</td>\n",
       "      <td>NaN</td>\n",
       "      <td>ORG-UP1-AFRINIC</td>\n",
       "      <td>ORG-GUDC1-AFRINIC</td>\n",
       "      <td>TENET (The UNINET Project)</td>\n",
       "      <td>Guichet Unique du Commerce Extérieur De Côte d...</td>\n",
       "      <td>False</td>\n",
       "      <td>False</td>\n",
       "      <td>norel</td>\n",
       "    </tr>\n",
       "    <tr>\n",
       "      <th>3</th>\n",
       "      <td>196.10.122.0/23</td>\n",
       "      <td>196.10.122.0/23</td>\n",
       "      <td>2018</td>\n",
       "      <td>ALTDB</td>\n",
       "      <td>2021-11-08</td>\n",
       "      <td>2023-05-05</td>\n",
       "      <td>327773</td>\n",
       "      <td>AFRINIC</td>\n",
       "      <td>2023-04-05</td>\n",
       "      <td>2023-05-05</td>\n",
       "      <td>NaN</td>\n",
       "      <td>ORG-UP1-AFRINIC</td>\n",
       "      <td>ORG-GUDC1-AFRINIC</td>\n",
       "      <td>TENET (The UNINET Project)</td>\n",
       "      <td>Guichet Unique du Commerce Extérieur De Côte d...</td>\n",
       "      <td>False</td>\n",
       "      <td>False</td>\n",
       "      <td>norel</td>\n",
       "    </tr>\n",
       "    <tr>\n",
       "      <th>4</th>\n",
       "      <td>196.13.125.0/24</td>\n",
       "      <td>196.13.125.0/24</td>\n",
       "      <td>2018</td>\n",
       "      <td>ALTDB</td>\n",
       "      <td>2021-11-08</td>\n",
       "      <td>2023-05-05</td>\n",
       "      <td>36894</td>\n",
       "      <td>AFRINIC</td>\n",
       "      <td>2021-11-08</td>\n",
       "      <td>2023-05-05</td>\n",
       "      <td>NaN</td>\n",
       "      <td>ORG-UP1-AFRINIC</td>\n",
       "      <td>ORG-NCB1-AFRINIC</td>\n",
       "      <td>TENET (The UNINET Project)</td>\n",
       "      <td>National Computer Board</td>\n",
       "      <td>False</td>\n",
       "      <td>False</td>\n",
       "      <td>norel</td>\n",
       "    </tr>\n",
       "    <tr>\n",
       "      <th>...</th>\n",
       "      <td>...</td>\n",
       "      <td>...</td>\n",
       "      <td>...</td>\n",
       "      <td>...</td>\n",
       "      <td>...</td>\n",
       "      <td>...</td>\n",
       "      <td>...</td>\n",
       "      <td>...</td>\n",
       "      <td>...</td>\n",
       "      <td>...</td>\n",
       "      <td>...</td>\n",
       "      <td>...</td>\n",
       "      <td>...</td>\n",
       "      <td>...</td>\n",
       "      <td>...</td>\n",
       "      <td>...</td>\n",
       "      <td>...</td>\n",
       "      <td>...</td>\n",
       "    </tr>\n",
       "    <tr>\n",
       "      <th>3330</th>\n",
       "      <td>45.14.105.0/24</td>\n",
       "      <td>45.14.105.0/24</td>\n",
       "      <td>4785</td>\n",
       "      <td>ALTDB</td>\n",
       "      <td>2023-03-10</td>\n",
       "      <td>2023-05-05</td>\n",
       "      <td>23959</td>\n",
       "      <td>RIPE</td>\n",
       "      <td>2023-03-11</td>\n",
       "      <td>2023-05-05</td>\n",
       "      <td>NaN</td>\n",
       "      <td>ORG-XL1-AP-APNIC</td>\n",
       "      <td>ORG-OL12-AP-APNIC</td>\n",
       "      <td>xTom Limited</td>\n",
       "      <td>Owl Limited</td>\n",
       "      <td>False</td>\n",
       "      <td>False</td>\n",
       "      <td>norel</td>\n",
       "    </tr>\n",
       "    <tr>\n",
       "      <th>3331</th>\n",
       "      <td>45.14.107.0/24</td>\n",
       "      <td>45.14.107.0/24</td>\n",
       "      <td>4785</td>\n",
       "      <td>ALTDB</td>\n",
       "      <td>2023-03-10</td>\n",
       "      <td>2023-05-05</td>\n",
       "      <td>3214</td>\n",
       "      <td>RIPE</td>\n",
       "      <td>2021-11-08</td>\n",
       "      <td>2023-05-05</td>\n",
       "      <td>NaN</td>\n",
       "      <td>ORG-XL1-AP-APNIC</td>\n",
       "      <td>ORG-XG42-RIPE</td>\n",
       "      <td>xTom Limited</td>\n",
       "      <td>xTom GmbH</td>\n",
       "      <td>False</td>\n",
       "      <td>False</td>\n",
       "      <td>norel</td>\n",
       "    </tr>\n",
       "    <tr>\n",
       "      <th>3332</th>\n",
       "      <td>45.14.107.0/24</td>\n",
       "      <td>45.14.107.0/24</td>\n",
       "      <td>4785</td>\n",
       "      <td>ALTDB</td>\n",
       "      <td>2023-03-10</td>\n",
       "      <td>2023-05-05</td>\n",
       "      <td>23959</td>\n",
       "      <td>RIPE</td>\n",
       "      <td>2023-03-11</td>\n",
       "      <td>2023-05-05</td>\n",
       "      <td>NaN</td>\n",
       "      <td>ORG-XL1-AP-APNIC</td>\n",
       "      <td>ORG-OL12-AP-APNIC</td>\n",
       "      <td>xTom Limited</td>\n",
       "      <td>Owl Limited</td>\n",
       "      <td>False</td>\n",
       "      <td>False</td>\n",
       "      <td>norel</td>\n",
       "    </tr>\n",
       "    <tr>\n",
       "      <th>3333</th>\n",
       "      <td>185.184.223.0/24</td>\n",
       "      <td>185.184.223.0/24</td>\n",
       "      <td>4785</td>\n",
       "      <td>ALTDB</td>\n",
       "      <td>2023-03-10</td>\n",
       "      <td>2023-05-05</td>\n",
       "      <td>3214</td>\n",
       "      <td>RIPE</td>\n",
       "      <td>2021-11-08</td>\n",
       "      <td>2023-05-05</td>\n",
       "      <td>NaN</td>\n",
       "      <td>ORG-XL1-AP-APNIC</td>\n",
       "      <td>ORG-XG42-RIPE</td>\n",
       "      <td>xTom Limited</td>\n",
       "      <td>xTom GmbH</td>\n",
       "      <td>False</td>\n",
       "      <td>False</td>\n",
       "      <td>norel</td>\n",
       "    </tr>\n",
       "    <tr>\n",
       "      <th>3334</th>\n",
       "      <td>185.184.223.0/24</td>\n",
       "      <td>185.184.223.0/24</td>\n",
       "      <td>4785</td>\n",
       "      <td>ALTDB</td>\n",
       "      <td>2023-03-10</td>\n",
       "      <td>2023-05-05</td>\n",
       "      <td>23959</td>\n",
       "      <td>RIPE</td>\n",
       "      <td>2023-03-11</td>\n",
       "      <td>2023-05-05</td>\n",
       "      <td>NaN</td>\n",
       "      <td>ORG-XL1-AP-APNIC</td>\n",
       "      <td>ORG-OL12-AP-APNIC</td>\n",
       "      <td>xTom Limited</td>\n",
       "      <td>Owl Limited</td>\n",
       "      <td>False</td>\n",
       "      <td>False</td>\n",
       "      <td>norel</td>\n",
       "    </tr>\n",
       "  </tbody>\n",
       "</table>\n",
       "<p>3335 rows × 18 columns</p>\n",
       "</div>"
      ],
      "text/plain": [
       "               nonauth              auth  origin_nonauth source_nonauth   \n",
       "0      196.10.119.0/24   196.10.119.0/24            2018          ALTDB  \\\n",
       "1      196.10.122.0/23   196.10.122.0/23            2018          ALTDB   \n",
       "2      196.10.122.0/23   196.10.122.0/23            2018          ALTDB   \n",
       "3      196.10.122.0/23   196.10.122.0/23            2018          ALTDB   \n",
       "4      196.13.125.0/24   196.13.125.0/24            2018          ALTDB   \n",
       "...                ...               ...             ...            ...   \n",
       "3330    45.14.105.0/24    45.14.105.0/24            4785          ALTDB   \n",
       "3331    45.14.107.0/24    45.14.107.0/24            4785          ALTDB   \n",
       "3332    45.14.107.0/24    45.14.107.0/24            4785          ALTDB   \n",
       "3333  185.184.223.0/24  185.184.223.0/24            4785          ALTDB   \n",
       "3334  185.184.223.0/24  185.184.223.0/24            4785          ALTDB   \n",
       "\n",
       "     start_date_nonauth end_date_nonauth  origin_auth source_auth   \n",
       "0            2021-11-08       2023-05-05        37610     AFRINIC  \\\n",
       "1            2021-11-08       2023-05-05       327773     AFRINIC   \n",
       "2            2021-11-08       2023-05-05       327773     AFRINIC   \n",
       "3            2021-11-08       2023-05-05       327773     AFRINIC   \n",
       "4            2021-11-08       2023-05-05        36894     AFRINIC   \n",
       "...                 ...              ...          ...         ...   \n",
       "3330         2023-03-10       2023-05-05        23959        RIPE   \n",
       "3331         2023-03-10       2023-05-05         3214        RIPE   \n",
       "3332         2023-03-10       2023-05-05        23959        RIPE   \n",
       "3333         2023-03-10       2023-05-05         3214        RIPE   \n",
       "3334         2023-03-10       2023-05-05        23959        RIPE   \n",
       "\n",
       "     start_date_auth end_date_auth  sus       org_nonauth           org_auth   \n",
       "0         2021-11-08    2023-05-05  NaN   ORG-UP1-AFRINIC  ORG-NFTC1-AFRINIC  \\\n",
       "1         2021-11-08    2022-02-21  NaN   ORG-UP1-AFRINIC  ORG-GUDC1-AFRINIC   \n",
       "2         2022-02-22    2023-04-04  NaN   ORG-UP1-AFRINIC  ORG-GUDC1-AFRINIC   \n",
       "3         2023-04-05    2023-05-05  NaN   ORG-UP1-AFRINIC  ORG-GUDC1-AFRINIC   \n",
       "4         2021-11-08    2023-05-05  NaN   ORG-UP1-AFRINIC   ORG-NCB1-AFRINIC   \n",
       "...              ...           ...  ...               ...                ...   \n",
       "3330      2023-03-11    2023-05-05  NaN  ORG-XL1-AP-APNIC  ORG-OL12-AP-APNIC   \n",
       "3331      2021-11-08    2023-05-05  NaN  ORG-XL1-AP-APNIC      ORG-XG42-RIPE   \n",
       "3332      2023-03-11    2023-05-05  NaN  ORG-XL1-AP-APNIC  ORG-OL12-AP-APNIC   \n",
       "3333      2021-11-08    2023-05-05  NaN  ORG-XL1-AP-APNIC      ORG-XG42-RIPE   \n",
       "3334      2023-03-11    2023-05-05  NaN  ORG-XL1-AP-APNIC  ORG-OL12-AP-APNIC   \n",
       "\n",
       "                 orgname_nonauth   \n",
       "0     TENET (The UNINET Project)  \\\n",
       "1     TENET (The UNINET Project)   \n",
       "2     TENET (The UNINET Project)   \n",
       "3     TENET (The UNINET Project)   \n",
       "4     TENET (The UNINET Project)   \n",
       "...                          ...   \n",
       "3330                xTom Limited   \n",
       "3331                xTom Limited   \n",
       "3332                xTom Limited   \n",
       "3333                xTom Limited   \n",
       "3334                xTom Limited   \n",
       "\n",
       "                                           orgname_auth  org_match   \n",
       "0              New Frontiers Technology Consult Limited      False  \\\n",
       "1     Guichet Unique du Commerce Extérieur De Côte d...      False   \n",
       "2     Guichet Unique du Commerce Extérieur De Côte d...      False   \n",
       "3     Guichet Unique du Commerce Extérieur De Côte d...      False   \n",
       "4                               National Computer Board      False   \n",
       "...                                                 ...        ...   \n",
       "3330                                        Owl Limited      False   \n",
       "3331                                          xTom GmbH      False   \n",
       "3332                                        Owl Limited      False   \n",
       "3333                                          xTom GmbH      False   \n",
       "3334                                        Owl Limited      False   \n",
       "\n",
       "      org_match_name    rel  \n",
       "0              False  norel  \n",
       "1              False  norel  \n",
       "2              False  norel  \n",
       "3              False  norel  \n",
       "4              False  norel  \n",
       "...              ...    ...  \n",
       "3330           False  norel  \n",
       "3331           False  norel  \n",
       "3332           False  norel  \n",
       "3333           False  norel  \n",
       "3334           False  norel  \n",
       "\n",
       "[3335 rows x 18 columns]"
      ]
     },
     "execution_count": 232,
     "metadata": {},
     "output_type": "execute_result"
    }
   ],
   "source": [
    "altdb_cover"
   ]
  },
  {
   "cell_type": "code",
   "execution_count": 198,
   "id": "63b2ee5b",
   "metadata": {},
   "outputs": [],
   "source": [
    "altdb_inconsistent=list(altdb_cover['nonauth'].unique())"
   ]
  },
  {
   "cell_type": "code",
   "execution_count": 199,
   "id": "870144b3",
   "metadata": {},
   "outputs": [
    {
     "data": {
      "text/plain": [
       "1206"
      ]
     },
     "execution_count": 199,
     "metadata": {},
     "output_type": "execute_result"
    }
   ],
   "source": [
    "len(altdb_inconsistent)"
   ]
  },
  {
   "cell_type": "markdown",
   "id": "622ad716",
   "metadata": {},
   "source": [
    "### Appear in BGP and consistent"
   ]
  },
  {
   "cell_type": "code",
   "execution_count": null,
   "id": "5018a2ff",
   "metadata": {},
   "outputs": [],
   "source": []
  }
 ],
 "metadata": {
  "kernelspec": {
   "display_name": "Python 3",
   "language": "python",
   "name": "python3"
  },
  "language_info": {
   "codemirror_mode": {
    "name": "ipython",
    "version": 3
   },
   "file_extension": ".py",
   "mimetype": "text/x-python",
   "name": "python",
   "nbconvert_exporter": "python",
   "pygments_lexer": "ipython3",
   "version": "3.8.3"
  },
  "toc": {
   "base_numbering": 1,
   "nav_menu": {},
   "number_sections": true,
   "sideBar": true,
   "skip_h1_title": false,
   "title_cell": "Table of Contents",
   "title_sidebar": "Contents",
   "toc_cell": false,
   "toc_position": {},
   "toc_section_display": true,
   "toc_window_display": false
  }
 },
 "nbformat": 4,
 "nbformat_minor": 5
}
