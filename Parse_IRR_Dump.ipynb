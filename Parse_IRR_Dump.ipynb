{
 "cells": [
  {
   "cell_type": "markdown",
   "id": "d980e466",
   "metadata": {},
   "source": [
    "This software is Copyright © 2024 The Regents of the University of California. All Rights Reserved. Permission to copy, modify, and distribute this software and its documentation for educational, research and non-profit purposes, without fee, and without a written agreement is hereby granted, provided that the above copyright notice, this paragraph and the following three paragraphs appear in all copies. Permission to make commercial use of this software may be obtained by contacting:\n",
    "\n",
    "Office of Innovation and Commercialization\n",
    "\n",
    "9500 Gilman Drive, Mail Code 0910\n",
    "\n",
    "University of California\n",
    "\n",
    "La Jolla, CA 92093-0910\n",
    "\n",
    "(858) 534-5815\n",
    "\n",
    "invent@ucsd.edu\n",
    "\n",
    "This software program and documentation are copyrighted by The Regents of the University of California. The software program and documentation are supplied “as is”, without any accompanying services from The Regents. The Regents does not warrant that the operation of the program will be uninterrupted or error-free. The end-user understands that the program was developed for research purposes and is advised not to rely exclusively on the program for any reason.\n",
    "\n",
    "IN NO EVENT SHALL THE UNIVERSITY OF CALIFORNIA BE LIABLE TO ANY PARTY FOR DIRECT, INDIRECT, SPECIAL, INCIDENTAL, OR CONSEQUENTIAL DAMAGES, INCLUDING LOST PROFITS, ARISING OUT OF THE USE OF THIS SOFTWARE AND ITS DOCUMENTATION, EVEN IF THE UNIVERSITY OF CALIFORNIA HAS BEEN ADVISED OF THE POSSIBILITY OF SUCH DAMAGE. THE UNIVERSITY OF CALIFORNIA SPECIFICALLY DISCLAIMS ANY WARRANTIES, INCLUDING, BUT NOT LIMITED TO, THE IMPLIED WARRANTIES OF MERCHANTABILITY AND FITNESS FOR A PARTICULAR PURPOSE. THE SOFTWARE PROVIDED HEREUNDER IS ON AN “AS IS” BASIS, AND THE UNIVERSITY OF CALIFORNIA HAS NO OBLIGATIONS TO PROVIDE MAINTENANCE, SUPPORT, UPDATES, ENHANCEMENTS, OR MODIFICATIONS."
   ]
  },
  {
   "cell_type": "markdown",
   "id": "ab8243cb",
   "metadata": {},
   "source": [
    "# This notebooks parses IRR dumps and keeps the route objects in json format\n",
    "\n",
    "You can retrieve the latest IRR dumps from https://www.irr.net/docs/list.html"
   ]
  },
  {
   "cell_type": "code",
   "execution_count": 1,
   "id": "16871f32",
   "metadata": {},
   "outputs": [],
   "source": [
    "import pandas as pd\n",
    "import gzip\n",
    "from collections import OrderedDict, defaultdict\n",
    "import ipaddress\n",
    "import math\n",
    "import radix\n",
    "import re\n",
    "import numpy as np\n",
    "import matplotlib.pyplot as plt\n",
    "import urllib\n",
    "import multiprocessing as mp\n",
    "import os\n",
    "from datetime import datetime, date\n",
    "import ftplib\n",
    "import bz2"
   ]
  },
  {
   "cell_type": "code",
   "execution_count": 7,
   "id": "301741cd",
   "metadata": {},
   "outputs": [],
   "source": [
    "split = re.compile(r'(.+?):\\s*(.*)')\n",
    "\n",
    "class Entry(OrderedDict):\n",
    "    def __repr__(self):\n",
    "        output = []\n",
    "        for key, value in self.items():\n",
    "            output.append('{}:\\t{}'.format(key, value))\n",
    "        return '\\n'.join(output)\n",
    "    \n",
    "    def __hash__(self):\n",
    "        return hash(str(self))\n",
    "    \n",
    "    @property\n",
    "    def date(self):\n",
    "        # self refers to the object, which in this case is a subclass of dict\n",
    "        # the .get method for dict objects retrieves the value if the key exists,\n",
    "        # otherwise it returns the default value\n",
    "        changed = self.get('changed', None)\n",
    "        if changed is not None:\n",
    "            try:\n",
    "                date = changed.split()[1]\n",
    "            except IndexError:\n",
    "                return '17000101'\n",
    "        else:\n",
    "            try:\n",
    "                date = self['last-modified'].replace('-', '')\n",
    "            except KeyError:\n",
    "                return '16000101'\n",
    "        return date\n",
    "    \n",
    "    \n",
    "def parse_irr(filename):\n",
    "    \n",
    "    with gzip.open(filename, 'rt', encoding='latin-1') as f:\n",
    "        items = []  # list to hold whois items\n",
    "        item = Entry()  # an object to hold an individual entry\n",
    "\n",
    "        # Iterate over the lines in the whois file\n",
    "        for line in f:\n",
    "            ol = line  # original version of the line\n",
    "            line = line.strip()  # get rid of whitespace at beginning and end of the line\n",
    "\n",
    "            # If the original line is not just a newline character,\n",
    "            # and the line is only whitespace or starts with a comment character,\n",
    "            # skip the line\n",
    "            if ol != '\\n' and (not line or line[0] == '#'):\n",
    "                continue\n",
    "\n",
    "            # If the line is not just whitespace\n",
    "            if line:\n",
    "                \n",
    "                # if original line start with whitespace, append it to previous value\n",
    "                if re.match(r'\\s', ol):\n",
    "                    try:\n",
    "                        item[k] += '\\n' + line\n",
    "                        continue\n",
    "                    except:\n",
    "                        print(item)\n",
    "                        continue\n",
    "                \n",
    "                # See if the line matches the regex\n",
    "                m = split.match(line)\n",
    "                # If it does\n",
    "                if m:\n",
    "                    # There are 2 possible matching groups, so assign them to k and v\n",
    "                    k, v = m.groups()\n",
    "                    # If the key is already in the item, concatenate the value to the existing value\n",
    "                    if k in item and k != 'origin':\n",
    "                        try:\n",
    "                            item[k] += '\\n' + v\n",
    "                        except:\n",
    "                            print(item)\n",
    "                    # When the key does not yet exist in the item, add the key and value\n",
    "                    else:\n",
    "                        try:\n",
    "                            item[k] = v\n",
    "                        except:\n",
    "                            print(item)\n",
    "                # If it does not match\n",
    "                else:\n",
    "                    # Add the value to the previous key in the item\n",
    "                    # This is a value with newline breaks\n",
    "                    try:\n",
    "                        item[k] += '\\n' + line\n",
    "                    except:\n",
    "                        item[k] = line\n",
    "\n",
    "            # If the line is just a newline break, finish the current item, and start a new one\n",
    "            else:\n",
    "                if item:\n",
    "                    items.append(item)  # Add item to list of items\n",
    "                    item = Entry()  # Start new item\n",
    "    return items"
   ]
  },
  {
   "cell_type": "markdown",
   "id": "081a52f5",
   "metadata": {},
   "source": [
    "## fname in the function below should be the file path to the IRR dump file you just downloaded\n",
    "\n",
    "Example filename: `radb.db.gz`"
   ]
  },
  {
   "cell_type": "code",
   "execution_count": 15,
   "id": "e9134bf1",
   "metadata": {},
   "outputs": [],
   "source": [
    "def build_json(fname):\n",
    "    provider = fname[fname.rfind('/')+1:fname.find('.db')]\n",
    "        \n",
    "    if provider == 'apnic':\n",
    "        provider = fname[fname.rfind('/')+1:fname.find('.gz')]\n",
    "        \n",
    "    routeobjs = parse_irr(fname)\n",
    "    df = pd.DataFrame([i for i in routeobjs if 'route' in i])\n",
    "    df.to_json('data/{}.route.json.gz'.format(provider), orient='records', lines=True)"
   ]
  },
  {
   "cell_type": "markdown",
   "id": "3630d2e8",
   "metadata": {},
   "source": [
    "## call this function to generate json file"
   ]
  },
  {
   "cell_type": "code",
   "execution_count": null,
   "id": "3a3407c3",
   "metadata": {
    "scrolled": true
   },
   "outputs": [],
   "source": [
    "build_json('filename') ## replace filename with file path"
   ]
  },
  {
   "cell_type": "code",
   "execution_count": null,
   "id": "e2e13611",
   "metadata": {},
   "outputs": [],
   "source": []
  }
 ],
 "metadata": {
  "kernelspec": {
   "display_name": "Python 3 (ipykernel)",
   "language": "python",
   "name": "python3"
  },
  "language_info": {
   "codemirror_mode": {
    "name": "ipython",
    "version": 3
   },
   "file_extension": ".py",
   "mimetype": "text/x-python",
   "name": "python",
   "nbconvert_exporter": "python",
   "pygments_lexer": "ipython3",
   "version": "3.9.1"
  },
  "toc": {
   "base_numbering": 1,
   "nav_menu": {},
   "number_sections": true,
   "sideBar": true,
   "skip_h1_title": false,
   "title_cell": "Table of Contents",
   "title_sidebar": "Contents",
   "toc_cell": false,
   "toc_position": {},
   "toc_section_display": true,
   "toc_window_display": false
  }
 },
 "nbformat": 4,
 "nbformat_minor": 5
}
