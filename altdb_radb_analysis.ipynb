{
 "cells": [
  {
   "cell_type": "code",
   "execution_count": 4,
   "id": "f5e382bc",
   "metadata": {},
   "outputs": [],
   "source": [
    "import pandas as pd\n",
    "import numpy as np\n",
    "from datetime import datetime\n",
    "import time\n",
    "#import matplotlib.pyplot as plt\n",
    "import gzip\n",
    "import json\n",
    "#from tabulate import tabulate\n",
    "import bz2\n",
    "#import os\n",
    "from tqdm import tqdm"
   ]
  },
  {
   "cell_type": "markdown",
   "id": "00b3c9d0",
   "metadata": {},
   "source": [
    "# Load the Data"
   ]
  },
  {
   "cell_type": "markdown",
   "id": "7960970b",
   "metadata": {},
   "source": [
    "## Helper functions and variables"
   ]
  },
  {
   "cell_type": "code",
   "execution_count": 5,
   "id": "70b340e6",
   "metadata": {},
   "outputs": [],
   "source": [
    "def delta_date(x):\n",
    "    return (str_to_date(x['end_date']) - str_to_date(x['start_date'])).days + 1"
   ]
  },
  {
   "cell_type": "code",
   "execution_count": 6,
   "id": "8f65b429",
   "metadata": {},
   "outputs": [],
   "source": [
    "def str_to_date(d):\n",
    "    return datetime.strptime(d, \"%Y-%m-%d\")"
   ]
  },
  {
   "cell_type": "code",
   "execution_count": 7,
   "id": "fd0f8a9a",
   "metadata": {},
   "outputs": [],
   "source": [
    "datapath=\"irrs/\""
   ]
  },
  {
   "cell_type": "code",
   "execution_count": 8,
   "id": "1f6228b7",
   "metadata": {},
   "outputs": [],
   "source": [
    "def overlap_db(db):\n",
    "    timeless_overlap = db.merge(bgp, left_on='route', right_on='prefix', suffixes=('_route', '_prefix'))\n",
    "    timeless_overlap['end_date'] = pd.to_datetime(timeless_overlap['end_date'], format=\"%Y-%m-%d\")\n",
    "    timeless_overlap['start_date'] = pd.to_datetime(timeless_overlap['start_date'], format=\"%Y-%m-%d\")\n",
    "    timeless_overlap['start']=pd.to_datetime(timeless_overlap['start'], unit='s').dt.strftime('%Y-%m-%d')\n",
    "    timeless_overlap['end']=pd.to_datetime(timeless_overlap['end'], unit='s').dt.strftime('%Y-%m-%d')\n",
    "    actual_overlap = timeless_overlap[(timeless_overlap.end_date > timeless_overlap.start)&(timeless_overlap.start_date < timeless_overlap.end)]\n",
    "    actual_overlap['asn']='AS'+actual_overlap['asn'].astype(str)\n",
    "    return actual_overlap"
   ]
  },
  {
   "cell_type": "markdown",
   "id": "1dc44368",
   "metadata": {},
   "source": [
    "## Load BGP"
   ]
  },
  {
   "cell_type": "code",
   "execution_count": 9,
   "id": "c9928f2a",
   "metadata": {},
   "outputs": [],
   "source": [
    "bgp = pd.read_csv('pfx2as_2021_2023_merged.csv.gz', names=['prefix', 'asn', 'start', 'end'], delimiter=' ',low_memory=False)\n",
    "bgp['duration'] = bgp['end'] - bgp['start']\n",
    "bgpagg = bgp.groupby(['prefix', 'asn']).agg({'duration':'sum'}).reset_index()\n",
    "bgpagg['asn']='AS'+bgpagg['asn'].astype(str)"
   ]
  },
  {
   "cell_type": "markdown",
   "id": "5e144453",
   "metadata": {},
   "source": [
    "## Load Radb"
   ]
  },
  {
   "cell_type": "code",
   "execution_count": 10,
   "id": "ba32a92d",
   "metadata": {},
   "outputs": [
    {
     "name": "stderr",
     "output_type": "stream",
     "text": [
      "<ipython-input-8-c52de40d9edc>:8: SettingWithCopyWarning: \n",
      "A value is trying to be set on a copy of a slice from a DataFrame.\n",
      "Try using .loc[row_indexer,col_indexer] = value instead\n",
      "\n",
      "See the caveats in the documentation: https://pandas.pydata.org/pandas-docs/stable/user_guide/indexing.html#returning-a-view-versus-a-copy\n",
      "  actual_overlap['asn']='AS'+actual_overlap['asn'].astype(str)\n"
     ]
    }
   ],
   "source": [
    "radb = pd.read_json(datapath+'radb/radb.route.json.gz', lines=True)\n",
    "radb['lifetime'] = radb.apply(delta_date, axis=1)\n",
    "radb_overlap=overlap_db(radb)\n",
    "radbagg = radb_overlap.groupby(['route', 'origin']).agg({'lifetime':'sum'}).reset_index()"
   ]
  },
  {
   "cell_type": "markdown",
   "id": "8a4046fc",
   "metadata": {},
   "source": [
    "## Load Altdb"
   ]
  },
  {
   "cell_type": "code",
   "execution_count": 11,
   "id": "920cbe56",
   "metadata": {},
   "outputs": [
    {
     "name": "stderr",
     "output_type": "stream",
     "text": [
      "<ipython-input-8-c52de40d9edc>:8: SettingWithCopyWarning: \n",
      "A value is trying to be set on a copy of a slice from a DataFrame.\n",
      "Try using .loc[row_indexer,col_indexer] = value instead\n",
      "\n",
      "See the caveats in the documentation: https://pandas.pydata.org/pandas-docs/stable/user_guide/indexing.html#returning-a-view-versus-a-copy\n",
      "  actual_overlap['asn']='AS'+actual_overlap['asn'].astype(str)\n"
     ]
    }
   ],
   "source": [
    "altdb = pd.read_json(datapath+'altdb/altdb.route.json.gz', lines=True)\n",
    "altdb['lifetime'] = altdb.apply(delta_date, axis=1)\n",
    "altdb_overlap=overlap_db(altdb)\n",
    "altdbagg = altdb_overlap.groupby(['route', 'origin']).agg({'lifetime':'sum'}).reset_index()"
   ]
  },
  {
   "cell_type": "markdown",
   "id": "f2a24653",
   "metadata": {},
   "source": [
    "# Get routes in BGP and inconsistent"
   ]
  },
  {
   "cell_type": "markdown",
   "id": "02d0a055",
   "metadata": {},
   "source": [
    "## Import inconsistent prefixes"
   ]
  },
  {
   "cell_type": "code",
   "execution_count": 12,
   "id": "e2bfc36a",
   "metadata": {},
   "outputs": [
    {
     "data": {
      "text/plain": [
       "150402"
      ]
     },
     "execution_count": 12,
     "metadata": {},
     "output_type": "execute_result"
    }
   ],
   "source": [
    "radb_cover=pd.read_csv('radb_cover.csv')\n",
    "radb_inconsistent=list(radb_cover.nonauth.unique())\n",
    "len(radb_inconsistent)"
   ]
  },
  {
   "cell_type": "code",
   "execution_count": 13,
   "id": "a7f65537",
   "metadata": {},
   "outputs": [
    {
     "data": {
      "text/plain": [
       "1206"
      ]
     },
     "execution_count": 13,
     "metadata": {},
     "output_type": "execute_result"
    }
   ],
   "source": [
    "altdb_cover=pd.read_csv('altdb_cover.csv')\n",
    "altdb_inconsistent=list(altdb_cover.nonauth.unique())\n",
    "len(altdb_inconsistent)"
   ]
  },
  {
   "cell_type": "markdown",
   "id": "4d9c25af",
   "metadata": {},
   "source": [
    "## Appear in BGP and inconsistent"
   ]
  },
  {
   "cell_type": "code",
   "execution_count": 14,
   "id": "90b4c75c",
   "metadata": {},
   "outputs": [
    {
     "name": "stdout",
     "output_type": "stream",
     "text": [
      "56803 appear in BGP and radb and are inconsistent.\n"
     ]
    }
   ],
   "source": [
    "bgp_inconsistent_radb=radb_overlap[radb_overlap['prefix'].isin(radb_inconsistent)]\n",
    "print(bgp_inconsistent_radb.prefix.nunique(),\"appear in BGP and radb and are inconsistent.\")"
   ]
  },
  {
   "cell_type": "code",
   "execution_count": 15,
   "id": "3bc24625",
   "metadata": {},
   "outputs": [
    {
     "name": "stdout",
     "output_type": "stream",
     "text": [
      "619 appear in BGP and altdb and are inconsistent.\n"
     ]
    }
   ],
   "source": [
    "bgp_inconsistent_altdb=altdb_overlap[altdb_overlap['prefix'].isin(altdb_inconsistent)]\n",
    "print(bgp_inconsistent_altdb.prefix.nunique(),\"appear in BGP and altdb and are inconsistent.\")"
   ]
  },
  {
   "cell_type": "markdown",
   "id": "93491637",
   "metadata": {},
   "source": [
    "# Get full overlap"
   ]
  },
  {
   "cell_type": "markdown",
   "id": "ac311a1f",
   "metadata": {},
   "source": [
    "## RADB"
   ]
  },
  {
   "cell_type": "code",
   "execution_count": 16,
   "id": "441fab82",
   "metadata": {},
   "outputs": [
    {
     "name": "stdout",
     "output_type": "stream",
     "text": [
      "3002 prefixes between BGP and RADB have a full overlap.\n"
     ]
    }
   ],
   "source": [
    "df_in_b_r=radb_overlap[radb_overlap['route'].isin(bgp_inconsistent_radb.prefix.unique())]\n",
    "route_r_b=df_in_b_r.groupby('route').agg({'asn':set,'origin':set}).reset_index()\n",
    "route_r_b['Fullmatch']=(route_r_b['asn']==route_r_b['origin']) #python discards order when evaluating set equality\n",
    "print(route_r_b[route_r_b['Fullmatch']]['route'].nunique(),\"prefixes between BGP and RADB have a full overlap.\")"
   ]
  },
  {
   "cell_type": "markdown",
   "id": "6a17cd17",
   "metadata": {},
   "source": [
    "## ALTDB"
   ]
  },
  {
   "cell_type": "code",
   "execution_count": 17,
   "id": "28becc63",
   "metadata": {},
   "outputs": [
    {
     "name": "stdout",
     "output_type": "stream",
     "text": [
      "130 prefixes between BGP and ALTDB have a full overlap.\n"
     ]
    }
   ],
   "source": [
    "df_in_b_a=altdb_overlap[altdb_overlap['route'].isin(bgp_inconsistent_altdb.prefix.unique())]\n",
    "route_a_b=df_in_b_a.groupby('route').agg({'asn':set,'origin':set}).reset_index()\n",
    "route_a_b['Fullmatch']=(route_a_b['asn']==route_a_b['origin']) #python discards order when evaluating set equality\n",
    "print(route_a_b[route_a_b['Fullmatch']]['route'].nunique(),\"prefixes between BGP and ALTDB have a full overlap.\")"
   ]
  },
  {
   "cell_type": "markdown",
   "id": "8d87b6fd",
   "metadata": {},
   "source": [
    "# Get partial overlap"
   ]
  },
  {
   "cell_type": "markdown",
   "id": "cd896f91",
   "metadata": {},
   "source": [
    "## RADB"
   ]
  },
  {
   "cell_type": "code",
   "execution_count": 18,
   "id": "8681e7a1",
   "metadata": {},
   "outputs": [
    {
     "name": "stdout",
     "output_type": "stream",
     "text": [
      "32838 prefixes between BGP and RADB have a partial overlap.\n"
     ]
    }
   ],
   "source": [
    "route_r_b['intersec'] = route_r_b.apply(lambda x: set(x['asn']).intersection(set(x['origin'])), axis=1)\n",
    "route_r_b['partial_match']=(route_r_b['intersec']!=set())\n",
    "partial=route_r_b[(~route_r_b['Fullmatch']) & (route_r_b['partial_match'])]\n",
    "print(partial['route'].nunique(),\"prefixes between BGP and RADB have a partial overlap.\")"
   ]
  },
  {
   "cell_type": "markdown",
   "id": "f8c709ba",
   "metadata": {},
   "source": [
    "## ALTDB"
   ]
  },
  {
   "cell_type": "code",
   "execution_count": 19,
   "id": "2ea8f17e",
   "metadata": {},
   "outputs": [
    {
     "name": "stdout",
     "output_type": "stream",
     "text": [
      "177 prefixes between BGP and ALTDB have a partial overlap.\n"
     ]
    }
   ],
   "source": [
    "route_a_b['intersec'] = route_a_b.apply(lambda x: set(x['asn']).intersection(set(x['origin'])), axis=1)\n",
    "route_a_b['partial_match']=(route_a_b['intersec']!=set())\n",
    "partial=route_a_b[(~route_a_b['Fullmatch']) & (route_a_b['partial_match'])]\n",
    "print(partial['route'].nunique(),\"prefixes between BGP and ALTDB have a partial overlap.\")"
   ]
  },
  {
   "cell_type": "markdown",
   "id": "e4d3e940",
   "metadata": {},
   "source": [
    "# Get no overlap"
   ]
  },
  {
   "cell_type": "markdown",
   "id": "c65b2946",
   "metadata": {},
   "source": [
    "## RADB"
   ]
  },
  {
   "cell_type": "code",
   "execution_count": 20,
   "id": "ee0c2595",
   "metadata": {},
   "outputs": [
    {
     "name": "stdout",
     "output_type": "stream",
     "text": [
      "20963 prefixes between BGP and RADB have no overlap.\n"
     ]
    }
   ],
   "source": [
    "route_r_b['no_overlap']=(route_r_b['intersec']==set())\n",
    "print(route_r_b[route_r_b['no_overlap']]['route'].nunique(),\"prefixes between BGP and RADB have no overlap.\")"
   ]
  },
  {
   "cell_type": "markdown",
   "id": "14875087",
   "metadata": {},
   "source": [
    "## ALTDB"
   ]
  },
  {
   "cell_type": "code",
   "execution_count": 21,
   "id": "0861e468",
   "metadata": {},
   "outputs": [
    {
     "name": "stdout",
     "output_type": "stream",
     "text": [
      "312 prefixes between BGP and ALTDB have no overlap.\n"
     ]
    }
   ],
   "source": [
    "route_a_b['no_overlap']=(route_a_b['intersec']==set())\n",
    "print(route_a_b[route_a_b['no_overlap']]['route'].nunique(),\"prefixes between BGP and ALTDB have no overlap.\")"
   ]
  },
  {
   "cell_type": "markdown",
   "id": "0f9bd4a4",
   "metadata": {},
   "source": [
    "# Altdb final numbers"
   ]
  },
  {
   "cell_type": "code",
   "execution_count": 22,
   "id": "5c972183",
   "metadata": {},
   "outputs": [
    {
     "name": "stdout",
     "output_type": "stream",
     "text": [
      "51.33% (619/1206) Appear in BGP and inconsistent.\n"
     ]
    }
   ],
   "source": [
    "perc=str(round(bgp_inconsistent_altdb.prefix.nunique()*100/len(altdb_inconsistent),2))+\"% \"\n",
    "fraction=\"(\"+str(bgp_inconsistent_altdb.prefix.nunique())+\"/\"+str(len(altdb_inconsistent))+\")\"\n",
    "print(perc+fraction+\" Appear in BGP and inconsistent.\")"
   ]
  },
  {
   "cell_type": "code",
   "execution_count": 23,
   "id": "a7ebb7e7",
   "metadata": {},
   "outputs": [
    {
     "name": "stdout",
     "output_type": "stream",
     "text": [
      "21.0% (130/619) full overlap.\n"
     ]
    }
   ],
   "source": [
    "perc=str(round(route_a_b[route_a_b['Fullmatch']]['route'].nunique()*100/bgp_inconsistent_altdb.prefix.nunique(),2))+\"% \"\n",
    "fraction=\"(\"+str(route_a_b[route_a_b['Fullmatch']]['route'].nunique())+\"/\"+str(bgp_inconsistent_altdb.prefix.nunique())+\")\"\n",
    "print(perc+fraction+\" full overlap.\")"
   ]
  },
  {
   "cell_type": "code",
   "execution_count": 24,
   "id": "32a4879e",
   "metadata": {},
   "outputs": [
    {
     "name": "stdout",
     "output_type": "stream",
     "text": [
      "50.4% (312/619) no overlap.\n"
     ]
    }
   ],
   "source": [
    "perc=str(round(route_a_b[route_a_b['no_overlap']]['route'].nunique()*100/bgp_inconsistent_altdb.prefix.nunique(),2))+\"% \"\n",
    "fraction=\"(\"+str(route_a_b[route_a_b['no_overlap']]['route'].nunique())+\"/\"+str(bgp_inconsistent_altdb.prefix.nunique())+\")\"\n",
    "print(perc+fraction+\" no overlap.\")"
   ]
  },
  {
   "cell_type": "code",
   "execution_count": 25,
   "id": "2917434f",
   "metadata": {},
   "outputs": [
    {
     "name": "stdout",
     "output_type": "stream",
     "text": [
      "28.59% (177/619) partial overlap.\n"
     ]
    }
   ],
   "source": [
    "perc=str(round(route_a_b[(~route_a_b['Fullmatch']) & (route_a_b['partial_match'])]['route'].nunique()*100/bgp_inconsistent_altdb.prefix.nunique(),2))+\"% \"\n",
    "fraction=\"(\"+str(route_a_b[(~route_a_b['Fullmatch']) & (route_a_b['partial_match'])]['route'].nunique())+\"/\"+str(bgp_inconsistent_altdb.prefix.nunique())+\")\"\n",
    "print(perc+fraction+\" partial overlap.\")"
   ]
  },
  {
   "cell_type": "markdown",
   "id": "3ca04d97",
   "metadata": {},
   "source": [
    "## Irregular route objects"
   ]
  },
  {
   "cell_type": "code",
   "execution_count": 49,
   "id": "3cd97595",
   "metadata": {},
   "outputs": [],
   "source": [
    "# BEN FILL THIS IN"
   ]
  },
  {
   "cell_type": "markdown",
   "id": "a81b8faa",
   "metadata": {},
   "source": [
    "## Confirming total"
   ]
  },
  {
   "cell_type": "code",
   "execution_count": 26,
   "id": "546a4182",
   "metadata": {},
   "outputs": [
    {
     "data": {
      "text/plain": [
       "True"
      ]
     },
     "execution_count": 26,
     "metadata": {},
     "output_type": "execute_result"
    }
   ],
   "source": [
    "fm=route_a_b[route_a_b['Fullmatch']]['route'].nunique()\n",
    "no=route_a_b[route_a_b['no_overlap']]['route'].nunique()\n",
    "pm=route_a_b[(~route_a_b['Fullmatch']) & (route_a_b['partial_match'])]['route'].nunique()\n",
    "fm+no+pm==bgp_inconsistent_altdb.prefix.nunique()"
   ]
  },
  {
   "cell_type": "markdown",
   "id": "c5d26de1",
   "metadata": {},
   "source": [
    "# Radb final numbers"
   ]
  },
  {
   "cell_type": "code",
   "execution_count": 27,
   "id": "6794b78a",
   "metadata": {
    "scrolled": true
   },
   "outputs": [
    {
     "name": "stdout",
     "output_type": "stream",
     "text": [
      "37.77% (56803/150402) Appear in BGP and inconsistent.\n"
     ]
    }
   ],
   "source": [
    "perc=str(round(bgp_inconsistent_radb.prefix.nunique()*100/len(radb_inconsistent),2))+\"% \"\n",
    "fraction=\"(\"+str(bgp_inconsistent_radb.prefix.nunique())+\"/\"+str(len(radb_inconsistent))+\")\"\n",
    "print(perc+fraction+\" Appear in BGP and inconsistent.\")"
   ]
  },
  {
   "cell_type": "code",
   "execution_count": 28,
   "id": "7db29366",
   "metadata": {},
   "outputs": [
    {
     "name": "stdout",
     "output_type": "stream",
     "text": [
      "36.9% (20963/56803) no overlap.\n"
     ]
    }
   ],
   "source": [
    "perc=str(round(route_r_b[route_r_b['no_overlap']]['route'].nunique()*100/bgp_inconsistent_radb.prefix.nunique(),2))+\"% \"\n",
    "fraction=\"(\"+str(route_r_b[route_r_b['no_overlap']]['route'].nunique())+\"/\"+str(bgp_inconsistent_radb.prefix.nunique())+\")\"\n",
    "print(perc+fraction+\" no overlap.\")"
   ]
  },
  {
   "cell_type": "code",
   "execution_count": 29,
   "id": "c5517bfe",
   "metadata": {},
   "outputs": [
    {
     "name": "stdout",
     "output_type": "stream",
     "text": [
      "5.28% (3002/56803) full overlap.\n"
     ]
    }
   ],
   "source": [
    "perc=str(round(route_r_b[route_r_b['Fullmatch']]['route'].nunique()*100/bgp_inconsistent_radb.prefix.nunique(),2))+\"% \"\n",
    "fraction=\"(\"+str(route_r_b[route_r_b['Fullmatch']]['route'].nunique())+\"/\"+str(bgp_inconsistent_radb.prefix.nunique())+\")\"\n",
    "print(perc+fraction+\" full overlap.\")"
   ]
  },
  {
   "cell_type": "code",
   "execution_count": 30,
   "id": "cb05185b",
   "metadata": {},
   "outputs": [
    {
     "name": "stdout",
     "output_type": "stream",
     "text": [
      "57.81% (32838/56803) partial overlap.\n"
     ]
    }
   ],
   "source": [
    "perc=str(round(route_r_b[(~route_r_b['Fullmatch']) & (route_r_b['partial_match'])]['route'].nunique()*100/bgp_inconsistent_radb.prefix.nunique(),2))+\"% \"\n",
    "fraction=\"(\"+str(route_r_b[(~route_r_b['Fullmatch']) & (route_r_b['partial_match'])]['route'].nunique())+\"/\"+str(bgp_inconsistent_radb.prefix.nunique())+\")\"\n",
    "print(perc+fraction+\" partial overlap.\")"
   ]
  },
  {
   "cell_type": "markdown",
   "id": "132bb4e4",
   "metadata": {},
   "source": [
    "## irregular route objects"
   ]
  },
  {
   "cell_type": "code",
   "execution_count": 50,
   "id": "9805739b",
   "metadata": {},
   "outputs": [],
   "source": [
    "# BEN FILL THIS IN"
   ]
  },
  {
   "cell_type": "markdown",
   "id": "189d3dcb",
   "metadata": {},
   "source": [
    "## Confirming total"
   ]
  },
  {
   "cell_type": "code",
   "execution_count": 31,
   "id": "0a7427e1",
   "metadata": {},
   "outputs": [
    {
     "data": {
      "text/plain": [
       "True"
      ]
     },
     "execution_count": 31,
     "metadata": {},
     "output_type": "execute_result"
    }
   ],
   "source": [
    "fm=route_r_b[route_r_b['Fullmatch']]['route'].nunique()\n",
    "no=route_r_b[route_r_b['no_overlap']]['route'].nunique()\n",
    "pm=route_r_b[(~route_r_b['Fullmatch']) & (route_r_b['partial_match'])]['route'].nunique()\n",
    "fm+no+pm==bgp_inconsistent_radb.prefix.nunique()"
   ]
  },
  {
   "cell_type": "code",
   "execution_count": null,
   "id": "144bd422",
   "metadata": {},
   "outputs": [],
   "source": []
  }
 ],
 "metadata": {
  "kernelspec": {
   "display_name": "Python 3",
   "language": "python",
   "name": "python3"
  },
  "language_info": {
   "codemirror_mode": {
    "name": "ipython",
    "version": 3
   },
   "file_extension": ".py",
   "mimetype": "text/x-python",
   "name": "python",
   "nbconvert_exporter": "python",
   "pygments_lexer": "ipython3",
   "version": "3.8.3"
  },
  "toc": {
   "base_numbering": 1,
   "nav_menu": {},
   "number_sections": true,
   "sideBar": true,
   "skip_h1_title": false,
   "title_cell": "Table of Contents",
   "title_sidebar": "Contents",
   "toc_cell": false,
   "toc_position": {},
   "toc_section_display": true,
   "toc_window_display": false
  }
 },
 "nbformat": 4,
 "nbformat_minor": 5
}
