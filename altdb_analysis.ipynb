{
 "cells": [
  {
   "cell_type": "code",
   "execution_count": 1,
   "id": "4e57b34c",
   "metadata": {},
   "outputs": [
    {
     "name": "stderr",
     "output_type": "stream",
     "text": [
      "/Users/katherineizhikevich/anaconda3/lib/python3.8/site-packages/pandas/core/computation/expressions.py:20: UserWarning: Pandas requires version '2.7.3' or newer of 'numexpr' (version '2.7.1' currently installed).\n",
      "  from pandas.core.computation.check import NUMEXPR_INSTALLED\n"
     ]
    }
   ],
   "source": [
    "import pandas as pd\n",
    "import numpy as np\n",
    "from datetime import datetime\n",
    "import time\n",
    "#import matplotlib.pyplot as plt\n",
    "import gzip\n",
    "import json\n",
    "#from tabulate import tabulate\n",
    "import bz2\n",
    "#import os\n",
    "from tqdm import tqdm"
   ]
  },
  {
   "cell_type": "markdown",
   "id": "4c9aa215",
   "metadata": {},
   "source": [
    "# Load the Data"
   ]
  },
  {
   "cell_type": "markdown",
   "id": "902dcb33",
   "metadata": {},
   "source": [
    "## Helper functions and variables"
   ]
  },
  {
   "cell_type": "code",
   "execution_count": 2,
   "id": "b290a503",
   "metadata": {},
   "outputs": [],
   "source": [
    "def delta_date(x):\n",
    "    return (str_to_date(x['end_date']) - str_to_date(x['start_date'])).days + 1"
   ]
  },
  {
   "cell_type": "code",
   "execution_count": 3,
   "id": "1ee1ec40",
   "metadata": {},
   "outputs": [],
   "source": [
    "def str_to_date(d):\n",
    "    return datetime.strptime(d, \"%Y-%m-%d\")"
   ]
  },
  {
   "cell_type": "code",
   "execution_count": 4,
   "id": "03eb056f",
   "metadata": {},
   "outputs": [],
   "source": [
    "datapath=\"irrs/\""
   ]
  },
  {
   "cell_type": "code",
   "execution_count": 5,
   "id": "3cf7b01e",
   "metadata": {},
   "outputs": [],
   "source": [
    "def overlap_db(db):\n",
    "    timeless_overlap = db.merge(bgp, left_on='route', right_on='prefix', suffixes=('_route', '_prefix'))\n",
    "    timeless_overlap['end_date'] = pd.to_datetime(timeless_overlap['end_date'], format=\"%Y-%m-%d\")\n",
    "    timeless_overlap['start_date'] = pd.to_datetime(timeless_overlap['start_date'], format=\"%Y-%m-%d\")\n",
    "    timeless_overlap['start']=pd.to_datetime(timeless_overlap['start'], unit='s').dt.strftime('%Y-%m-%d')\n",
    "    timeless_overlap['end']=pd.to_datetime(timeless_overlap['end'], unit='s').dt.strftime('%Y-%m-%d')\n",
    "    #timeless_overlap['origin']=timeless_overlap['origin'].str.replace('AS',\"\")\n",
    "    actual_overlap = timeless_overlap[(timeless_overlap.end_date > timeless_overlap.start)&(timeless_overlap.start_date < timeless_overlap.end)]\n",
    "    actual_overlap['asn']='AS'+actual_overlap['asn'].astype(str)\n",
    "    return actual_overlap"
   ]
  },
  {
   "cell_type": "markdown",
   "id": "bbbc411b",
   "metadata": {},
   "source": [
    "## Load BGP"
   ]
  },
  {
   "cell_type": "code",
   "execution_count": 6,
   "id": "8297d90d",
   "metadata": {},
   "outputs": [],
   "source": [
    "bgp = pd.read_csv('pfx2as_2021_2023_merged.csv.gz', names=['prefix', 'asn', 'start', 'end'], delimiter=' ',low_memory=False)\n",
    "bgp['duration'] = bgp['end'] - bgp['start']\n",
    "bgpagg = bgp.groupby(['prefix', 'asn']).agg({'duration':'sum'}).reset_index()\n",
    "bgpagg['asn']='AS'+bgpagg['asn'].astype(str)"
   ]
  },
  {
   "cell_type": "markdown",
   "id": "3c24c3a7",
   "metadata": {},
   "source": [
    "## Load Altdb"
   ]
  },
  {
   "cell_type": "code",
   "execution_count": 7,
   "id": "ac97e168",
   "metadata": {},
   "outputs": [
    {
     "name": "stderr",
     "output_type": "stream",
     "text": [
      "<ipython-input-5-bca60fb6450b>:9: SettingWithCopyWarning: \n",
      "A value is trying to be set on a copy of a slice from a DataFrame.\n",
      "Try using .loc[row_indexer,col_indexer] = value instead\n",
      "\n",
      "See the caveats in the documentation: https://pandas.pydata.org/pandas-docs/stable/user_guide/indexing.html#returning-a-view-versus-a-copy\n",
      "  actual_overlap['asn']='AS'+actual_overlap['asn'].astype(str)\n"
     ]
    }
   ],
   "source": [
    "altdb = pd.read_json(datapath+'altdb/altdb.route.json.gz', lines=True)\n",
    "altdb['lifetime'] = altdb.apply(delta_date, axis=1)\n",
    "altdb_overlap=overlap_db(altdb)\n",
    "altdbagg = altdb_overlap.groupby(['route', 'origin']).agg({'lifetime':'sum'}).reset_index()"
   ]
  },
  {
   "cell_type": "markdown",
   "id": "56d3a233",
   "metadata": {},
   "source": [
    "# Section 7: Irregular Route Objects"
   ]
  },
  {
   "cell_type": "markdown",
   "id": "076af5a3",
   "metadata": {},
   "source": [
    "## Helper functions"
   ]
  },
  {
   "cell_type": "markdown",
   "id": "098d3b03",
   "metadata": {},
   "source": [
    "### as2org"
   ]
  },
  {
   "cell_type": "code",
   "execution_count": 8,
   "id": "eec0979c",
   "metadata": {},
   "outputs": [],
   "source": [
    "orgs=pd.read_csv('as2org_clean.csv')\n",
    "orgs['aut']=orgs['aut'].map(str)\n",
    "orgs_ases_gt=list(orgs['aut'].unique())"
   ]
  },
  {
   "cell_type": "markdown",
   "id": "973d5a4d",
   "metadata": {},
   "source": [
    "### AS relationships"
   ]
  },
  {
   "cell_type": "code",
   "execution_count": 9,
   "id": "2ec03e1c",
   "metadata": {},
   "outputs": [
    {
     "name": "stderr",
     "output_type": "stream",
     "text": [
      "100%|██████████| 494684/494684 [00:02<00:00, 233095.63it/s]\n"
     ]
    }
   ],
   "source": [
    "with bz2.open('20230401.as-rel.txt.bz2','rt') as f:\n",
    "    content=f.read()\n",
    "lines=content.split('\\n')\n",
    "clean_lines=[]\n",
    "ases=[]\n",
    "mypeers={}\n",
    "mycustomers={}\n",
    "myproviders={}\n",
    "#the above dictionaries are organized s.t. mypeers[AS1]=AS2 and mypeers[AS2]=AS1\n",
    "for l in tqdm(lines):\n",
    "    if not l.startswith('#'):\n",
    "        clean_lines.append(l)\n",
    "        if len(l.split('|'))==3:\n",
    "            if l.split('|')[2]=='0':\n",
    "                if l.split('|')[0] in mypeers:\n",
    "                    mypeers[l.split('|')[0]].append(l.split('|')[1])\n",
    "                else:\n",
    "                    mypeers[l.split('|')[0]]=[(l.split('|')[1])]\n",
    "                if l.split('|')[1] in mypeers:\n",
    "                    mypeers[l.split('|')[1]].append(l.split('|')[0])\n",
    "                else:\n",
    "                    mypeers[l.split('|')[1]]=[(l.split('|')[0])]\n",
    "            if l.split('|')[2]=='-1': #AS1 is a provider of AS2, AS2 is a customer of AS1 AS1|AS2|-1\n",
    "                if l.split('|')[1] in myproviders:\n",
    "                    myproviders[l.split('|')[1]].append(l.split('|')[0])\n",
    "                else:\n",
    "                    myproviders[l.split('|')[1]]=[(l.split('|')[0])]\n",
    "                if l.split('|')[0] in mycustomers:\n",
    "                    mycustomers[l.split('|')[0]].append(l.split('|')[1])\n",
    "                else:\n",
    "                    mycustomers[l.split('|')[0]]=[(l.split('|')[1])]"
   ]
  },
  {
   "cell_type": "markdown",
   "id": "e981a6ba",
   "metadata": {},
   "source": [
    "## Section 7.2: ALTDB Analysis"
   ]
  },
  {
   "cell_type": "code",
   "execution_count": 10,
   "id": "6ffba0a2",
   "metadata": {},
   "outputs": [],
   "source": [
    "altdb_cover=pd.read_csv('altdb_cover.csv')"
   ]
  },
  {
   "cell_type": "code",
   "execution_count": 11,
   "id": "3099cb4f",
   "metadata": {},
   "outputs": [],
   "source": [
    "altdb_inconsistent=list(altdb_cover.nonauth.unique())"
   ]
  },
  {
   "cell_type": "code",
   "execution_count": 12,
   "id": "0338da28",
   "metadata": {
    "scrolled": true
   },
   "outputs": [
    {
     "data": {
      "text/plain": [
       "1206"
      ]
     },
     "execution_count": 12,
     "metadata": {},
     "output_type": "execute_result"
    }
   ],
   "source": [
    "len(altdb_inconsistent)"
   ]
  },
  {
   "cell_type": "code",
   "execution_count": 13,
   "id": "a3542f05",
   "metadata": {
    "scrolled": false
   },
   "outputs": [
    {
     "data": {
      "text/plain": [
       "1206"
      ]
     },
     "execution_count": 13,
     "metadata": {},
     "output_type": "execute_result"
    }
   ],
   "source": [
    "altdb[altdb['route'].isin(altdb_inconsistent)]['route'].nunique()"
   ]
  },
  {
   "cell_type": "markdown",
   "id": "f93b7674",
   "metadata": {},
   "source": [
    "### Appear in BGP and inconsistent"
   ]
  },
  {
   "cell_type": "code",
   "execution_count": 14,
   "id": "68808bc9",
   "metadata": {},
   "outputs": [],
   "source": [
    "bgp_inconsistent_altdb=altdb_overlap[altdb_overlap['prefix'].isin(altdb_inconsistent)]\n",
    "#using altdb_overlap to get overlapping time for both altdb and bgp"
   ]
  },
  {
   "cell_type": "code",
   "execution_count": 15,
   "id": "a92fddd0",
   "metadata": {},
   "outputs": [
    {
     "name": "stdout",
     "output_type": "stream",
     "text": [
      "619 appear in BGP and are inconsistent.\n"
     ]
    }
   ],
   "source": [
    "print(bgp_inconsistent_altdb.prefix.nunique(),\"appear in BGP and are inconsistent.\")"
   ]
  },
  {
   "cell_type": "markdown",
   "id": "712e3372",
   "metadata": {},
   "source": [
    "### Full overlap"
   ]
  },
  {
   "cell_type": "code",
   "execution_count": 16,
   "id": "f65e42b0",
   "metadata": {},
   "outputs": [],
   "source": [
    "in_b_a=bgp_inconsistent_altdb.prefix.unique()"
   ]
  },
  {
   "cell_type": "code",
   "execution_count": 17,
   "id": "d54b94f9",
   "metadata": {},
   "outputs": [
    {
     "data": {
      "text/plain": [
       "619"
      ]
     },
     "execution_count": 17,
     "metadata": {},
     "output_type": "execute_result"
    }
   ],
   "source": [
    "len(in_b_a)"
   ]
  },
  {
   "cell_type": "code",
   "execution_count": 18,
   "id": "7a6e06fb",
   "metadata": {},
   "outputs": [],
   "source": [
    "df_in_b_a=altdb_overlap[altdb_overlap['route'].isin(in_b_a)]"
   ]
  },
  {
   "cell_type": "code",
   "execution_count": 19,
   "id": "096ba35a",
   "metadata": {},
   "outputs": [
    {
     "data": {
      "text/plain": [
       "619"
      ]
     },
     "execution_count": 19,
     "metadata": {},
     "output_type": "execute_result"
    }
   ],
   "source": [
    "df_in_b_a.route.nunique()"
   ]
  },
  {
   "cell_type": "code",
   "execution_count": 20,
   "id": "4c13a1a0",
   "metadata": {},
   "outputs": [],
   "source": [
    "route_a_b=df_in_b_a.groupby('route').agg({'asn':set,'origin':set}).reset_index()\n",
    "#route {asn set from altdb} {origin set from bgp}"
   ]
  },
  {
   "cell_type": "code",
   "execution_count": 21,
   "id": "13a45fe2",
   "metadata": {},
   "outputs": [],
   "source": [
    "route_a_b['related']=False #this is True when the ASes are the same or related (i.e. not irregular)"
   ]
  },
  {
   "cell_type": "code",
   "execution_count": 22,
   "id": "24316ac9",
   "metadata": {},
   "outputs": [],
   "source": [
    "route_a_b['Fullmatch']=(route_a_b['asn']==route_a_b['origin']) #python discards order when evaluating set equality"
   ]
  },
  {
   "cell_type": "code",
   "execution_count": 23,
   "id": "d7b7fc17",
   "metadata": {},
   "outputs": [],
   "source": [
    "full_overlap=route_a_b[route_a_b['Fullmatch']]['route'].nunique() \n",
    "#this variable will be added onto for the full overlap calculation"
   ]
  },
  {
   "cell_type": "code",
   "execution_count": 24,
   "id": "d8753ca5",
   "metadata": {},
   "outputs": [],
   "source": [
    "fully_matched=route_a_b[route_a_b['Fullmatch']]['route'].unique() "
   ]
  },
  {
   "cell_type": "code",
   "execution_count": 25,
   "id": "f7468d34",
   "metadata": {},
   "outputs": [],
   "source": [
    "for i in list(route_a_b.index[route_a_b['route'].isin(fully_matched)]):\n",
    "    route_a_b.at[i,'related']=True"
   ]
  },
  {
   "cell_type": "code",
   "execution_count": 26,
   "id": "33a83a9a",
   "metadata": {},
   "outputs": [
    {
     "name": "stdout",
     "output_type": "stream",
     "text": [
      "130 prefixes have an exact match AS from ALTDB and BGP.\n"
     ]
    }
   ],
   "source": [
    "print(route_a_b[route_a_b['related']]['route'].nunique(),\"prefixes have an exact match AS from ALTDB and BGP.\")\n"
   ]
  },
  {
   "cell_type": "code",
   "execution_count": 27,
   "id": "1fe95c76",
   "metadata": {},
   "outputs": [
    {
     "name": "stdout",
     "output_type": "stream",
     "text": [
      "489 prefixes do not have an exact match AS from ALTDB and BGP.\n"
     ]
    }
   ],
   "source": [
    "notfullmatch=route_a_b[~route_a_b['Fullmatch']]\n",
    "print(notfullmatch['route'].nunique(),\"prefixes do not have an exact match AS from ALTDB and BGP.\")"
   ]
  },
  {
   "cell_type": "markdown",
   "id": "ae7f507d",
   "metadata": {},
   "source": [
    "### Partial Overlap"
   ]
  },
  {
   "cell_type": "markdown",
   "id": "dfd5ff76",
   "metadata": {},
   "source": [
    "Now we filter down the non exact match prefixes from above."
   ]
  },
  {
   "cell_type": "code",
   "execution_count": 28,
   "id": "87b0a2e4",
   "metadata": {},
   "outputs": [],
   "source": [
    "route_a_b['intersec'] = route_a_b.apply(lambda x: set(x['asn']).intersection(set(x['origin'])), axis=1)\n",
    "route_a_b['partial_match']=(route_a_b['intersec']!=set())\n",
    "route_a_b['all_ases']=route_a_b.apply(lambda x: (x['asn'] | x['origin']), axis=1)"
   ]
  },
  {
   "cell_type": "code",
   "execution_count": 29,
   "id": "a1b6cb83",
   "metadata": {},
   "outputs": [],
   "source": [
    "partial=route_a_b[(~route_a_b['Fullmatch']) & (route_a_b['partial_match'])]"
   ]
  },
  {
   "cell_type": "code",
   "execution_count": 30,
   "id": "a0930cfc",
   "metadata": {},
   "outputs": [
    {
     "name": "stdout",
     "output_type": "stream",
     "text": [
      "177 prefixes have a partial overlap.\n"
     ]
    }
   ],
   "source": [
    "print(partial['route'].nunique(),\"prefixes have a partial overlap.\")\n",
    "#i.e. if Altdb says AS1,AS2 and BGP says AS2,AS3"
   ]
  },
  {
   "cell_type": "markdown",
   "id": "9995ea19",
   "metadata": {},
   "source": [
    "#### Do the ASes belong to the same org?"
   ]
  },
  {
   "cell_type": "code",
   "execution_count": 31,
   "id": "43db28b8",
   "metadata": {},
   "outputs": [
    {
     "name": "stderr",
     "output_type": "stream",
     "text": [
      "100%|██████████| 177/177 [00:05<00:00, 33.85it/s]\n"
     ]
    }
   ],
   "source": [
    "pa_mis_rs=partial['route'].unique() #list of prefixes with partial overlap ASes from ALTDB and BGP\n",
    "r2orgspa={}\n",
    "for r in tqdm(pa_mis_rs):\n",
    "    r2orgspa[r]=[]\n",
    "    ases_to_check=list(partial[partial['route']==str(r)]['all_ases'])[0]\n",
    "    clean=[i.replace(\"'\",\"\") for i in ases_to_check]\n",
    "    clean=[i.replace(\"AS\",\"\") for i in ases_to_check]\n",
    "    for a in clean:\n",
    "        if a in orgs_ases_gt:\n",
    "            check_org=list(orgs[orgs['aut']==a]['org_id'].unique())[0]\n",
    "            r2orgspa[r].append(check_org)\n",
    "        if a not in orgs_ases_gt: #if not in as 2 org file, then remove from org analysis\n",
    "            r2orgspa[r].append('missing')\n",
    "for r in r2orgspa:\n",
    "    r2orgspa[r]=set(r2orgspa[r])"
   ]
  },
  {
   "cell_type": "code",
   "execution_count": 32,
   "id": "d0505dab",
   "metadata": {},
   "outputs": [],
   "source": [
    "as_mismatch_same_org=[]\n",
    "for r in r2orgspa:\n",
    "    if (len(r2orgspa[r])==1) and (r2orgspa[r]!='missing'):\n",
    "        as_mismatch_same_org.append(r)"
   ]
  },
  {
   "cell_type": "code",
   "execution_count": 33,
   "id": "d6673098",
   "metadata": {},
   "outputs": [],
   "source": [
    "for i in list(route_a_b.index[route_a_b['route'].isin(as_mismatch_same_org)]):\n",
    "    route_a_b.at[i,'related']=True"
   ]
  },
  {
   "cell_type": "code",
   "execution_count": 34,
   "id": "3cce5d17",
   "metadata": {},
   "outputs": [],
   "source": [
    "full_overlap+=len(as_mismatch_same_org)"
   ]
  },
  {
   "cell_type": "code",
   "execution_count": 35,
   "id": "20e2a999",
   "metadata": {},
   "outputs": [
    {
     "name": "stdout",
     "output_type": "stream",
     "text": [
      "0 prefixes belong to the same org.\n"
     ]
    }
   ],
   "source": [
    "print(len(as_mismatch_same_org),\"prefixes belong to the same org.\")"
   ]
  },
  {
   "cell_type": "markdown",
   "id": "78d4cf8f",
   "metadata": {},
   "source": [
    "#### If not, is there a customer or peer relationship?"
   ]
  },
  {
   "cell_type": "code",
   "execution_count": 36,
   "id": "cf34b25e",
   "metadata": {
    "scrolled": true
   },
   "outputs": [
    {
     "data": {
      "text/plain": [
       "177"
      ]
     },
     "execution_count": 36,
     "metadata": {},
     "output_type": "execute_result"
    }
   ],
   "source": [
    "partial[~partial['related']]['route'].nunique()"
   ]
  },
  {
   "cell_type": "code",
   "execution_count": 37,
   "id": "386068ab",
   "metadata": {},
   "outputs": [
    {
     "name": "stderr",
     "output_type": "stream",
     "text": [
      "100%|██████████| 177/177 [00:00<00:00, 1470.16it/s]\n"
     ]
    }
   ],
   "source": [
    "check_rel=partial[~partial['related']]['route'].unique()\n",
    "related=[]\n",
    "unrelated=[]\n",
    "for r in tqdm(check_rel):\n",
    "    check_ases=list(list(route_a_b[route_a_b['route']==str(r)]['all_ases'])[0])\n",
    "    #use first AS to check relationships\n",
    "    token_as=check_ases[0].lower().split('as')[1]\n",
    "    #check if the rest of the ases are peers, customers, or providers\n",
    "    token_peers=[]\n",
    "    token_providers=[]\n",
    "    token_customers=[]\n",
    "    if token_as in myproviders:\n",
    "        token_providers=myproviders[token_as]\n",
    "    if token_as in mycustomers:\n",
    "        token_customers=mycustomers[token_as]\n",
    "    if token_as in mypeers:\n",
    "        token_peers=mypeers[token_as]\n",
    "    for a in check_ases:\n",
    "        clean=a.lower().split('as')[1]\n",
    "        if clean==token_as:\n",
    "            continue\n",
    "        if clean in token_peers:\n",
    "            related.append(r)\n",
    "        if clean in token_customers:\n",
    "            related.append(r)\n",
    "        if clean in token_providers:\n",
    "            related.append(r)\n",
    "    if r not in related:\n",
    "        unrelated.append(r)\n",
    "related=set(related)\n",
    "unrelated=set(unrelated)"
   ]
  },
  {
   "cell_type": "code",
   "execution_count": 38,
   "id": "de3a9a82",
   "metadata": {},
   "outputs": [
    {
     "data": {
      "text/plain": [
       "177"
      ]
     },
     "execution_count": 38,
     "metadata": {},
     "output_type": "execute_result"
    }
   ],
   "source": [
    "len(related)+len(unrelated)"
   ]
  },
  {
   "cell_type": "code",
   "execution_count": 39,
   "id": "d39857b4",
   "metadata": {},
   "outputs": [],
   "source": [
    "full_overlap+=len(related)"
   ]
  },
  {
   "cell_type": "code",
   "execution_count": 40,
   "id": "0571cddb",
   "metadata": {},
   "outputs": [],
   "source": [
    "partial_overlap=len(unrelated)"
   ]
  },
  {
   "cell_type": "code",
   "execution_count": 41,
   "id": "b11e45aa",
   "metadata": {},
   "outputs": [],
   "source": [
    "for i in list(route_a_b.index[route_a_b['route'].isin(related)]):\n",
    "    route_a_b.at[i,'related']=True"
   ]
  },
  {
   "cell_type": "code",
   "execution_count": 42,
   "id": "0fe82674",
   "metadata": {},
   "outputs": [
    {
     "name": "stdout",
     "output_type": "stream",
     "text": [
      "15 routes have a customer or provider or peer relationship.\n"
     ]
    }
   ],
   "source": [
    "print(len(related),\"routes have a customer or provider or peer relationship.\")"
   ]
  },
  {
   "cell_type": "code",
   "execution_count": 43,
   "id": "d60551ae",
   "metadata": {},
   "outputs": [
    {
     "name": "stdout",
     "output_type": "stream",
     "text": [
      "162 routes do not have a customer or provider or peer relationship.\n"
     ]
    }
   ],
   "source": [
    "print(len(unrelated),\"routes do not have a customer or provider or peer relationship.\")"
   ]
  },
  {
   "cell_type": "markdown",
   "id": "d4544788",
   "metadata": {},
   "source": [
    "### No Overlap"
   ]
  },
  {
   "cell_type": "code",
   "execution_count": 44,
   "id": "9216a812",
   "metadata": {
    "scrolled": true
   },
   "outputs": [
    {
     "name": "stdout",
     "output_type": "stream",
     "text": [
      "312 total mismatches.\n"
     ]
    }
   ],
   "source": [
    "print(route_a_b[~route_a_b['partial_match']]['route'].nunique(),\"total mismatches.\")"
   ]
  },
  {
   "cell_type": "code",
   "execution_count": 45,
   "id": "a9ce1d2c",
   "metadata": {},
   "outputs": [],
   "source": [
    "total=route_a_b[~route_a_b['partial_match']]"
   ]
  },
  {
   "cell_type": "markdown",
   "id": "51f884c6",
   "metadata": {},
   "source": [
    "#### Do the ASes belong to the same org?"
   ]
  },
  {
   "cell_type": "code",
   "execution_count": 46,
   "id": "2ad1b63e",
   "metadata": {},
   "outputs": [
    {
     "name": "stderr",
     "output_type": "stream",
     "text": [
      "100%|██████████| 312/312 [00:11<00:00, 27.14it/s]\n"
     ]
    }
   ],
   "source": [
    "tot_mis_rs=total['route'].unique()\n",
    "r2orgs={}\n",
    "for r in tqdm(tot_mis_rs):\n",
    "    r2orgs[r]=[]\n",
    "    ases_to_check=list(total[total['route']==str(r)]['all_ases'])[0]\n",
    "    clean=[i.replace(\"'\",\"\") for i in ases_to_check]\n",
    "    clean=[i.replace(\"AS\",\"\") for i in ases_to_check]\n",
    "    for a in clean:\n",
    "        if a in orgs_ases_gt:\n",
    "            check_org=list(orgs[orgs['aut']==a]['org_id'].unique())[0]\n",
    "            r2orgs[r].append(check_org)\n",
    "        if a not in orgs_ases_gt:\n",
    "            r2orgs[r].append('missing')\n",
    "for r in r2orgs:\n",
    "    r2orgs[r]=set(r2orgs[r])"
   ]
  },
  {
   "cell_type": "code",
   "execution_count": 47,
   "id": "8fdd47ee",
   "metadata": {},
   "outputs": [],
   "source": [
    "as_mismatch_same_org=[]\n",
    "for r in r2orgs:\n",
    "    if (len(r2orgs[r])==1) and (r2orgs[r]!='missing'):\n",
    "        as_mismatch_same_org.append(r)"
   ]
  },
  {
   "cell_type": "code",
   "execution_count": 66,
   "id": "5244627b",
   "metadata": {},
   "outputs": [],
   "source": [
    "full_overlap+=len(as_mismatch_same_org)"
   ]
  },
  {
   "cell_type": "code",
   "execution_count": 48,
   "id": "8205b8cf",
   "metadata": {},
   "outputs": [
    {
     "name": "stdout",
     "output_type": "stream",
     "text": [
      "1 prefixes belong to the same org.\n"
     ]
    }
   ],
   "source": [
    "print(len(as_mismatch_same_org),\"prefixes belong to the same org.\")"
   ]
  },
  {
   "cell_type": "code",
   "execution_count": 49,
   "id": "09cb48bd",
   "metadata": {},
   "outputs": [
    {
     "name": "stdout",
     "output_type": "stream",
     "text": [
      "311 prefixes do not belong to the same org.\n"
     ]
    }
   ],
   "source": [
    "print(len(tot_mis_rs)-len(as_mismatch_same_org),\"prefixes do not belong to the same org.\")"
   ]
  },
  {
   "cell_type": "code",
   "execution_count": 50,
   "id": "bbf961b9",
   "metadata": {},
   "outputs": [
    {
     "name": "stderr",
     "output_type": "stream",
     "text": [
      "<ipython-input-50-3096668d5cc2>:2: SettingWithCopyWarning: \n",
      "A value is trying to be set on a copy of a slice from a DataFrame.\n",
      "Try using .loc[row_indexer,col_indexer] = value instead\n",
      "\n",
      "See the caveats in the documentation: https://pandas.pydata.org/pandas-docs/stable/user_guide/indexing.html#returning-a-view-versus-a-copy\n",
      "  total['same_org']=False\n"
     ]
    }
   ],
   "source": [
    "route_a_b['same_org']=False\n",
    "total['same_org']=False\n",
    "for i in list(route_a_b.index[route_a_b['route'].isin(as_mismatch_same_org)]):\n",
    "    route_a_b.at[i,'same_org']=True\n",
    "    route_a_b.at[i,'related']=True\n",
    "    total.at[i,'same_org']=True\n",
    "    total.at[i,'related']=True"
   ]
  },
  {
   "cell_type": "markdown",
   "id": "6a90218a",
   "metadata": {},
   "source": [
    "#### If not, is there a customer or peer relationship?"
   ]
  },
  {
   "cell_type": "code",
   "execution_count": 51,
   "id": "fee20c42",
   "metadata": {},
   "outputs": [
    {
     "name": "stderr",
     "output_type": "stream",
     "text": [
      "100%|██████████| 311/311 [00:00<00:00, 1499.76it/s]\n"
     ]
    }
   ],
   "source": [
    "check_rel=total[~total['related']]['route'].unique()\n",
    "related=[]\n",
    "unrelated=[]\n",
    "for r in tqdm(check_rel):\n",
    "    check_ases=list(list(route_a_b[route_a_b['route']==str(r)]['all_ases'])[0])\n",
    "    #use first AS to check relationships\n",
    "    token_as=check_ases[0].split('AS')[1]\n",
    "    #check if the rest of the ases are peers, customers, or providers\n",
    "    token_peers=[]\n",
    "    token_providers=[]\n",
    "    token_customers=[]\n",
    "    if token_as in myproviders:\n",
    "        token_providers=myproviders[token_as]\n",
    "    if token_as in mycustomers:\n",
    "        token_customers=mycustomers[token_as]\n",
    "    if token_as in mypeers:\n",
    "        token_peers=mypeers[token_as]\n",
    "    for a in check_ases:\n",
    "        clean=a.split('AS')[1]\n",
    "        if clean==token_as:\n",
    "            continue\n",
    "        if clean in token_peers:\n",
    "            related.append(r)\n",
    "        if clean in token_customers:\n",
    "            related.append(r)\n",
    "        if clean in token_providers:\n",
    "            related.append(r)\n",
    "    if r not in related:\n",
    "        unrelated.append(r)\n",
    "related=set(related)\n",
    "unrelated=set(unrelated)"
   ]
  },
  {
   "cell_type": "code",
   "execution_count": 52,
   "id": "b2f5e037",
   "metadata": {
    "scrolled": true
   },
   "outputs": [
    {
     "data": {
      "text/plain": [
       "311"
      ]
     },
     "execution_count": 52,
     "metadata": {},
     "output_type": "execute_result"
    }
   ],
   "source": [
    "len(related)+len(unrelated)"
   ]
  },
  {
   "cell_type": "code",
   "execution_count": 53,
   "id": "f03a4e02",
   "metadata": {},
   "outputs": [],
   "source": [
    "full_overlap+=len(related)"
   ]
  },
  {
   "cell_type": "code",
   "execution_count": 54,
   "id": "42a170cf",
   "metadata": {},
   "outputs": [],
   "source": [
    "no_overlap=len(unrelated)"
   ]
  },
  {
   "cell_type": "code",
   "execution_count": 55,
   "id": "2229d330",
   "metadata": {},
   "outputs": [],
   "source": [
    "for i in list(route_a_b.index[route_a_b['route'].isin(related)]):\n",
    "    route_a_b.at[i,'related']=True"
   ]
  },
  {
   "cell_type": "code",
   "execution_count": 56,
   "id": "30eb051d",
   "metadata": {},
   "outputs": [
    {
     "name": "stdout",
     "output_type": "stream",
     "text": [
      "13 routes have a customer or provider or peer relationship.\n"
     ]
    }
   ],
   "source": [
    "print(len(related),\"routes have a customer or provider or peer relationship.\")"
   ]
  },
  {
   "cell_type": "code",
   "execution_count": 57,
   "id": "41288579",
   "metadata": {},
   "outputs": [
    {
     "name": "stdout",
     "output_type": "stream",
     "text": [
      "298 routes do not have a customer or provider or peer relationship.\n"
     ]
    }
   ],
   "source": [
    "print(len(unrelated),\"routes do not have a customer or provider or peer relationship.\")"
   ]
  },
  {
   "cell_type": "markdown",
   "id": "57bf8a2e",
   "metadata": {},
   "source": [
    "### Final numbers for ALTDB"
   ]
  },
  {
   "cell_type": "code",
   "execution_count": 67,
   "id": "d6155028",
   "metadata": {},
   "outputs": [
    {
     "name": "stdout",
     "output_type": "stream",
     "text": [
      "51.33% (619/1206) Appear in BGP and inconsistent.\n"
     ]
    }
   ],
   "source": [
    "perc=str(round(bgp_inconsistent_altdb.prefix.nunique()*100/len(altdb_inconsistent),2))+\"% \"\n",
    "fraction=\"(\"+str(bgp_inconsistent_altdb.prefix.nunique())+\"/\"+str(len(altdb_inconsistent))+\")\"\n",
    "print(perc+fraction+\" Appear in BGP and inconsistent.\")"
   ]
  },
  {
   "cell_type": "code",
   "execution_count": 68,
   "id": "055bde71",
   "metadata": {},
   "outputs": [
    {
     "name": "stdout",
     "output_type": "stream",
     "text": [
      "48.14% (298/619) No overlap.\n"
     ]
    }
   ],
   "source": [
    "perc=str(round(no_overlap*100/bgp_inconsistent_altdb.prefix.nunique(),2))+\"% \"\n",
    "fraction=\"(\"+str(no_overlap)+\"/\"+str(bgp_inconsistent_altdb.prefix.nunique())+\")\"\n",
    "print(perc+fraction+\" No overlap.\")\n",
    "#(i.e., no org rel, no cust/peer/prov rel, and no overlapping ASes.\")"
   ]
  },
  {
   "cell_type": "code",
   "execution_count": 69,
   "id": "4607f53b",
   "metadata": {},
   "outputs": [
    {
     "name": "stdout",
     "output_type": "stream",
     "text": [
      "25.69% (159/619) Full overlap.\n"
     ]
    }
   ],
   "source": [
    "perc=str(round(full_overlap*100/bgp_inconsistent_altdb.prefix.nunique(),2))+\"% \"\n",
    "fraction=\"(\"+str(full_overlap)+\"/\"+str(bgp_inconsistent_altdb.prefix.nunique())+\")\"\n",
    "print(perc+fraction+\" Full overlap.\")\n",
    "#(i.e., completely overlapping ASes, ASes belong to the same org, ASes have cust/peer/prov rel.\")\n"
   ]
  },
  {
   "cell_type": "code",
   "execution_count": 70,
   "id": "502a3576",
   "metadata": {},
   "outputs": [
    {
     "name": "stdout",
     "output_type": "stream",
     "text": [
      "26.17% (162/619) Partial overlap.\n"
     ]
    }
   ],
   "source": [
    "perc=str(round(partial_overlap*100/bgp_inconsistent_altdb.prefix.nunique(),2))+\"% \"\n",
    "fraction=\"(\"+str(partial_overlap)+\"/\"+str(bgp_inconsistent_altdb.prefix.nunique())+\")\"\n",
    "print(perc+fraction+\" Partial overlap.\") \n",
    "#(i.e., some ASes overlap, others do not and the ones that do not have no org or cust/peer rel.)\")\n"
   ]
  },
  {
   "cell_type": "code",
   "execution_count": null,
   "id": "87f5f5fa",
   "metadata": {},
   "outputs": [],
   "source": []
  }
 ],
 "metadata": {
  "kernelspec": {
   "display_name": "Python 3",
   "language": "python",
   "name": "python3"
  },
  "language_info": {
   "codemirror_mode": {
    "name": "ipython",
    "version": 3
   },
   "file_extension": ".py",
   "mimetype": "text/x-python",
   "name": "python",
   "nbconvert_exporter": "python",
   "pygments_lexer": "ipython3",
   "version": "3.8.3"
  },
  "toc": {
   "base_numbering": 1,
   "nav_menu": {},
   "number_sections": true,
   "sideBar": true,
   "skip_h1_title": false,
   "title_cell": "Table of Contents",
   "title_sidebar": "Contents",
   "toc_cell": false,
   "toc_position": {},
   "toc_section_display": true,
   "toc_window_display": false
  }
 },
 "nbformat": 4,
 "nbformat_minor": 5
}
