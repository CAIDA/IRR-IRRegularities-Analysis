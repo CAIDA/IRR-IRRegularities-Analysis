{
 "cells": [
  {
   "cell_type": "markdown",
   "id": "ff429fbe",
   "metadata": {},
   "source": [
    "# This notebooks parses IRR dumps and keeps the route objects in json format\n",
    "\n",
    "You can retrieve the latest IRR dumps from https://www.irr.net/docs/list.html"
   ]
  },
  {
   "cell_type": "code",
   "execution_count": 1,
   "id": "4bba96aa",
   "metadata": {},
   "outputs": [],
   "source": [
    "import pandas as pd\n",
    "import gzip\n",
    "from collections import OrderedDict, defaultdict\n",
    "import ipaddress\n",
    "import math\n",
    "import radix\n",
    "import re\n",
    "import numpy as np\n",
    "import matplotlib.pyplot as plt\n",
    "import urllib\n",
    "import multiprocessing as mp\n",
    "import os\n",
    "from datetime import datetime, date\n",
    "import ftplib\n",
    "import bz2"
   ]
  },
  {
   "cell_type": "code",
   "execution_count": 7,
   "id": "d28e9f0c",
   "metadata": {},
   "outputs": [],
   "source": [
    "split = re.compile(r'(.+?):\\s*(.*)')\n",
    "\n",
    "class Entry(OrderedDict):\n",
    "    def __repr__(self):\n",
    "        output = []\n",
    "        for key, value in self.items():\n",
    "            output.append('{}:\\t{}'.format(key, value))\n",
    "        return '\\n'.join(output)\n",
    "    \n",
    "    def __hash__(self):\n",
    "        return hash(str(self))\n",
    "    \n",
    "    @property\n",
    "    def date(self):\n",
    "        # self refers to the object, which in this case is a subclass of dict\n",
    "        # the .get method for dict objects retrieves the value if the key exists,\n",
    "        # otherwise it returns the default value\n",
    "        changed = self.get('changed', None)\n",
    "        if changed is not None:\n",
    "            try:\n",
    "                date = changed.split()[1]\n",
    "            except IndexError:\n",
    "                return '17000101'\n",
    "        else:\n",
    "            try:\n",
    "                date = self['last-modified'].replace('-', '')\n",
    "            except KeyError:\n",
    "                return '16000101'\n",
    "        return date\n",
    "    \n",
    "    \n",
    "def parse_irr(filename):\n",
    "    \n",
    "    with gzip.open(filename, 'rt', encoding='latin-1') as f:\n",
    "        items = []  # list to hold whois items\n",
    "        item = Entry()  # an object to hold an individual entry\n",
    "\n",
    "        # Iterate over the lines in the whois file\n",
    "        for line in f:\n",
    "            ol = line  # original version of the line\n",
    "            line = line.strip()  # get rid of whitespace at beginning and end of the line\n",
    "\n",
    "            # If the original line is not just a newline character,\n",
    "            # and the line is only whitespace or starts with a comment character,\n",
    "            # skip the line\n",
    "            if ol != '\\n' and (not line or line[0] == '#'):\n",
    "                continue\n",
    "\n",
    "            # If the line is not just whitespace\n",
    "            if line:\n",
    "                \n",
    "                # if original line start with whitespace, append it to previous value\n",
    "                if re.match(r'\\s', ol):\n",
    "                    try:\n",
    "                        item[k] += '\\n' + line\n",
    "                        continue\n",
    "                    except:\n",
    "                        print(item)\n",
    "                        continue\n",
    "                \n",
    "                # See if the line matches the regex\n",
    "                m = split.match(line)\n",
    "                # If it does\n",
    "                if m:\n",
    "                    # There are 2 possible matching groups, so assign them to k and v\n",
    "                    k, v = m.groups()\n",
    "                    # If the key is already in the item, concatenate the value to the existing value\n",
    "                    if k in item and k != 'origin':\n",
    "                        try:\n",
    "                            item[k] += '\\n' + v\n",
    "                        except:\n",
    "                            print(item)\n",
    "                    # When the key does not yet exist in the item, add the key and value\n",
    "                    else:\n",
    "                        try:\n",
    "                            item[k] = v\n",
    "                        except:\n",
    "                            print(item)\n",
    "                # If it does not match\n",
    "                else:\n",
    "                    # Add the value to the previous key in the item\n",
    "                    # This is a value with newline breaks\n",
    "                    try:\n",
    "                        item[k] += '\\n' + line\n",
    "                    except:\n",
    "                        item[k] = line\n",
    "\n",
    "            # If the line is just a newline break, finish the current item, and start a new one\n",
    "            else:\n",
    "                if item:\n",
    "                    items.append(item)  # Add item to list of items\n",
    "                    item = Entry()  # Start new item\n",
    "    return items"
   ]
  },
  {
   "cell_type": "markdown",
   "id": "98c3b746",
   "metadata": {},
   "source": [
    "## fname in the function below should be the file path to the IRR dump file you just downloaded\n",
    "\n",
    "Example filename: `radb.db.gz`"
   ]
  },
  {
   "cell_type": "code",
   "execution_count": 15,
   "id": "5536e54b",
   "metadata": {},
   "outputs": [],
   "source": [
    "def build_json(fname):\n",
    "    provider = fname[fname.rfind('/')+1:fname.find('.db')]\n",
    "        \n",
    "    if provider == 'apnic':\n",
    "        provider = fname[fname.rfind('/')+1:fname.find('.gz')]\n",
    "        \n",
    "    routeobjs = parse_irr(fname)\n",
    "    df = pd.DataFrame([i for i in routeobjs if 'route' in i])\n",
    "    df.to_json('data/{}.route.json.gz'.format(provider), orient='records', lines=True)"
   ]
  },
  {
   "cell_type": "markdown",
   "id": "d1b6dafd",
   "metadata": {},
   "source": [
    "## call this function to generate json file"
   ]
  },
  {
   "cell_type": "code",
   "execution_count": null,
   "id": "ae4a2f2b",
   "metadata": {
    "scrolled": true
   },
   "outputs": [],
   "source": [
    "build_json('filename') ## replace filename with file path"
   ]
  },
  {
   "cell_type": "code",
   "execution_count": null,
   "id": "1db8db20",
   "metadata": {},
   "outputs": [],
   "source": []
  }
 ],
 "metadata": {
  "kernelspec": {
   "display_name": "Python 3 (ipykernel)",
   "language": "python",
   "name": "python3"
  },
  "language_info": {
   "codemirror_mode": {
    "name": "ipython",
    "version": 3
   },
   "file_extension": ".py",
   "mimetype": "text/x-python",
   "name": "python",
   "nbconvert_exporter": "python",
   "pygments_lexer": "ipython3",
   "version": "3.9.1"
  },
  "toc": {
   "base_numbering": 1,
   "nav_menu": {},
   "number_sections": true,
   "sideBar": true,
   "skip_h1_title": false,
   "title_cell": "Table of Contents",
   "title_sidebar": "Contents",
   "toc_cell": false,
   "toc_position": {},
   "toc_section_display": true,
   "toc_window_display": false
  }
 },
 "nbformat": 4,
 "nbformat_minor": 5
}
